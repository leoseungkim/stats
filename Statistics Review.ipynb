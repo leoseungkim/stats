{
 "cells": [
  {
   "cell_type": "markdown",
   "metadata": {},
   "source": [
    "# Statistics Review\n",
    "\n",
    "## Inferential Statistics\n",
    "\n",
    "**Inferential statistics** tries to go a step further, from merely describing some sample to inferring something about the population from it. Descriptive statistics simply describes that two samples have different means; inferential statistics infers whether this difference is *reliably real* or due to chance.\n",
    "\n",
    "The **t-Test** is one test to make inferences. It compares the variance between groups against the variance within groups:\n",
    "\n",
    "$$\\frac{\\overline{x}-\\mu}{s/\\sqrt{n}}$$\n",
    "\n",
    "Or, put more simply, \n",
    "\n",
    "$$\\frac{\\text{variance between groups}}{\\text{variance within groups}}.$$\n",
    "\n",
    "So, if the variance between groups is larger than the variance within groups, then we get a larger t-statistic, and a larger t-statistic suggests that the groups are reliably different. \n",
    "\n",
    "But how do we know whether a t-statistic is 'big enough'? Each t-statistic comes with a **p-value**, the probability that the observed t-statistic could occur due to chance rather than due to a reliable difference between the groups. For example, if $p=0.05$, then there is only a 5% chance that the difference is due to chance.\n",
    "\n",
    "\n"
   ]
  },
  {
   "cell_type": "code",
   "execution_count": null,
   "metadata": {},
   "outputs": [],
   "source": []
  }
 ],
 "metadata": {
  "kernelspec": {
   "display_name": "R",
   "language": "R",
   "name": "ir"
  },
  "language_info": {
   "codemirror_mode": "r",
   "file_extension": ".r",
   "mimetype": "text/x-r-source",
   "name": "R",
   "pygments_lexer": "r",
   "version": "4.0.2"
  }
 },
 "nbformat": 4,
 "nbformat_minor": 4
}
