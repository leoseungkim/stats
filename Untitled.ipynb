{
 "cells": [
  {
   "cell_type": "markdown",
   "metadata": {},
   "source": [
    "# **Midterm Exam**\n",
    "\n",
    "### Seung Kim\n",
    "### November 3, 2020"
   ]
  },
  {
   "cell_type": "markdown",
   "metadata": {},
   "source": [
    "**Lepore, Fernandez-Berrocal, Ragan, and Ramos (2004) examined the effects of different social conditions on participants’ emotional responses to a stressful event. In one of their studies, college women viewed a video dramatizing a real-life sexual assault over two sessions. After viewing the video in Session 1, participants were randomly assigned to one of four conditions: no talk (1), talk (2), validating (3), or challenging (4). Participants randomized to the no-talk control condition remained alone after viewing the video and did not disclose any of their thoughts or feelings. Participants randomized to the talk condition remained alone after the viewing while they talked aloud about their thoughts and feelings relating to the scene. Participants in the validate condition disclosed their thoughts and feelings about the assault scene to a woman confederate who validated the participant’s disclosure. Participants randomized to the challenge condition disclosed their thoughts and feelings about the scene to a woman confederate who challenged them to consider taking a less threatening perspective on the scene. In Session 2, which was 48 hours later, participants returned to the lab and were asked to relax for 5 minutes. Then, they were re-exposed to the same scene. At the end of Session 2, data were collected on physiological and psychological distress variables. The dataset you will use for these questions contains a measure of psychological distress, where higher scores indicate greater distress.**"
   ]
  },
  {
   "cell_type": "markdown",
   "metadata": {},
   "source": [
    "**1. Using R, obtain descriptive statistics and make boxplots showing the distribution of distress scores by treatment group.**"
   ]
  },
  {
   "cell_type": "markdown",
   "metadata": {},
   "source": [
    "**Solution.** "
   ]
  },
  {
   "cell_type": "code",
   "execution_count": null,
   "metadata": {},
   "outputs": [],
   "source": []
  },
  {
   "cell_type": "markdown",
   "metadata": {},
   "source": [
    "**2. Evaluate the assumptions of normality and homogeneity of variance, including any relevant plots. What do you conclude about these assumptions?**"
   ]
  },
  {
   "cell_type": "markdown",
   "metadata": {},
   "source": [
    "**3. Using R, conduct the omnibus test (within a GLM framework) that all group means are the same. Write out the full and restricted models using the cell means parameterization, identifying the meaning of each term. What conclusion can you draw from the omnibus test?**"
   ]
  },
  {
   "cell_type": "markdown",
   "metadata": {},
   "source": [
    "**4. Report and interpret $R^2$ for the full model.**"
   ]
  },
  {
   "cell_type": "markdown",
   "metadata": {},
   "source": [
    "**5. Suppose you are interested in whether there is an effect of talking about one’s thoughts and feelings, whether to oneself or to a confederate, compared to not talking. Come up with the appropriate contrast coefficients and test the contrast for significance using R. Report the point estimate and 95% confidence interval for the mean difference. What do you conclude?**"
   ]
  },
  {
   "cell_type": "markdown",
   "metadata": {},
   "source": [
    "**6. Test whether there is a difference between the validating and challenging conditions. Report the point estimate and 95% confidence interval for the mean difference. What do you conclude?**"
   ]
  },
  {
   "cell_type": "markdown",
   "metadata": {},
   "source": [
    "**7. Come up with the last remaining contrast that will make an orthogonal set (after including the ones you tested in #5 and #6). Test this contrast for significance using R. Report the point estimate and 95% confidence interval for the mean difference. What do you conclude?**"
   ]
  },
  {
   "cell_type": "markdown",
   "metadata": {},
   "source": [
    "**8. Calculate the standardized mean difference for the contrast in #5. Report the point estimate as well as the confidence interval. Comment on the size of the effect for this contrast.**"
   ]
  },
  {
   "cell_type": "markdown",
   "metadata": {},
   "source": [
    "**9. Calculate $R_{alerting}^2$ and $R_{effect size}^2$ for the contrast in #5. Which estimate is larger, and why?**"
   ]
  },
  {
   "cell_type": "markdown",
   "metadata": {},
   "source": [
    "**10. Using the sum of square values for the contrasts, show that the three contrasts you tested form an orthogonal set.**"
   ]
  },
  {
   "cell_type": "markdown",
   "metadata": {},
   "source": [
    "**A researcher is interested in what therapeutic strategies will best engage refugees in a treatment for post-traumatic stress disorder (PTSD). The researcher recruited 18 refugees and randomly assigned them to one of 3 equally sized groups. In each group, a different semi-structured interview was administered as if it were the first therapy session, and then the client was asked to rate on a scale from 1 to 100 how engaged they felt, where higher scores indicate feelings of greater engagement. The first group was given a standard PTSD semi-structured intake interview, the second group was given an interview that focused on post-traumatic growth, and the third group was given an interview that focused on post-traumatic growth and was culturally adapted. Summary statistics for the data are presented below.**\n",
    "\n",
    "| Standard Interview | Post-Traumatic Growth Interview | Culturally Adapted Interview |\n",
    "|--------------------|---------------------------------|------------------------------|\n",
    "| $\\bar{Y}=45$       | $\\bar{Y}=53$                    | $\\bar{Y}=64$                 |\n",
    "| $s=10$             | $s=11$                          | $s=12$                       |"
   ]
  },
  {
   "cell_type": "markdown",
   "metadata": {},
   "source": [
    "**11. Using the effects parameterization, state the full and restricted models being compared in an omnibus one-way ANOVA of these data. Report the estimated parameter values (1 $μ$ and 3 $α_j$s), and the degrees of freedom associated with each model.**"
   ]
  },
  {
   "cell_type": "markdown",
   "metadata": {},
   "source": [
    "**12. Using the information provided, fill in the blank ANOVA table below. Show your work for any relevant calculations.**"
   ]
  },
  {
   "cell_type": "markdown",
   "metadata": {},
   "source": [
    "**Solution.**\n",
    "\n",
    "|           | Sum of Squares | $df$ | Mean Square | $F$ | $p$ |\n",
    "|-----------|----------------|----|-------------|---|---|\n",
    "| Therapy   |                |    |             |   |   |\n",
    "| Residuals |                |    |             |   |   |\n",
    "| Total     |                |    |             |   |   |"
   ]
  },
  {
   "cell_type": "markdown",
   "metadata": {},
   "source": [
    "**13. By hand, use a contrast to test whether engagement differs between the standard interview and the culturally adapted interview. Show all of your work.**\n",
    "\n",
    "**14. Calculate $\\hat{f}_{obv}$ and $\\hat{f}_{med}$. Which estimate is larger, and why?**\n",
    "\n",
    "**15. Suppose that you are planning a replication study, and to be conservative, you’d like to be able to detect a smaller effect than the one you observed in this study. Using $\\hat{f}_{.20}$ as an estimate of the effect size, carry out a power analysis to determine how many people you will need per group. Assume that $α=.05$ and you want 80% power.**\n"
   ]
  }
 ],
 "metadata": {
  "kernelspec": {
   "display_name": "R",
   "language": "R",
   "name": "ir"
  },
  "language_info": {
   "codemirror_mode": "r",
   "file_extension": ".r",
   "mimetype": "text/x-r-source",
   "name": "R",
   "pygments_lexer": "r",
   "version": "4.0.2"
  }
 },
 "nbformat": 4,
 "nbformat_minor": 4
}
