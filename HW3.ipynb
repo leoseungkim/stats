{
 "cells": [
  {
   "cell_type": "markdown",
   "metadata": {
    "id": "gnpNaenQb4rj"
   },
   "source": [
    "# **HW3: Power & Individual Comparisons**\n",
    "### Seung Kim\n",
    "### October 29, 2020\n",
    "\n",
    "In a study of a behavioral self-control intervention for problem drinkers, one of the less sensitive dependent variables was number of drinking days per week (Hester & Delaney, 1997). Forty participants were assigned randomly to either receive the intervention immediately or be in a waiting list control group (i.e., n=20 per group). At the initial follow-up assessment, the means and standard deviations on Drinking Days per Week were as follows:\n",
    "\n",
    "| Condition | Mean | SD   |\n",
    "|-----------|------|------|\n",
    "| Immediate | 3.65 | 1.57 |\n",
    "| Delayed   | 4.80 | 2.55 |\n",
    "\n",
    "\n",
    "Assume this set of data is being viewed as a pilot study for a proposed replication."
   ]
  },
  {
   "cell_type": "markdown",
   "metadata": {
    "id": "be4Y1o5GcUTa"
   },
   "source": [
    "1. **Conduct an ANOVA on these data, and compute as descriptive measures of the observed effect size both $d$ and $\\hat{f}_{obv}$.**\n",
    "\n",
    "\n"
   ]
  },
  {
   "cell_type": "markdown",
   "metadata": {
    "id": "I84ep8K7aysf"
   },
   "source": [
    "**Solution.** Let us start by articulating our models. Since the groups have equal sample sizes, we quickly get grand mean $\\hat{\\mu} = 4.225$. Then, we have the following models:\n",
    "\n",
    "* Full: $Y_{ij} = 4.225+\\alpha_j +\\epsilon_{ijF}$\n",
    "* Restricted: $Y_{ij} = 4.225+\\epsilon_{ijR}$\n",
    "\n",
    "OK. Now, we need the pieces for the $F$-statistic. Luckily, we have some shortcuts up our sleeve. Let's first get $E_R-E_F$: \n",
    "\n",
    "$$(E_R-E_F) = \\sum_{j=1}^a n_j(\\bar{Y}_j-\\bar{Y})^2 = 20(3.65-4.225)^2 + 20(4.80-4.225)^2 = 0.330625 \\times 2$$\n",
    "$$= 0.661$$\n",
    "\n",
    "And we can get the $\\frac{E_F}{df_F}$ as well:\n",
    "\n",
    "$$\\frac{E_F}{df_F} = \\frac{\\sum s^2_j}{a}= \\frac{1.57^2+2.55^2}{2}$$\n",
    "$$=4.484$$\n",
    "\n",
    "Cool. Now all we need is $df_R-df_F$. For the restricted model, we only estimate the grand mean, so $df_R = 40-1 = 39$; for the full model, we estimate the grand mean and one group mean so $df_F = 40-2=38$. So:\n",
    "\n",
    "$$(df_R-df_F) = 39-38$$\n",
    "$$=1$$\n",
    "\n",
    "So now let's bang out the $F$-statistic:\n",
    "\n",
    "$$F=\\frac{(E_R-E_F)/(df_R-df_F)}{E_F/df_F} = \\frac{0.661/1}{4.484}$$\n",
    "$$=0.147$$\n",
    "\n",
    "And get its $p$-value:\n",
    "\n",
    "$$F_{0.05;1,38} = 0.703556$$\n",
    "\n",
    "which is way above $\\alpha=0.05$. So the full model does not do significantly better than the restricted model, and there is not enough evidence to believe that immediate treatment significantly affects the number of drinking days per week compared to the control.\n",
    "\n"
   ]
  },
  {
   "cell_type": "code",
   "execution_count": 1,
   "metadata": {
    "colab": {
     "base_uri": "https://localhost:8080/",
     "height": 130
    },
    "id": "MWhMMBVNoPFc",
    "outputId": "c8656c5c-5358-43bd-b64a-92f7fbc1379b"
   },
   "outputs": [
    {
     "ename": "SyntaxError",
     "evalue": "ignored",
     "output_type": "error",
     "traceback": [
      "\u001b[0;36m  File \u001b[0;32m\"<ipython-input-1-6c7258208098>\"\u001b[0;36m, line \u001b[0;32m1\u001b[0m\n\u001b[0;31m    pf(0.147, 1, 38, lower.tail = FALSE)\u001b[0m\n\u001b[0m                    ^\u001b[0m\n\u001b[0;31mSyntaxError\u001b[0m\u001b[0;31m:\u001b[0m keyword can't be an expression\n"
     ]
    }
   ],
   "source": [
    "pf(0.147, 1, 38, lower.tail = FALSE)"
   ]
  },
  {
   "cell_type": "markdown",
   "metadata": {
    "id": "FQJwZhpXaxPL"
   },
   "source": [
    "2. **Determine the sample size that would be required to achieve a power of .80 using an $α$ of .05 if one used the value of $\\hat{f}_{obv}$ arrived at in #1 as the effect size measure in a power analysis.**\n",
    "\n",
    "3. **Now compute $f_{.50}$ and $f_{.33}$, the lower bounds of one-sided 50% and 66.7% confidence intervals for this effect size measure. Carry out a revised power analysis based on these two alternate effect size measures. How do the required sample sizes compare to what you found in #2? What does this tell you about how effect size relates to required sample size?**\n",
    "\n"
   ]
  },
  {
   "cell_type": "markdown",
   "metadata": {
    "id": "ZMsqTfMkcody"
   },
   "source": [
    "A graduate student has conducted a treatment study involving three treatments to alleviate depression. The first two groups are active treatment groups and the third group is a placebo control group. The following data are obtained:"
   ]
  },
  {
   "cell_type": "markdown",
   "metadata": {
    "id": "si925fgfcqKC"
   },
   "source": [
    "You may assume homogeneity of variance throughout all parts of this exercise. You may use aov() or lm() to obtain MS_within; otherwise, carry out all analyses by hand. It is fine to use R as a calculator for any necessary quantities – e.g., group means, ψ ̂, etc. – but please clearly show your calculations for SS_contrast and F_contrast.\n",
    "\n",
    "\n"
   ]
  },
  {
   "cell_type": "markdown",
   "metadata": {
    "id": "WlEp7y5CczwT"
   },
   "source": [
    "4. Test whether the mean of Active Treatment 1 is different from the mean of the Control group.\n",
    "5. Test whether the mean of Active Treatment 2 is different from the mean of the Control group.\n",
    "6. Test whether the mean of the two Active Treatment groups combined is different from the mean of the Control group (i.e., form a complex comparison).\n",
    "7. Form a 95% confidence interval for the mean difference between Active Treatment 1 and the Control group.\n",
    "8. Form a 95% confidence interval for the mean difference between Active Treatment 2 and the Control group.\n",
    "9. Form a 95% confidence interval for the difference between the mean of the two Active Treatment groups and the mean of the Control group.\n",
    "10. Which of your intervals in #7-#9 contain zero and which exclude zero? How does this relate to the tests you performed in #4-#6?"
   ]
  },
  {
   "cell_type": "code",
   "execution_count": null,
   "metadata": {
    "id": "EG7CVhUAb0n_"
   },
   "outputs": [],
   "source": []
  }
 ],
 "metadata": {
  "colab": {
   "collapsed_sections": [],
   "name": "Stats_HW3.ipynb",
   "provenance": []
  },
  "kernelspec": {
   "display_name": "Python 3",
   "language": "python",
   "name": "python3"
  },
  "language_info": {
   "codemirror_mode": {
    "name": "ipython",
    "version": 3
   },
   "file_extension": ".py",
   "mimetype": "text/x-python",
   "name": "python",
   "nbconvert_exporter": "python",
   "pygments_lexer": "ipython3",
   "version": "3.8.5"
  }
 },
 "nbformat": 4,
 "nbformat_minor": 1
}
