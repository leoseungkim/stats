{
 "cells": [
  {
   "cell_type": "markdown",
   "metadata": {},
   "source": [
    "# **Final Exam**\n",
    "\n",
    "### Seung Kim\n",
    "### December 16, 2020"
   ]
  },
  {
   "cell_type": "markdown",
   "metadata": {},
   "source": [
    "**1. For a fixed total $N$, the adequacy of a model is *inversely* related to the sum of its squared errors of prediction, and the simplicity of a model is *inversely* related to its degrees of freedom.**"
   ]
  },
  {
   "cell_type": "markdown",
   "metadata": {},
   "source": [
    "**Solution.**\n",
    "\n",
    "* a. directly; directly\n",
    "* b. directly; inversely\n",
    "* c. inversely; directly\n",
    "* **d. inversely; inversely**\n",
    "\n",
    "By way of explanation, the most adequate model has a sum of squared errors of 0 (i.e. it predicts everything perfectly), and the most simple model estimates the least parameters (I don't know if it's possible for a model to estimate *no* parameters). \n",
    "\n",
    "But since life is complex, increasing adequacy tends to come at a tradeoff of decreased simplicity, and vice versa."
   ]
  },
  {
   "cell_type": "markdown",
   "metadata": {},
   "source": [
    "**2a.\tA sample of size 25 is drawn from a population having a mean of 70 and a standard deviation of 25. What is the standard error of the sample mean?**"
   ]
  },
  {
   "cell_type": "markdown",
   "metadata": {},
   "source": [
    "**Solution.**\n",
    "\n",
    "$$SE = \\frac{\\sigma}{\\sqrt{n}} = \\frac{25}{5}=5$$"
   ]
  },
  {
   "cell_type": "markdown",
   "metadata": {},
   "source": [
    "**2b. A sample of size 25 is drawn from a population having a mean of 90 and a standard deviation of 60. What is the standard error of this sample mean?**"
   ]
  },
  {
   "cell_type": "markdown",
   "metadata": {},
   "source": [
    "**Solution.**\n",
    "\n",
    "$$SE = \\frac{\\sigma}{\\sqrt{n}} = \\frac{60}{5}=12$$\n",
    "\n",
    "The population mean is already taken into account in the standard deviation for both 2a and 2b."
   ]
  },
  {
   "cell_type": "markdown",
   "metadata": {},
   "source": [
    "**2c.\tAssume the process of sampling is done repeatedly as described in parts (a) and (b), and at each stage you compute the difference between the sample mean from part (b) and the sample mean from part (a).**\n",
    "\n",
    "* i.\tThe distribution of values of the difference between the sample means over such repeated samplings from the population is known as a <u>*sampling*</u> distribution *(of differences of means)*.\n",
    "\n",
    "* ii.\tThe mean of the distribution described in (i) would be <u>20</u>. *Since $E(A-B) = E(A)-E(B)$*\n",
    "\n",
    "* iii.\tThe standard deviation of the distribution described in (i) would be <u>13</u>. *Using $\\sqrt{\\frac{\\sigma_1^2}{n_1}+\\frac{\\sigma_2^2}{n_2}}$, which I don't actually quite understand*"
   ]
  },
  {
   "cell_type": "code",
   "execution_count": 278,
   "metadata": {},
   "outputs": [
    {
     "data": {
      "text/html": [
       "13"
      ],
      "text/latex": [
       "13"
      ],
      "text/markdown": [
       "13"
      ],
      "text/plain": [
       "[1] 13"
      ]
     },
     "metadata": {},
     "output_type": "display_data"
    }
   ],
   "source": [
    "sqrt((25^2)/25+(60^2)/25)"
   ]
  },
  {
   "cell_type": "markdown",
   "metadata": {},
   "source": [
    "**3. Explain the role of the sampling distribution in null hypothesis significance testing. How does the interpretation of a $p$-value relate to the sampling distribution of a test statistic?**"
   ]
  },
  {
   "cell_type": "markdown",
   "metadata": {},
   "source": [
    "**Solution.** While there is no guarantee that the population is normally distributed, the central limit theorem states that we can expect the sampling distribution (of sample means) to approach a normal shape as the sample size increases regardless of the shape of the population distribution. This is great news because, now, we can assume that our sample mean is a score on a normal distribution which means that we can obtain the probability of seeing that sample mean or more extreme (the $p$-value) without going out and empirically building a population distribution (which would be, in the vast majority of cases, impossible). "
   ]
  },
  {
   "cell_type": "markdown",
   "metadata": {},
   "source": [
    "**4.\tYou recently read about the benefits that laughter can have on health, and you decided to conduct a pilot study to investigate the most effective method for inducing laughter. You recruited undergraduates from Boston College and randomly assigned them to one of three groups. The first group watched an hour of The Office, the second group listened to an hour of an audio recording of Dave Chapelle doing stand-up comedy, and the third group read a book of knock-knock jokes for an hour. There were an equal number of participants in each group. The participants were video-taped, and trained raters determined how much time (in minutes) each participant spent laughing. You conduct an omnibus one-way ANOVA and the results of your pilot study are presented below.**\n",
    "\n",
    "|                | Sum of Squares | df | Mean Square | F     | Sig. |\n",
    "|----------------|----------------|------|-------------|---------|------|\n",
    "| Between Groups | 490.000        | 2    | 245.000     | 4.836   | .029 |\n",
    "| Within Groups  | 608.000        | 12   | 50.667      |         |      |\n",
    "\n",
    "**You’d like to apply for a grant that will allow you to further study these effects in a population of heart disease patients. The grant source is requiring that your proposed study demonstrate a power of at least .80. Calculate the required sample size that you would need to fulfill the grant agency’s requirement (set $α=.05$ and use $\\hat{f}_{unb}$ as your effect size estimate, which you will need to calculate).**"
   ]
  },
  {
   "cell_type": "markdown",
   "metadata": {},
   "source": [
    "**Solution.** We have:\n",
    "\n",
    "* $a=3$ since there are three groups (Office, Chapelle, knock-knock);\n",
    "* $N = 3\\cdot(12+3) = 45$ since $df_{within}=12$ and $a=3$ so we can work backwards to find that $n=15$; and\n",
    "* $F=4.836$.\n",
    "\n",
    "Sehr gut. Then,\n",
    "\n",
    "$$\\hat{f}_{unb} = \\sqrt{\\frac{(a-1)}{N}\\cdot\\Big[\\Big(\\frac{N-a-2}{N-a}\\Big)F-1\\Big]}=\\sqrt{\\frac{(3-1)}{45}\\cdot\\Big[\\Big(\\frac{45-3-2}{45-3}\\Big)4.836-1\\Big]}$$\n",
    "$$=\\sqrt{\\frac{2}{45}\\cdot\\Big[\\Big(\\frac{40}{42}\\Big)4.836-1\\Big]} = 0.4003$$\n",
    "\n",
    "Encourangingly, it's above 0.4, so it counts as 'large effect size' (I think the knock-knock jokes weren't all that funny). All we have to do now is get our required sample size:"
   ]
  },
  {
   "cell_type": "code",
   "execution_count": 1,
   "metadata": {},
   "outputs": [],
   "source": [
    "library('pwr')"
   ]
  },
  {
   "cell_type": "code",
   "execution_count": 2,
   "metadata": {},
   "outputs": [
    {
     "data": {
      "text/plain": [
       "\n",
       "     Balanced one-way analysis of variance power calculation \n",
       "\n",
       "              k = 3\n",
       "              n = 21.07362\n",
       "              f = 0.4003\n",
       "      sig.level = 0.05\n",
       "          power = 0.8\n",
       "\n",
       "NOTE: n is number in each group\n"
      ]
     },
     "metadata": {},
     "output_type": "display_data"
    }
   ],
   "source": [
    "pwr.anova.test(k=3, f=0.4003, sig.level=0.05, power=0.80)"
   ]
  },
  {
   "cell_type": "markdown",
   "metadata": {},
   "source": [
    "Rounding up $n=21.07362$, we need $n=22$ participants per group or $N=66$ for the entire study."
   ]
  },
  {
   "cell_type": "markdown",
   "metadata": {},
   "source": [
    "**Researchers at the Boston College are interested in whether student performance is better when a class is taught by a professor as opposed to a graduate student. To test this hypothesis, they examine the final course average on a random sample of students from three sections of PSYC1111, all of which used the same text and grading scheme. Section 1 was taught by a tenured professor, section 2 by a non-tenured professor, and section 3 by a graduate student. The data can be found in a file called “Teaching.csv” in the final exam folder on Canvas. The instructor variable is coded such that 1 = Tenured Professor, 2 = Non-Tenured Professor, and 3 = Graduate Student.**"
   ]
  },
  {
   "cell_type": "code",
   "execution_count": 11,
   "metadata": {},
   "outputs": [],
   "source": [
    "library(psych)"
   ]
  },
  {
   "cell_type": "code",
   "execution_count": 17,
   "metadata": {},
   "outputs": [
    {
     "data": {
      "text/plain": [
       "\n",
       " Descriptive statistics by group \n",
       "group: Tenure\n",
       "   vars n mean  sd median trimmed   mad min max range  skew kurtosis   se\n",
       "X1    1 5   88 9.8     90      88 10.38  75  97    22 -0.23    -2.04 4.38\n",
       "------------------------------------------------------------ \n",
       "group: NonTenure\n",
       "   vars n mean   sd median trimmed  mad min max range skew kurtosis  se\n",
       "X1    1 5   89 6.48     85      89 2.97  83  97    14 0.28    -2.18 2.9\n",
       "------------------------------------------------------------ \n",
       "group: GradStudent\n",
       "   vars n mean  sd median trimmed  mad min max range skew kurtosis   se\n",
       "X1    1 5   76 9.9     75      76 7.41  65  91    26 0.38    -1.61 4.43"
      ]
     },
     "metadata": {},
     "output_type": "display_data"
    }
   ],
   "source": [
    "teaching = data.frame(read.csv('/Users/seung/Repositories/stats/Final/Teaching.csv'))\n",
    "teaching$Teacher = factor(teaching$Teacher, labels=c('Tenure', 'NonTenure', 'GradStudent'))\n",
    "describeBy(teaching$Grades, teaching$Teacher)"
   ]
  },
  {
   "cell_type": "code",
   "execution_count": 49,
   "metadata": {},
   "outputs": [
    {
     "name": "stderr",
     "output_type": "stream",
     "text": [
      "\n",
      "Attaching package: ‘ggplot2’\n",
      "\n",
      "\n",
      "The following objects are masked from ‘package:psych’:\n",
      "\n",
      "    %+%, alpha\n",
      "\n",
      "\n"
     ]
    }
   ],
   "source": [
    "library(ggplot2)"
   ]
  },
  {
   "cell_type": "code",
   "execution_count": 60,
   "metadata": {},
   "outputs": [
    {
     "data": {
      "image/png": "[encoded data removed]",
      "text/plain": [
       "plot without title"
      ]
     },
     "metadata": {
      "image/png": {
       "height": 420,
       "width": 420
      }
     },
     "output_type": "display_data"
    }
   ],
   "source": [
    "ggplot(teaching, aes(x=factor(Teacher), y=Grades, fill=Teacher))+\n",
    "            geom_boxplot(alpha=0.7) +\n",
    "            xlab(\"Teacher\") +\n",
    "            ylab(\"Grades\")"
   ]
  },
  {
   "cell_type": "code",
   "execution_count": 81,
   "metadata": {},
   "outputs": [
    {
     "data": {
      "text/html": [
       "<table>\n",
       "<caption>A data.frame: 15 × 2</caption>\n",
       "<thead>\n",
       "\t<tr><th scope=col>Grades</th><th scope=col>Teacher</th></tr>\n",
       "\t<tr><th scope=col>&lt;int&gt;</th><th scope=col>&lt;fct&gt;</th></tr>\n",
       "</thead>\n",
       "<tbody>\n",
       "\t<tr><td>97</td><td>Tenure     </td></tr>\n",
       "\t<tr><td>97</td><td>Tenure     </td></tr>\n",
       "\t<tr><td>90</td><td>Tenure     </td></tr>\n",
       "\t<tr><td>75</td><td>Tenure     </td></tr>\n",
       "\t<tr><td>81</td><td>Tenure     </td></tr>\n",
       "\t<tr><td>95</td><td>NonTenure  </td></tr>\n",
       "\t<tr><td>85</td><td>NonTenure  </td></tr>\n",
       "\t<tr><td>85</td><td>NonTenure  </td></tr>\n",
       "\t<tr><td>97</td><td>NonTenure  </td></tr>\n",
       "\t<tr><td>83</td><td>NonTenure  </td></tr>\n",
       "\t<tr><td>75</td><td>GradStudent</td></tr>\n",
       "\t<tr><td>65</td><td>GradStudent</td></tr>\n",
       "\t<tr><td>70</td><td>GradStudent</td></tr>\n",
       "\t<tr><td>79</td><td>GradStudent</td></tr>\n",
       "\t<tr><td>91</td><td>GradStudent</td></tr>\n",
       "</tbody>\n",
       "</table>\n"
      ],
      "text/latex": [
       "A data.frame: 15 × 2\n",
       "\\begin{tabular}{ll}\n",
       " Grades & Teacher\\\\\n",
       " <int> & <fct>\\\\\n",
       "\\hline\n",
       "\t 97 & Tenure     \\\\\n",
       "\t 97 & Tenure     \\\\\n",
       "\t 90 & Tenure     \\\\\n",
       "\t 75 & Tenure     \\\\\n",
       "\t 81 & Tenure     \\\\\n",
       "\t 95 & NonTenure  \\\\\n",
       "\t 85 & NonTenure  \\\\\n",
       "\t 85 & NonTenure  \\\\\n",
       "\t 97 & NonTenure  \\\\\n",
       "\t 83 & NonTenure  \\\\\n",
       "\t 75 & GradStudent\\\\\n",
       "\t 65 & GradStudent\\\\\n",
       "\t 70 & GradStudent\\\\\n",
       "\t 79 & GradStudent\\\\\n",
       "\t 91 & GradStudent\\\\\n",
       "\\end{tabular}\n"
      ],
      "text/markdown": [
       "\n",
       "A data.frame: 15 × 2\n",
       "\n",
       "| Grades &lt;int&gt; | Teacher &lt;fct&gt; |\n",
       "|---|---|\n",
       "| 97 | Tenure      |\n",
       "| 97 | Tenure      |\n",
       "| 90 | Tenure      |\n",
       "| 75 | Tenure      |\n",
       "| 81 | Tenure      |\n",
       "| 95 | NonTenure   |\n",
       "| 85 | NonTenure   |\n",
       "| 85 | NonTenure   |\n",
       "| 97 | NonTenure   |\n",
       "| 83 | NonTenure   |\n",
       "| 75 | GradStudent |\n",
       "| 65 | GradStudent |\n",
       "| 70 | GradStudent |\n",
       "| 79 | GradStudent |\n",
       "| 91 | GradStudent |\n",
       "\n"
      ],
      "text/plain": [
       "   Grades Teacher    \n",
       "1  97     Tenure     \n",
       "2  97     Tenure     \n",
       "3  90     Tenure     \n",
       "4  75     Tenure     \n",
       "5  81     Tenure     \n",
       "6  95     NonTenure  \n",
       "7  85     NonTenure  \n",
       "8  85     NonTenure  \n",
       "9  97     NonTenure  \n",
       "10 83     NonTenure  \n",
       "11 75     GradStudent\n",
       "12 65     GradStudent\n",
       "13 70     GradStudent\n",
       "14 79     GradStudent\n",
       "15 91     GradStudent"
      ]
     },
     "metadata": {},
     "output_type": "display_data"
    },
    {
     "data": {
      "text/html": [
       "<style>\n",
       ".list-inline {list-style: none; margin:0; padding: 0}\n",
       ".list-inline>li {display: inline-block}\n",
       ".list-inline>li:not(:last-child)::after {content: \"\\00b7\"; padding: 0 .5ex}\n",
       "</style>\n",
       "<ol class=list-inline><li>97</li><li>97</li><li>90</li><li>75</li><li>81</li><li>95</li><li>85</li><li>85</li><li>97</li><li>83</li><li>75</li><li>65</li><li>70</li><li>79</li><li>91</li></ol>\n"
      ],
      "text/latex": [
       "\\begin{enumerate*}\n",
       "\\item 97\n",
       "\\item 97\n",
       "\\item 90\n",
       "\\item 75\n",
       "\\item 81\n",
       "\\item 95\n",
       "\\item 85\n",
       "\\item 85\n",
       "\\item 97\n",
       "\\item 83\n",
       "\\item 75\n",
       "\\item 65\n",
       "\\item 70\n",
       "\\item 79\n",
       "\\item 91\n",
       "\\end{enumerate*}\n"
      ],
      "text/markdown": [
       "1. 97\n",
       "2. 97\n",
       "3. 90\n",
       "4. 75\n",
       "5. 81\n",
       "6. 95\n",
       "7. 85\n",
       "8. 85\n",
       "9. 97\n",
       "10. 83\n",
       "11. 75\n",
       "12. 65\n",
       "13. 70\n",
       "14. 79\n",
       "15. 91\n",
       "\n",
       "\n"
      ],
      "text/plain": [
       " [1] 97 97 90 75 81 95 85 85 97 83 75 65 70 79 91"
      ]
     },
     "metadata": {},
     "output_type": "display_data"
    }
   ],
   "source": [
    "teaching\n",
    "teaching$Grades"
   ]
  },
  {
   "cell_type": "markdown",
   "metadata": {},
   "source": [
    "**5. State the models being compared in an omnibus one-way ANOVA of these data (using the cell means parameterization). What restrictions on the parameters of the full model are being tested?**"
   ]
  },
  {
   "cell_type": "markdown",
   "metadata": {},
   "source": [
    "**Solution.** The full model assumes that the group means are different from the population mean, while the restricted model assumes that the group means are no different from the population mean (and necessarily that there is no difference between the groups). Since the grand mean is 84.333,\n",
    "\n",
    "* Full: $\\mu_j +\\epsilon_{ij}$\n",
    "* Restricted: $84.333+\\epsilon_{ij}$\n",
    "\n",
    "We are, in effect, testing whether the cost of estimating group mean parameters is worth the gain in fit."
   ]
  },
  {
   "cell_type": "markdown",
   "metadata": {},
   "source": [
    "**6. Using R, carry out the statistical test comparing these two models and state your conclusion.**\n"
   ]
  },
  {
   "cell_type": "markdown",
   "metadata": {},
   "source": [
    "**Solution.** We can quickly get the $F$-statistic:"
   ]
  },
  {
   "cell_type": "code",
   "execution_count": 20,
   "metadata": {},
   "outputs": [
    {
     "data": {
      "text/html": [
       "<table>\n",
       "<caption>A anova: 2 × 6</caption>\n",
       "<thead>\n",
       "\t<tr><th></th><th scope=col>Res.Df</th><th scope=col>RSS</th><th scope=col>Df</th><th scope=col>Sum of Sq</th><th scope=col>F</th><th scope=col>Pr(&gt;F)</th></tr>\n",
       "\t<tr><th></th><th scope=col>&lt;dbl&gt;</th><th scope=col>&lt;dbl&gt;</th><th scope=col>&lt;dbl&gt;</th><th scope=col>&lt;dbl&gt;</th><th scope=col>&lt;dbl&gt;</th><th scope=col>&lt;dbl&gt;</th></tr>\n",
       "</thead>\n",
       "<tbody>\n",
       "\t<tr><th scope=row>1</th><td>14</td><td>1467.333</td><td>NA</td><td>      NA</td><td>      NA</td><td>        NA</td></tr>\n",
       "\t<tr><th scope=row>2</th><td>12</td><td> 944.000</td><td> 2</td><td>523.3333</td><td>3.326271</td><td>0.07090213</td></tr>\n",
       "</tbody>\n",
       "</table>\n"
      ],
      "text/latex": [
       "A anova: 2 × 6\n",
       "\\begin{tabular}{r|llllll}\n",
       "  & Res.Df & RSS & Df & Sum of Sq & F & Pr(>F)\\\\\n",
       "  & <dbl> & <dbl> & <dbl> & <dbl> & <dbl> & <dbl>\\\\\n",
       "\\hline\n",
       "\t1 & 14 & 1467.333 & NA &       NA &       NA &         NA\\\\\n",
       "\t2 & 12 &  944.000 &  2 & 523.3333 & 3.326271 & 0.07090213\\\\\n",
       "\\end{tabular}\n"
      ],
      "text/markdown": [
       "\n",
       "A anova: 2 × 6\n",
       "\n",
       "| <!--/--> | Res.Df &lt;dbl&gt; | RSS &lt;dbl&gt; | Df &lt;dbl&gt; | Sum of Sq &lt;dbl&gt; | F &lt;dbl&gt; | Pr(&gt;F) &lt;dbl&gt; |\n",
       "|---|---|---|---|---|---|---|\n",
       "| 1 | 14 | 1467.333 | NA |       NA |       NA |         NA |\n",
       "| 2 | 12 |  944.000 |  2 | 523.3333 | 3.326271 | 0.07090213 |\n",
       "\n"
      ],
      "text/plain": [
       "  Res.Df RSS      Df Sum of Sq F        Pr(>F)    \n",
       "1 14     1467.333 NA       NA        NA         NA\n",
       "2 12      944.000  2 523.3333  3.326271 0.07090213"
      ]
     },
     "metadata": {},
     "output_type": "display_data"
    }
   ],
   "source": [
    "full = aov(Grades ~ Teacher, data=teaching)\n",
    "restr = aov(Grades ~ 1, data=teaching)\n",
    "anova(restr, full)"
   ]
  },
  {
   "cell_type": "markdown",
   "metadata": {},
   "source": [
    "Our $df_F = 12$ and our $df_R = 14$. So,"
   ]
  },
  {
   "cell_type": "code",
   "execution_count": 21,
   "metadata": {},
   "outputs": [
    {
     "data": {
      "text/html": [
       "0.0709021356644352"
      ],
      "text/latex": [
       "0.0709021356644352"
      ],
      "text/markdown": [
       "0.0709021356644352"
      ],
      "text/plain": [
       "[1] 0.07090214"
      ]
     },
     "metadata": {},
     "output_type": "display_data"
    }
   ],
   "source": [
    "pf(3.326271, 2, 12, lower.tail = FALSE)"
   ]
  },
  {
   "cell_type": "markdown",
   "metadata": {},
   "source": [
    "The full model does *not* do significantly better than the restricted model. There is not enough evidence to conclude that there is a difference in student outcomes when taught by either a tenured professor, non-tenured professor, or a graduate student. This is surprising, since in the graph, it looked like there was a really large difference, at least between the Professors vs. the Grad Student conditions."
   ]
  },
  {
   "cell_type": "markdown",
   "metadata": {},
   "source": [
    "**7. Specify the coefficients of the contrast that is most relevant to the researchers’ hypothesis, and carry out an appropriate test of this contrast. What do you conclude based on this test?**"
   ]
  },
  {
   "cell_type": "markdown",
   "metadata": {},
   "source": [
    "**Solution.** Q6 didn't address the researcher's (null) hypothesis that there is no difference between student outcomes with Tenured & Non-tenured Professors (together) vs. Grad Student conditions. The contrast we need to test this hypothesis is:\n",
    "\n",
    "$$c = \\Big[\\frac{1}{2}, \\frac{1}{2}, -1\\Big]$$\n",
    "\n",
    "Let's quickly calculate $\\psi$:\n",
    "\n",
    "$$\\hat{\\psi} = \\Big(\\frac{1}{2}\\Big)88 + \\Big(\\frac{1}{2}\\Big)89 + (-1)76 = 12.5$$\n",
    "\n",
    "This means that the students taught by tenured & non-tenured professors, combined, did 12.5 points better on average than students taught by grad students. Now let's see if this difference is significant. Because R will not cooperate with me, I will have to do this by hand."
   ]
  },
  {
   "cell_type": "markdown",
   "metadata": {},
   "source": [
    "Since there are $n=5$ scores per group,\n",
    "\n",
    "$$E_R - E_F = \\frac{\\hat{\\psi}^2}{\\sum_{j=1}^{a}\\Big(\\frac{c^2_j}{n_j}\\Big)} = \\frac{156.25}{\\frac{0.25}{5}+\\frac{0.25}{5}+\\frac{1}{5}} = \\frac{156.25}{\\frac{1.5}{5}}=520.833$$"
   ]
  },
  {
   "cell_type": "markdown",
   "metadata": {},
   "source": [
    "We know that $df_F = 12$ since we've estimated 3 parameters ($\\mu, \\alpha_1, \\alpha_2$), and our $df_R = 14$ since we only estimate 1 (the $\\mu$). So, our $df_R-df_F = 2$ and\n",
    "\n",
    "$$MS_{between} = 520.833/2 = 260.417$$"
   ]
  },
  {
   "cell_type": "markdown",
   "metadata": {},
   "source": [
    "And, since $MS_{within}$ is just the average of group variances,\n",
    "\n",
    "$$MS_{within} = \\frac{9.8^2+6.48^2+9.9^2}{3} = 78.6801$$"
   ]
  },
  {
   "cell_type": "markdown",
   "metadata": {},
   "source": [
    "Then, finally,\n",
    "\n",
    "$$F = \\frac{260.417}{78.680} = 3.3098$$"
   ]
  },
  {
   "cell_type": "markdown",
   "metadata": {},
   "source": [
    "We're not done yet. We have to find the $p$-value. "
   ]
  },
  {
   "cell_type": "code",
   "execution_count": 72,
   "metadata": {},
   "outputs": [
    {
     "data": {
      "text/html": [
       "0.0716581175012646"
      ],
      "text/latex": [
       "0.0716581175012646"
      ],
      "text/markdown": [
       "0.0716581175012646"
      ],
      "text/plain": [
       "[1] 0.07165812"
      ]
     },
     "metadata": {},
     "output_type": "display_data"
    }
   ],
   "source": [
    "pf(3.3098, 2, 12, lower.tail=FALSE)"
   ]
  },
  {
   "cell_type": "markdown",
   "metadata": {},
   "source": [
    "Surprisingly, it's *still* not significant! There is not enough evidence for us to say that student outcomes are significantly better when taught by professors (tenured or not) versus by grad students."
   ]
  },
  {
   "cell_type": "markdown",
   "metadata": {},
   "source": [
    "**8. What proportion of the variability in the students’ scores is explained by this contrast?**"
   ]
  },
  {
   "cell_type": "markdown",
   "metadata": {},
   "source": [
    "**Solution.** We want the $R^2_{effect\\, size}$, the proportion that this contrast accounts for out of the total variability in the student scores. \n",
    "\n",
    "Since $SS(\\psi) = E_R-E_F = 520.833$ from the contrast, and $SS_{total} = SS_{within} + SS_{between} = 1467.333$ from the ANOVA, \n",
    "\n",
    "$$520.833/1467.3333 = 0.355$$\n",
    "\n",
    "The contrast between professors and grad students captures 35.5% of the total variability in students' scores. So I'm still very surprised that it's not significant. "
   ]
  },
  {
   "cell_type": "code",
   "execution_count": 85,
   "metadata": {},
   "outputs": [
    {
     "data": {
      "text/html": [
       "<table>\n",
       "<caption>A anova: 2 × 6</caption>\n",
       "<thead>\n",
       "\t<tr><th></th><th scope=col>Res.Df</th><th scope=col>RSS</th><th scope=col>Df</th><th scope=col>Sum of Sq</th><th scope=col>F</th><th scope=col>Pr(&gt;F)</th></tr>\n",
       "\t<tr><th></th><th scope=col>&lt;dbl&gt;</th><th scope=col>&lt;dbl&gt;</th><th scope=col>&lt;dbl&gt;</th><th scope=col>&lt;dbl&gt;</th><th scope=col>&lt;dbl&gt;</th><th scope=col>&lt;dbl&gt;</th></tr>\n",
       "</thead>\n",
       "<tbody>\n",
       "\t<tr><th scope=row>1</th><td>14</td><td>1467.333</td><td>NA</td><td>      NA</td><td>      NA</td><td>        NA</td></tr>\n",
       "\t<tr><th scope=row>2</th><td>12</td><td> 944.000</td><td> 2</td><td>523.3333</td><td>3.326271</td><td>0.07090213</td></tr>\n",
       "</tbody>\n",
       "</table>\n"
      ],
      "text/latex": [
       "A anova: 2 × 6\n",
       "\\begin{tabular}{r|llllll}\n",
       "  & Res.Df & RSS & Df & Sum of Sq & F & Pr(>F)\\\\\n",
       "  & <dbl> & <dbl> & <dbl> & <dbl> & <dbl> & <dbl>\\\\\n",
       "\\hline\n",
       "\t1 & 14 & 1467.333 & NA &       NA &       NA &         NA\\\\\n",
       "\t2 & 12 &  944.000 &  2 & 523.3333 & 3.326271 & 0.07090213\\\\\n",
       "\\end{tabular}\n"
      ],
      "text/markdown": [
       "\n",
       "A anova: 2 × 6\n",
       "\n",
       "| <!--/--> | Res.Df &lt;dbl&gt; | RSS &lt;dbl&gt; | Df &lt;dbl&gt; | Sum of Sq &lt;dbl&gt; | F &lt;dbl&gt; | Pr(&gt;F) &lt;dbl&gt; |\n",
       "|---|---|---|---|---|---|---|\n",
       "| 1 | 14 | 1467.333 | NA |       NA |       NA |         NA |\n",
       "| 2 | 12 |  944.000 |  2 | 523.3333 | 3.326271 | 0.07090213 |\n",
       "\n"
      ],
      "text/plain": [
       "  Res.Df RSS      Df Sum of Sq F        Pr(>F)    \n",
       "1 14     1467.333 NA       NA        NA         NA\n",
       "2 12      944.000  2 523.3333  3.326271 0.07090213"
      ]
     },
     "metadata": {},
     "output_type": "display_data"
    }
   ],
   "source": [
    "anova(restr, full)"
   ]
  },
  {
   "cell_type": "markdown",
   "metadata": {},
   "source": [
    "**9. After the first analysis was conducted, another researcher takes a look at the results and concludes that there is an additional contrast of interest and tests the difference between the teaching skill of the non-tenured professor and the graduate student. Additionally, this researcher believes it is necessary to report confidence intervals for the contrasts. By what method should the second researcher control for multiple comparisons (assuming he wants to look at both contrasts)? Why? What is the new $F$ critical value?**"
   ]
  },
  {
   "cell_type": "markdown",
   "metadata": {},
   "source": [
    "**Solution.** Since we're making a post-hoc comparison, we should not use Bonferroni; and since we are not making all (3) possible contrasts, we should not use Tukey's HSD. Our best option is Scheffé's correction, used for complex comparisons that we did not plan.\n",
    "\n",
    "So let's get it. We have $a=3$ since there are three groups, and $N=15$. Then, \n",
    "\n",
    "$$F_{Scheffé}=(a-1)F_{0.05; a-1, N-a}=2F_{0.05;2,13} = 7.611$$\n",
    "\n",
    "That's our new critical $F$ value, and it's really steep."
   ]
  },
  {
   "cell_type": "code",
   "execution_count": 87,
   "metadata": {},
   "outputs": [
    {
     "data": {
      "text/html": [
       "7.61113050595612"
      ],
      "text/latex": [
       "7.61113050595612"
      ],
      "text/markdown": [
       "7.61113050595612"
      ],
      "text/plain": [
       "[1] 7.611131"
      ]
     },
     "metadata": {},
     "output_type": "display_data"
    }
   ],
   "source": [
    "2*(qf(0.05, 2, 13, lower.tail=FALSE))"
   ]
  },
  {
   "cell_type": "markdown",
   "metadata": {},
   "source": [
    "**10. Use R to determine the limits of the confidence intervals for both contrasts. Based on the confidence intervals, what would the second researcher conclude about the statistical significance of these two contrasts?**"
   ]
  },
  {
   "cell_type": "markdown",
   "metadata": {},
   "source": [
    "**Solution.**"
   ]
  },
  {
   "cell_type": "code",
   "execution_count": 100,
   "metadata": {},
   "outputs": [],
   "source": [
    "library(MBESS, warn.conflicts=FALSE)"
   ]
  },
  {
   "cell_type": "code",
   "execution_count": 98,
   "metadata": {},
   "outputs": [
    {
     "data": {
      "text/html": [
       "<dl>\n",
       "\t<dt>$Lower.Conf.Limit.Contrast</dt>\n",
       "\t\t<dd>1.91446035854578</dd>\n",
       "\t<dt>$Contrast</dt>\n",
       "\t\t<dd>12.5</dd>\n",
       "\t<dt>$Upper.Conf.Limit.Contrast</dt>\n",
       "\t\t<dd>23.0855396414542</dd>\n",
       "</dl>\n"
      ],
      "text/latex": [
       "\\begin{description}\n",
       "\\item[\\$Lower.Conf.Limit.Contrast] 1.91446035854578\n",
       "\\item[\\$Contrast] 12.5\n",
       "\\item[\\$Upper.Conf.Limit.Contrast] 23.0855396414542\n",
       "\\end{description}\n"
      ],
      "text/markdown": [
       "$Lower.Conf.Limit.Contrast\n",
       ":   1.91446035854578\n",
       "$Contrast\n",
       ":   12.5\n",
       "$Upper.Conf.Limit.Contrast\n",
       ":   23.0855396414542\n",
       "\n",
       "\n"
      ],
      "text/plain": [
       "$Lower.Conf.Limit.Contrast\n",
       "[1] 1.91446\n",
       "\n",
       "$Contrast\n",
       "[1] 12.5\n",
       "\n",
       "$Upper.Conf.Limit.Contrast\n",
       "[1] 23.08554\n"
      ]
     },
     "metadata": {},
     "output_type": "display_data"
    }
   ],
   "source": [
    "ci.c(means = c(88, 89, 76), s.anova = sqrt(78.6801), c.weights = c(1/2, 1/2, -1), n = 5)"
   ]
  },
  {
   "cell_type": "code",
   "execution_count": 99,
   "metadata": {},
   "outputs": [
    {
     "data": {
      "text/html": [
       "<dl>\n",
       "\t<dt>$Lower.Conf.Limit.Contrast</dt>\n",
       "\t\t<dd>0.776871676977906</dd>\n",
       "\t<dt>$Contrast</dt>\n",
       "\t\t<dd>13</dd>\n",
       "\t<dt>$Upper.Conf.Limit.Contrast</dt>\n",
       "\t\t<dd>25.2231283230221</dd>\n",
       "</dl>\n"
      ],
      "text/latex": [
       "\\begin{description}\n",
       "\\item[\\$Lower.Conf.Limit.Contrast] 0.776871676977906\n",
       "\\item[\\$Contrast] 13\n",
       "\\item[\\$Upper.Conf.Limit.Contrast] 25.2231283230221\n",
       "\\end{description}\n"
      ],
      "text/markdown": [
       "$Lower.Conf.Limit.Contrast\n",
       ":   0.776871676977906\n",
       "$Contrast\n",
       ":   13\n",
       "$Upper.Conf.Limit.Contrast\n",
       ":   25.2231283230221\n",
       "\n",
       "\n"
      ],
      "text/plain": [
       "$Lower.Conf.Limit.Contrast\n",
       "[1] 0.7768717\n",
       "\n",
       "$Contrast\n",
       "[1] 13\n",
       "\n",
       "$Upper.Conf.Limit.Contrast\n",
       "[1] 25.22313\n"
      ]
     },
     "metadata": {},
     "output_type": "display_data"
    }
   ],
   "source": [
    "ci.c(means = c(88, 89, 76), s.anova = sqrt(78.6801), c.weights = c(0, 1, -1), n = 5)"
   ]
  },
  {
   "cell_type": "markdown",
   "metadata": {},
   "source": [
    "Neither intervals dip into zero—that is, we're 95% confident that the $\\psi$ in either contrast remains within these limits, and more importantly, that it will not dip to zero, which would imply that the null hypothesis would be retained. Yet we retain the null hypothesis in *both* contrasts! I think I did the intervals wrong but time is in short order for me. My apologies—please let me know what I did wrong. "
   ]
  },
  {
   "cell_type": "code",
   "execution_count": 95,
   "metadata": {},
   "outputs": [
    {
     "data": {
      "text/plain": [
       "\n",
       " Descriptive statistics by group \n",
       "group: Tenure\n",
       "   vars n mean  sd median trimmed   mad min max range  skew kurtosis   se\n",
       "X1    1 5   88 9.8     90      88 10.38  75  97    22 -0.23    -2.04 4.38\n",
       "------------------------------------------------------------ \n",
       "group: NonTenure\n",
       "   vars n mean   sd median trimmed  mad min max range skew kurtosis  se\n",
       "X1    1 5   89 6.48     85      89 2.97  83  97    14 0.28    -2.18 2.9\n",
       "------------------------------------------------------------ \n",
       "group: GradStudent\n",
       "   vars n mean  sd median trimmed  mad min max range skew kurtosis   se\n",
       "X1    1 5   76 9.9     75      76 7.41  65  91    26 0.38    -1.61 4.43"
      ]
     },
     "metadata": {},
     "output_type": "display_data"
    }
   ],
   "source": [
    "describeBy(teaching$Grades, teaching$Teacher)"
   ]
  },
  {
   "cell_type": "markdown",
   "metadata": {},
   "source": [
    "First, let's do the second contrast. Since we want to compare only the Non-Tenured and Grad conditions, our contrast will be $c = [0, 1, -1]$. Then,\n",
    "\n",
    "$$\\hat{\\psi} = (0)88 + (1)89+(-1)76 = 13$$\n",
    "\n",
    "Let's find out if this difference of 13 points in favor of Non-Tenured is significant."
   ]
  },
  {
   "cell_type": "markdown",
   "metadata": {},
   "source": [
    "$$E_R - E_F = \\frac{\\hat{\\psi}^2}{\\sum_{j=1}^{a}\\Big(\\frac{c^2_j}{n_j}\\Big)} = \\frac{169}{\\frac{0}{5}+\\frac{1}{5}+\\frac{1}{5}} = \\frac{169}{\\frac{2}{5}}=422.5$$"
   ]
  },
  {
   "cell_type": "markdown",
   "metadata": {},
   "source": [
    "Since we know that $df_R-df_F = 2$ from Q7,\n",
    "\n",
    "$$MS_{between} = \\frac{422.5}{2} = 211.25$$"
   ]
  },
  {
   "cell_type": "markdown",
   "metadata": {},
   "source": [
    "$MS_{within}$ doesn't change,\n",
    "\n",
    "$$MS_{within} = \\frac{9.8^2+6.48^2+9.9^2}{3} = 78.6801$$\n",
    "\n",
    "So our $F$-statistic is:\n",
    "\n",
    "$$F=\\frac{211.25}{78.6801} = 2.685$$"
   ]
  },
  {
   "cell_type": "markdown",
   "metadata": {},
   "source": [
    "Cool. So the contrasts are:\n",
    "\n",
    "* Tenured & Non-Tenured vs. Grad: 3.3098\n",
    "* Non-Tenured vs Grad: 2.685\n",
    "\n",
    "We need to find confidence intervals for each."
   ]
  },
  {
   "cell_type": "code",
   "execution_count": 88,
   "metadata": {},
   "outputs": [
    {
     "data": {
      "text/plain": [
       "\n",
       " Descriptive statistics by group \n",
       "group: Tenure\n",
       "   vars n mean  sd median trimmed   mad min max range  skew kurtosis   se\n",
       "X1    1 5   88 9.8     90      88 10.38  75  97    22 -0.23    -2.04 4.38\n",
       "------------------------------------------------------------ \n",
       "group: NonTenure\n",
       "   vars n mean   sd median trimmed  mad min max range skew kurtosis  se\n",
       "X1    1 5   89 6.48     85      89 2.97  83  97    14 0.28    -2.18 2.9\n",
       "------------------------------------------------------------ \n",
       "group: GradStudent\n",
       "   vars n mean  sd median trimmed  mad min max range skew kurtosis   se\n",
       "X1    1 5   76 9.9     75      76 7.41  65  91    26 0.38    -1.61 4.43"
      ]
     },
     "metadata": {},
     "output_type": "display_data"
    }
   ],
   "source": [
    "describeBy(teaching$Grades, teaching$Teacher)"
   ]
  },
  {
   "cell_type": "markdown",
   "metadata": {},
   "source": [
    "**11. In the context of this question, comment on the advantages of deciding on an analysis plan prior to, as opposed to after, looking at the data.**"
   ]
  },
  {
   "cell_type": "markdown",
   "metadata": {},
   "source": [
    "**Solution.** We could have used Bonferroni or Tukey's (DECIDE) had we decided earlier, which would have incurred less penalty. "
   ]
  },
  {
   "cell_type": "markdown",
   "metadata": {},
   "source": [
    "**Researchers were interested in whether people with hypochondria show perceptual and explicit memory biases favoring health-related information. A clinical sample of hypochondriacs ($n=20$) and healthy controls ($n=20$) completed a computerized test of perceiving difficult-to-read words and then an encoding task followed by recall of those words. Within each sample, people were randomized to one of four groups. People in the first group saw words related to cardiac health. People randomized to the second group saw words related to cancer. The third group of participants saw government-related words, while the fourth groups saw words relating to school. After seeing the words, participants completed the encoding task and were then asked to recall as many of the previously viewed words as possible. The dependent variable is the number of words recalled. (This question was inspired by Brown, Kosslyn, Delamater, Fama, & Barsky (1999) in Journal of Psychosomatic Research, but I have changed the results from their paper.) The data can be found in a file called “Hypochondia.csv” in the final exam folder on Canvas. For this problem, Factor A is Diagnosis (0 = Control, 1 = Hypochondriac) and Factor B is Word Type (1 = Cardiac, 2 = Cancer, 3 = Government, 4 = School).**"
   ]
  },
  {
   "cell_type": "code",
   "execution_count": 137,
   "metadata": {},
   "outputs": [],
   "source": [
    "health = data.frame(read.csv('/Users/seung/Repositories/stats/Final/Health.csv'))\n",
    "health$Diagnosis <- factor(health$Diagnosis, labels = c(\"Control\", \"Hypochondriac\"))\n",
    "health$Word <- factor(health$Word, labels = c(\"Cardiac\", \"Cancer\", \"Government\", \"School\"))"
   ]
  },
  {
   "cell_type": "markdown",
   "metadata": {},
   "source": [
    "**12. Write out the equation for the full model that includes both main effects and the interaction. Define each term. For example, how many $α_j$ parameters are there, and what does each one mean?**"
   ]
  },
  {
   "cell_type": "markdown",
   "metadata": {},
   "source": [
    "**Solution.** The full model is:\n",
    "\n",
    "$$Y_{ijk} = \\mu + \\alpha_j + \\beta_k + (\\alpha\\beta)_{jk} + \\epsilon_{ijk}$$\n",
    "\n",
    "Where\n",
    "\n",
    "* $\\mu$ is an estimate of the population mean by way of the grand mean;\n",
    "* $\\alpha_j$ is the effect of the $j$th of the 2 levels (Control or Hypochondriac) in the the Diagnosis factor;\n",
    "* $\\beta_k$ is the effect of the $k$th of the 4 levels (Cardiac, Cancer, Government, or School) in the Word Type factor;\n",
    "* $(\\alpha\\beta)_{jk}$ is the *interaction* effect of the $j$th level in Diagnosis and $k$th level in Word Type factors (there are 8 total);\n",
    "* $\\epsilon_{ijk}$ is the error term, for each $i$th individual score in the intersection of $j$th Diagnosis and $k$th Word Type levels. There are $N=40$."
   ]
  },
  {
   "cell_type": "markdown",
   "metadata": {},
   "source": [
    "**13. Using R, obtain cell means, marginal means, and the grand mean. Use this information to calculate $α_2$, $β_3$, and $αβ_{24}$. You do not need to calculate any of the other model terms.**"
   ]
  },
  {
   "cell_type": "markdown",
   "metadata": {},
   "source": [
    "**Solution.** Let's get the cell means first."
   ]
  },
  {
   "cell_type": "code",
   "execution_count": 138,
   "metadata": {},
   "outputs": [
    {
     "data": {
      "text/html": [
       "<table>\n",
       "<caption>A data.frame: 8 × 16</caption>\n",
       "<thead>\n",
       "\t<tr><th></th><th scope=col>item</th><th scope=col>group1</th><th scope=col>group2</th><th scope=col>vars</th><th scope=col>n</th><th scope=col>mean</th><th scope=col>sd</th><th scope=col>median</th><th scope=col>trimmed</th><th scope=col>mad</th><th scope=col>min</th><th scope=col>max</th><th scope=col>range</th><th scope=col>skew</th><th scope=col>kurtosis</th><th scope=col>se</th></tr>\n",
       "\t<tr><th></th><th scope=col>&lt;chr&gt;</th><th scope=col>&lt;chr&gt;</th><th scope=col>&lt;chr&gt;</th><th scope=col>&lt;dbl&gt;</th><th scope=col>&lt;dbl&gt;</th><th scope=col>&lt;dbl&gt;</th><th scope=col>&lt;dbl&gt;</th><th scope=col>&lt;dbl&gt;</th><th scope=col>&lt;dbl&gt;</th><th scope=col>&lt;dbl&gt;</th><th scope=col>&lt;dbl&gt;</th><th scope=col>&lt;dbl&gt;</th><th scope=col>&lt;dbl&gt;</th><th scope=col>&lt;dbl&gt;</th><th scope=col>&lt;dbl&gt;</th><th scope=col>&lt;dbl&gt;</th></tr>\n",
       "</thead>\n",
       "<tbody>\n",
       "\t<tr><th scope=row>X11</th><td>1</td><td>Control      </td><td>Cardiac   </td><td>1</td><td>5</td><td> 9.4</td><td>1.140175</td><td> 9</td><td> 9.4</td><td>1.4826</td><td> 8</td><td>11</td><td>3</td><td> 0.1943021</td><td>-1.748402</td><td>0.5099020</td></tr>\n",
       "\t<tr><th scope=row>X12</th><td>2</td><td>Hypochondriac</td><td>Cardiac   </td><td>1</td><td>5</td><td>11.2</td><td>0.836660</td><td>11</td><td>11.2</td><td>1.4826</td><td>10</td><td>12</td><td>2</td><td>-0.2458756</td><td>-1.817959</td><td>0.3741657</td></tr>\n",
       "\t<tr><th scope=row>X13</th><td>3</td><td>Control      </td><td>Cancer    </td><td>1</td><td>5</td><td> 9.4</td><td>1.140175</td><td> 9</td><td> 9.4</td><td>1.4826</td><td> 8</td><td>11</td><td>3</td><td> 0.1943021</td><td>-1.748402</td><td>0.5099020</td></tr>\n",
       "\t<tr><th scope=row>X14</th><td>4</td><td>Hypochondriac</td><td>Cancer    </td><td>1</td><td>5</td><td>12.0</td><td>2.000000</td><td>13</td><td>12.0</td><td>1.4826</td><td> 9</td><td>14</td><td>5</td><td>-0.4500000</td><td>-1.750000</td><td>0.8944272</td></tr>\n",
       "\t<tr><th scope=row>X15</th><td>5</td><td>Control      </td><td>Government</td><td>1</td><td>5</td><td> 8.8</td><td>1.303840</td><td> 9</td><td> 8.8</td><td>1.4826</td><td> 7</td><td>10</td><td>3</td><td>-0.2598658</td><td>-1.958062</td><td>0.5830952</td></tr>\n",
       "\t<tr><th scope=row>X16</th><td>6</td><td>Hypochondriac</td><td>Government</td><td>1</td><td>5</td><td> 8.2</td><td>1.303840</td><td> 8</td><td> 8.2</td><td>1.4826</td><td> 7</td><td>10</td><td>3</td><td> 0.2598658</td><td>-1.958062</td><td>0.5830952</td></tr>\n",
       "\t<tr><th scope=row>X17</th><td>7</td><td>Control      </td><td>School    </td><td>1</td><td>5</td><td> 9.0</td><td>1.224745</td><td> 9</td><td> 9.0</td><td>1.4826</td><td> 8</td><td>11</td><td>3</td><td> 0.6531973</td><td>-1.400000</td><td>0.5477226</td></tr>\n",
       "\t<tr><th scope=row>X18</th><td>8</td><td>Hypochondriac</td><td>School    </td><td>1</td><td>5</td><td> 8.4</td><td>1.140175</td><td> 8</td><td> 8.4</td><td>1.4826</td><td> 7</td><td>10</td><td>3</td><td> 0.1943021</td><td>-1.748402</td><td>0.5099020</td></tr>\n",
       "</tbody>\n",
       "</table>\n"
      ],
      "text/latex": [
       "A data.frame: 8 × 16\n",
       "\\begin{tabular}{r|llllllllllllllll}\n",
       "  & item & group1 & group2 & vars & n & mean & sd & median & trimmed & mad & min & max & range & skew & kurtosis & se\\\\\n",
       "  & <chr> & <chr> & <chr> & <dbl> & <dbl> & <dbl> & <dbl> & <dbl> & <dbl> & <dbl> & <dbl> & <dbl> & <dbl> & <dbl> & <dbl> & <dbl>\\\\\n",
       "\\hline\n",
       "\tX11 & 1 & Control       & Cardiac    & 1 & 5 &  9.4 & 1.140175 &  9 &  9.4 & 1.4826 &  8 & 11 & 3 &  0.1943021 & -1.748402 & 0.5099020\\\\\n",
       "\tX12 & 2 & Hypochondriac & Cardiac    & 1 & 5 & 11.2 & 0.836660 & 11 & 11.2 & 1.4826 & 10 & 12 & 2 & -0.2458756 & -1.817959 & 0.3741657\\\\\n",
       "\tX13 & 3 & Control       & Cancer     & 1 & 5 &  9.4 & 1.140175 &  9 &  9.4 & 1.4826 &  8 & 11 & 3 &  0.1943021 & -1.748402 & 0.5099020\\\\\n",
       "\tX14 & 4 & Hypochondriac & Cancer     & 1 & 5 & 12.0 & 2.000000 & 13 & 12.0 & 1.4826 &  9 & 14 & 5 & -0.4500000 & -1.750000 & 0.8944272\\\\\n",
       "\tX15 & 5 & Control       & Government & 1 & 5 &  8.8 & 1.303840 &  9 &  8.8 & 1.4826 &  7 & 10 & 3 & -0.2598658 & -1.958062 & 0.5830952\\\\\n",
       "\tX16 & 6 & Hypochondriac & Government & 1 & 5 &  8.2 & 1.303840 &  8 &  8.2 & 1.4826 &  7 & 10 & 3 &  0.2598658 & -1.958062 & 0.5830952\\\\\n",
       "\tX17 & 7 & Control       & School     & 1 & 5 &  9.0 & 1.224745 &  9 &  9.0 & 1.4826 &  8 & 11 & 3 &  0.6531973 & -1.400000 & 0.5477226\\\\\n",
       "\tX18 & 8 & Hypochondriac & School     & 1 & 5 &  8.4 & 1.140175 &  8 &  8.4 & 1.4826 &  7 & 10 & 3 &  0.1943021 & -1.748402 & 0.5099020\\\\\n",
       "\\end{tabular}\n"
      ],
      "text/markdown": [
       "\n",
       "A data.frame: 8 × 16\n",
       "\n",
       "| <!--/--> | item &lt;chr&gt; | group1 &lt;chr&gt; | group2 &lt;chr&gt; | vars &lt;dbl&gt; | n &lt;dbl&gt; | mean &lt;dbl&gt; | sd &lt;dbl&gt; | median &lt;dbl&gt; | trimmed &lt;dbl&gt; | mad &lt;dbl&gt; | min &lt;dbl&gt; | max &lt;dbl&gt; | range &lt;dbl&gt; | skew &lt;dbl&gt; | kurtosis &lt;dbl&gt; | se &lt;dbl&gt; |\n",
       "|---|---|---|---|---|---|---|---|---|---|---|---|---|---|---|---|---|\n",
       "| X11 | 1 | Control       | Cardiac    | 1 | 5 |  9.4 | 1.140175 |  9 |  9.4 | 1.4826 |  8 | 11 | 3 |  0.1943021 | -1.748402 | 0.5099020 |\n",
       "| X12 | 2 | Hypochondriac | Cardiac    | 1 | 5 | 11.2 | 0.836660 | 11 | 11.2 | 1.4826 | 10 | 12 | 2 | -0.2458756 | -1.817959 | 0.3741657 |\n",
       "| X13 | 3 | Control       | Cancer     | 1 | 5 |  9.4 | 1.140175 |  9 |  9.4 | 1.4826 |  8 | 11 | 3 |  0.1943021 | -1.748402 | 0.5099020 |\n",
       "| X14 | 4 | Hypochondriac | Cancer     | 1 | 5 | 12.0 | 2.000000 | 13 | 12.0 | 1.4826 |  9 | 14 | 5 | -0.4500000 | -1.750000 | 0.8944272 |\n",
       "| X15 | 5 | Control       | Government | 1 | 5 |  8.8 | 1.303840 |  9 |  8.8 | 1.4826 |  7 | 10 | 3 | -0.2598658 | -1.958062 | 0.5830952 |\n",
       "| X16 | 6 | Hypochondriac | Government | 1 | 5 |  8.2 | 1.303840 |  8 |  8.2 | 1.4826 |  7 | 10 | 3 |  0.2598658 | -1.958062 | 0.5830952 |\n",
       "| X17 | 7 | Control       | School     | 1 | 5 |  9.0 | 1.224745 |  9 |  9.0 | 1.4826 |  8 | 11 | 3 |  0.6531973 | -1.400000 | 0.5477226 |\n",
       "| X18 | 8 | Hypochondriac | School     | 1 | 5 |  8.4 | 1.140175 |  8 |  8.4 | 1.4826 |  7 | 10 | 3 |  0.1943021 | -1.748402 | 0.5099020 |\n",
       "\n"
      ],
      "text/plain": [
       "    item group1        group2     vars n mean sd       median trimmed mad   \n",
       "X11 1    Control       Cardiac    1    5  9.4 1.140175  9      9.4    1.4826\n",
       "X12 2    Hypochondriac Cardiac    1    5 11.2 0.836660 11     11.2    1.4826\n",
       "X13 3    Control       Cancer     1    5  9.4 1.140175  9      9.4    1.4826\n",
       "X14 4    Hypochondriac Cancer     1    5 12.0 2.000000 13     12.0    1.4826\n",
       "X15 5    Control       Government 1    5  8.8 1.303840  9      8.8    1.4826\n",
       "X16 6    Hypochondriac Government 1    5  8.2 1.303840  8      8.2    1.4826\n",
       "X17 7    Control       School     1    5  9.0 1.224745  9      9.0    1.4826\n",
       "X18 8    Hypochondriac School     1    5  8.4 1.140175  8      8.4    1.4826\n",
       "    min max range skew       kurtosis  se       \n",
       "X11  8  11  3      0.1943021 -1.748402 0.5099020\n",
       "X12 10  12  2     -0.2458756 -1.817959 0.3741657\n",
       "X13  8  11  3      0.1943021 -1.748402 0.5099020\n",
       "X14  9  14  5     -0.4500000 -1.750000 0.8944272\n",
       "X15  7  10  3     -0.2598658 -1.958062 0.5830952\n",
       "X16  7  10  3      0.2598658 -1.958062 0.5830952\n",
       "X17  8  11  3      0.6531973 -1.400000 0.5477226\n",
       "X18  7  10  3      0.1943021 -1.748402 0.5099020"
      ]
     },
     "metadata": {},
     "output_type": "display_data"
    }
   ],
   "source": [
    "describeBy(health$Correct, list(health$Diagnosis, health$Word), mat = T)"
   ]
  },
  {
   "cell_type": "markdown",
   "metadata": {},
   "source": [
    "Now, the marginal means for the Diagnosis factor:"
   ]
  },
  {
   "cell_type": "code",
   "execution_count": 136,
   "metadata": {},
   "outputs": [
    {
     "data": {
      "text/html": [
       "<table>\n",
       "<caption>A data.frame: 2 × 15</caption>\n",
       "<thead>\n",
       "\t<tr><th></th><th scope=col>item</th><th scope=col>group1</th><th scope=col>vars</th><th scope=col>n</th><th scope=col>mean</th><th scope=col>sd</th><th scope=col>median</th><th scope=col>trimmed</th><th scope=col>mad</th><th scope=col>min</th><th scope=col>max</th><th scope=col>range</th><th scope=col>skew</th><th scope=col>kurtosis</th><th scope=col>se</th></tr>\n",
       "\t<tr><th></th><th scope=col>&lt;chr&gt;</th><th scope=col>&lt;chr&gt;</th><th scope=col>&lt;dbl&gt;</th><th scope=col>&lt;dbl&gt;</th><th scope=col>&lt;dbl&gt;</th><th scope=col>&lt;dbl&gt;</th><th scope=col>&lt;dbl&gt;</th><th scope=col>&lt;dbl&gt;</th><th scope=col>&lt;dbl&gt;</th><th scope=col>&lt;dbl&gt;</th><th scope=col>&lt;dbl&gt;</th><th scope=col>&lt;dbl&gt;</th><th scope=col>&lt;dbl&gt;</th><th scope=col>&lt;dbl&gt;</th><th scope=col>&lt;dbl&gt;</th></tr>\n",
       "</thead>\n",
       "<tbody>\n",
       "\t<tr><th scope=row>X11</th><td>1</td><td>Control      </td><td>1</td><td>20</td><td>9.15</td><td>1.136708</td><td> 9</td><td>9.125</td><td>1.4826</td><td>7</td><td>11</td><td>4</td><td>0.1322556</td><td>-0.9831335</td><td>0.2541757</td></tr>\n",
       "\t<tr><th scope=row>X12</th><td>2</td><td>Hypochondriac</td><td>1</td><td>20</td><td>9.95</td><td>2.139233</td><td>10</td><td>9.875</td><td>2.9652</td><td>7</td><td>14</td><td>7</td><td>0.2147387</td><td>-1.1995974</td><td>0.4783469</td></tr>\n",
       "</tbody>\n",
       "</table>\n"
      ],
      "text/latex": [
       "A data.frame: 2 × 15\n",
       "\\begin{tabular}{r|lllllllllllllll}\n",
       "  & item & group1 & vars & n & mean & sd & median & trimmed & mad & min & max & range & skew & kurtosis & se\\\\\n",
       "  & <chr> & <chr> & <dbl> & <dbl> & <dbl> & <dbl> & <dbl> & <dbl> & <dbl> & <dbl> & <dbl> & <dbl> & <dbl> & <dbl> & <dbl>\\\\\n",
       "\\hline\n",
       "\tX11 & 1 & Control       & 1 & 20 & 9.15 & 1.136708 &  9 & 9.125 & 1.4826 & 7 & 11 & 4 & 0.1322556 & -0.9831335 & 0.2541757\\\\\n",
       "\tX12 & 2 & Hypochondriac & 1 & 20 & 9.95 & 2.139233 & 10 & 9.875 & 2.9652 & 7 & 14 & 7 & 0.2147387 & -1.1995974 & 0.4783469\\\\\n",
       "\\end{tabular}\n"
      ],
      "text/markdown": [
       "\n",
       "A data.frame: 2 × 15\n",
       "\n",
       "| <!--/--> | item &lt;chr&gt; | group1 &lt;chr&gt; | vars &lt;dbl&gt; | n &lt;dbl&gt; | mean &lt;dbl&gt; | sd &lt;dbl&gt; | median &lt;dbl&gt; | trimmed &lt;dbl&gt; | mad &lt;dbl&gt; | min &lt;dbl&gt; | max &lt;dbl&gt; | range &lt;dbl&gt; | skew &lt;dbl&gt; | kurtosis &lt;dbl&gt; | se &lt;dbl&gt; |\n",
       "|---|---|---|---|---|---|---|---|---|---|---|---|---|---|---|---|\n",
       "| X11 | 1 | Control       | 1 | 20 | 9.15 | 1.136708 |  9 | 9.125 | 1.4826 | 7 | 11 | 4 | 0.1322556 | -0.9831335 | 0.2541757 |\n",
       "| X12 | 2 | Hypochondriac | 1 | 20 | 9.95 | 2.139233 | 10 | 9.875 | 2.9652 | 7 | 14 | 7 | 0.2147387 | -1.1995974 | 0.4783469 |\n",
       "\n"
      ],
      "text/plain": [
       "    item group1        vars n  mean sd       median trimmed mad    min max\n",
       "X11 1    Control       1    20 9.15 1.136708  9     9.125   1.4826 7   11 \n",
       "X12 2    Hypochondriac 1    20 9.95 2.139233 10     9.875   2.9652 7   14 \n",
       "    range skew      kurtosis   se       \n",
       "X11 4     0.1322556 -0.9831335 0.2541757\n",
       "X12 7     0.2147387 -1.1995974 0.4783469"
      ]
     },
     "metadata": {},
     "output_type": "display_data"
    }
   ],
   "source": [
    "describeBy(health$Correct, health$Diagnosis, mat = T)"
   ]
  },
  {
   "cell_type": "markdown",
   "metadata": {},
   "source": [
    "And the marginal means for the Word Type factor:"
   ]
  },
  {
   "cell_type": "code",
   "execution_count": 135,
   "metadata": {},
   "outputs": [
    {
     "data": {
      "text/html": [
       "<table>\n",
       "<caption>A data.frame: 4 × 15</caption>\n",
       "<thead>\n",
       "\t<tr><th></th><th scope=col>item</th><th scope=col>group1</th><th scope=col>vars</th><th scope=col>n</th><th scope=col>mean</th><th scope=col>sd</th><th scope=col>median</th><th scope=col>trimmed</th><th scope=col>mad</th><th scope=col>min</th><th scope=col>max</th><th scope=col>range</th><th scope=col>skew</th><th scope=col>kurtosis</th><th scope=col>se</th></tr>\n",
       "\t<tr><th></th><th scope=col>&lt;chr&gt;</th><th scope=col>&lt;chr&gt;</th><th scope=col>&lt;dbl&gt;</th><th scope=col>&lt;dbl&gt;</th><th scope=col>&lt;dbl&gt;</th><th scope=col>&lt;dbl&gt;</th><th scope=col>&lt;dbl&gt;</th><th scope=col>&lt;dbl&gt;</th><th scope=col>&lt;dbl&gt;</th><th scope=col>&lt;dbl&gt;</th><th scope=col>&lt;dbl&gt;</th><th scope=col>&lt;dbl&gt;</th><th scope=col>&lt;dbl&gt;</th><th scope=col>&lt;dbl&gt;</th><th scope=col>&lt;dbl&gt;</th></tr>\n",
       "</thead>\n",
       "<tbody>\n",
       "\t<tr><th scope=row>X11</th><td>1</td><td>Cardiac   </td><td>1</td><td>10</td><td>10.3</td><td>1.337494</td><td>10.5</td><td>10.375</td><td>1.4826</td><td>8</td><td>12</td><td>4</td><td>-0.2407395</td><td>-1.402030</td><td>0.4229526</td></tr>\n",
       "\t<tr><th scope=row>X12</th><td>2</td><td>Cancer    </td><td>1</td><td>10</td><td>10.7</td><td>2.057507</td><td>10.5</td><td>10.625</td><td>2.2239</td><td>8</td><td>14</td><td>6</td><td> 0.2934521</td><td>-1.588162</td><td>0.6506407</td></tr>\n",
       "\t<tr><th scope=row>X13</th><td>3</td><td>Government</td><td>1</td><td>10</td><td> 8.5</td><td>1.269296</td><td> 8.5</td><td> 8.500</td><td>2.2239</td><td>7</td><td>10</td><td>3</td><td> 0.0000000</td><td>-1.820155</td><td>0.4013865</td></tr>\n",
       "\t<tr><th scope=row>X14</th><td>4</td><td>School    </td><td>1</td><td>10</td><td> 8.7</td><td>1.159502</td><td> 8.5</td><td> 8.625</td><td>0.7413</td><td>7</td><td>11</td><td>4</td><td> 0.5234508</td><td>-0.777244</td><td>0.3666667</td></tr>\n",
       "</tbody>\n",
       "</table>\n"
      ],
      "text/latex": [
       "A data.frame: 4 × 15\n",
       "\\begin{tabular}{r|lllllllllllllll}\n",
       "  & item & group1 & vars & n & mean & sd & median & trimmed & mad & min & max & range & skew & kurtosis & se\\\\\n",
       "  & <chr> & <chr> & <dbl> & <dbl> & <dbl> & <dbl> & <dbl> & <dbl> & <dbl> & <dbl> & <dbl> & <dbl> & <dbl> & <dbl> & <dbl>\\\\\n",
       "\\hline\n",
       "\tX11 & 1 & Cardiac    & 1 & 10 & 10.3 & 1.337494 & 10.5 & 10.375 & 1.4826 & 8 & 12 & 4 & -0.2407395 & -1.402030 & 0.4229526\\\\\n",
       "\tX12 & 2 & Cancer     & 1 & 10 & 10.7 & 2.057507 & 10.5 & 10.625 & 2.2239 & 8 & 14 & 6 &  0.2934521 & -1.588162 & 0.6506407\\\\\n",
       "\tX13 & 3 & Government & 1 & 10 &  8.5 & 1.269296 &  8.5 &  8.500 & 2.2239 & 7 & 10 & 3 &  0.0000000 & -1.820155 & 0.4013865\\\\\n",
       "\tX14 & 4 & School     & 1 & 10 &  8.7 & 1.159502 &  8.5 &  8.625 & 0.7413 & 7 & 11 & 4 &  0.5234508 & -0.777244 & 0.3666667\\\\\n",
       "\\end{tabular}\n"
      ],
      "text/markdown": [
       "\n",
       "A data.frame: 4 × 15\n",
       "\n",
       "| <!--/--> | item &lt;chr&gt; | group1 &lt;chr&gt; | vars &lt;dbl&gt; | n &lt;dbl&gt; | mean &lt;dbl&gt; | sd &lt;dbl&gt; | median &lt;dbl&gt; | trimmed &lt;dbl&gt; | mad &lt;dbl&gt; | min &lt;dbl&gt; | max &lt;dbl&gt; | range &lt;dbl&gt; | skew &lt;dbl&gt; | kurtosis &lt;dbl&gt; | se &lt;dbl&gt; |\n",
       "|---|---|---|---|---|---|---|---|---|---|---|---|---|---|---|---|\n",
       "| X11 | 1 | Cardiac    | 1 | 10 | 10.3 | 1.337494 | 10.5 | 10.375 | 1.4826 | 8 | 12 | 4 | -0.2407395 | -1.402030 | 0.4229526 |\n",
       "| X12 | 2 | Cancer     | 1 | 10 | 10.7 | 2.057507 | 10.5 | 10.625 | 2.2239 | 8 | 14 | 6 |  0.2934521 | -1.588162 | 0.6506407 |\n",
       "| X13 | 3 | Government | 1 | 10 |  8.5 | 1.269296 |  8.5 |  8.500 | 2.2239 | 7 | 10 | 3 |  0.0000000 | -1.820155 | 0.4013865 |\n",
       "| X14 | 4 | School     | 1 | 10 |  8.7 | 1.159502 |  8.5 |  8.625 | 0.7413 | 7 | 11 | 4 |  0.5234508 | -0.777244 | 0.3666667 |\n",
       "\n"
      ],
      "text/plain": [
       "    item group1     vars n  mean sd       median trimmed mad    min max range\n",
       "X11 1    Cardiac    1    10 10.3 1.337494 10.5   10.375  1.4826 8   12  4    \n",
       "X12 2    Cancer     1    10 10.7 2.057507 10.5   10.625  2.2239 8   14  6    \n",
       "X13 3    Government 1    10  8.5 1.269296  8.5    8.500  2.2239 7   10  3    \n",
       "X14 4    School     1    10  8.7 1.159502  8.5    8.625  0.7413 7   11  4    \n",
       "    skew       kurtosis  se       \n",
       "X11 -0.2407395 -1.402030 0.4229526\n",
       "X12  0.2934521 -1.588162 0.6506407\n",
       "X13  0.0000000 -1.820155 0.4013865\n",
       "X14  0.5234508 -0.777244 0.3666667"
      ]
     },
     "metadata": {},
     "output_type": "display_data"
    }
   ],
   "source": [
    "describeBy(health$Correct, health$Word, mat = T)"
   ]
  },
  {
   "cell_type": "markdown",
   "metadata": {},
   "source": [
    "Now, to calculate $α_2$, $β_3$, and $αβ_{24}$, we need to get the grand mean ($\\mu_{..}$)first."
   ]
  },
  {
   "cell_type": "code",
   "execution_count": 140,
   "metadata": {},
   "outputs": [
    {
     "data": {
      "text/html": [
       "9.55"
      ],
      "text/latex": [
       "9.55"
      ],
      "text/markdown": [
       "9.55"
      ],
      "text/plain": [
       "[1] 9.55"
      ]
     },
     "metadata": {},
     "output_type": "display_data"
    }
   ],
   "source": [
    "mean(health$Correct)"
   ]
  },
  {
   "cell_type": "markdown",
   "metadata": {},
   "source": [
    "Then\n",
    "\n",
    "$$\\alpha_2 = 0.4$$\n",
    "\n",
    "since $\\mu_{2.} = 9.95$ so $\\mu_{2.}-\\mu_{..}=0.4$;\n",
    "\n",
    "$$\\beta_3 = -1.05$$\n",
    "\n",
    "since $\\mu_{.3} = 8.5$ so $\\mu_{.3}-\\mu_{..} = -1.05$; and\n",
    "\n",
    "$$\\alpha\\beta_{24} = -0.7$$\n",
    "\n",
    "since, given\n",
    "\n",
    "* $\\mu_{24} = 8.4$, \n",
    "* $\\alpha_{2} = 0.4$, and\n",
    "* $\\mu_{.4} = 8.7 \\therefore \\beta_4 = -0.85$,\n",
    "\n",
    "$$\\alpha\\beta_{jk} = \\mu_{jk}-(\\mu_{..} + \\alpha_j + \\beta_k) = 8.4-(9.55+0.4-0.85)=-0.7$$"
   ]
  },
  {
   "cell_type": "markdown",
   "metadata": {},
   "source": [
    "**14. Make a plot of the cell means, putting Word Type on $x$-axis.**"
   ]
  },
  {
   "cell_type": "code",
   "execution_count": 117,
   "metadata": {},
   "outputs": [],
   "source": [
    "library(ggpubr)"
   ]
  },
  {
   "cell_type": "code",
   "execution_count": 134,
   "metadata": {},
   "outputs": [
    {
     "data": {
      "image/png": "[encoded data removed]",
      "text/plain": [
       "plot without title"
      ]
     },
     "metadata": {
      "image/png": {
       "height": 420,
       "width": 420
      }
     },
     "output_type": "display_data"
    }
   ],
   "source": [
    "int_plot <- ggline(health, x = \"Word\", y = \"Correct\", color = \"Diagnosis\",\n",
    "                add = c(\"mean\", \"jitter\"),\n",
    "                   palette = c(\"slateblue\", \"tomato\"),\n",
    "                  xlab = \"Word Type\",\n",
    "                   ylab = \"Number of Recalled Words\",\n",
    "                  point.size = 3)\n",
    "\n",
    "int_plot"
   ]
  },
  {
   "cell_type": "markdown",
   "metadata": {},
   "source": [
    "Wow, looks like a big frickin' interaction."
   ]
  },
  {
   "cell_type": "markdown",
   "metadata": {},
   "source": [
    "**15. Using R, carry out the three tests for this factorial ANOVA. Which effects are significant?**"
   ]
  },
  {
   "cell_type": "markdown",
   "metadata": {},
   "source": [
    "**Solution.**"
   ]
  },
  {
   "cell_type": "code",
   "execution_count": 141,
   "metadata": {},
   "outputs": [
    {
     "data": {
      "text/plain": [
       "               Df Sum Sq Mean Sq F value   Pr(>F)    \n",
       "Word            3   37.1  12.367   7.328 0.000713 ***\n",
       "Diagnosis       1    6.4   6.400   3.793 0.060300 .  \n",
       "Word:Diagnosis  3   20.4   6.800   4.030 0.015391 *  \n",
       "Residuals      32   54.0   1.688                     \n",
       "---\n",
       "Signif. codes:  0 ‘***’ 0.001 ‘**’ 0.01 ‘*’ 0.05 ‘.’ 0.1 ‘ ’ 1"
      ]
     },
     "metadata": {},
     "output_type": "display_data"
    }
   ],
   "source": [
    "anova <- aov(Correct ~ Word + Diagnosis + Word*Diagnosis, data = health)\n",
    "summary(anova)"
   ]
  },
  {
   "cell_type": "markdown",
   "metadata": {},
   "source": [
    "The **main effect of Word Type** and the **interaction** are significant."
   ]
  },
  {
   "cell_type": "markdown",
   "metadata": {},
   "source": [
    "**16. Report the critical values that you would use to evaluate the two main effects and the interaction if you were carrying out these tests by hand.**"
   ]
  },
  {
   "cell_type": "markdown",
   "metadata": {},
   "source": [
    "**Solution.** OK, three values. \n",
    "\n",
    "1. For the main effect of the Diagnosis factor, $df_{num} = (a-1) = (2-1)=1$ and $df_{denom} = ab(n-1) = 2\\cdot4\\cdot(5-1)=32$; so \n",
    "\n",
    "$$F_{A} = F_{0.05; 1, 32}=4.149$$\n",
    "\n",
    "2. For the main effect of the Word factor, $df_{num} = (b-1) = (4-1)=3$ and $df_{denom} = ab(n-1) = 2\\cdot4\\cdot(5-1)=32$; so\n",
    "\n",
    "$$F_{B} = F_{0.05; 3, 32}=2.901$$\n",
    "\n",
    "3. For the interaction, $df_{num}=(a-1)(b-1) = (1\\cdot3) = 3$ and $df_{denom} = ab(n-1) = 2\\cdot4\\cdot(5-1)=32$, so it's the same as $F_{B}$.\n",
    "\n",
    "$$F_{AB} = F_{0.05; 3, 32}=2.901$$\n",
    "\n",
    "Which makes sense, given that both Word (7.328) and Interaction (4.030) are more extreme than $F_B = F_{AB}=2.901$ while Diagnosis (3.793) is less extreme than $F_A=4.149$."
   ]
  },
  {
   "cell_type": "code",
   "execution_count": 143,
   "metadata": {},
   "outputs": [
    {
     "data": {
      "text/html": [
       "4.14909744569955"
      ],
      "text/latex": [
       "4.14909744569955"
      ],
      "text/markdown": [
       "4.14909744569955"
      ],
      "text/plain": [
       "[1] 4.149097"
      ]
     },
     "metadata": {},
     "output_type": "display_data"
    }
   ],
   "source": [
    "qf(0.05, 1, 32, lower.tail=FALSE)"
   ]
  },
  {
   "cell_type": "code",
   "execution_count": 144,
   "metadata": {},
   "outputs": [
    {
     "data": {
      "text/html": [
       "2.90111958384084"
      ],
      "text/latex": [
       "2.90111958384084"
      ],
      "text/markdown": [
       "2.90111958384084"
      ],
      "text/plain": [
       "[1] 2.90112"
      ]
     },
     "metadata": {},
     "output_type": "display_data"
    }
   ],
   "source": [
    "qf(0.05, 3, 32, lower.tail=FALSE)"
   ]
  },
  {
   "cell_type": "markdown",
   "metadata": {},
   "source": [
    "**17. Calculate $R^2$ for the omnibus interaction effect.**"
   ]
  },
  {
   "cell_type": "markdown",
   "metadata": {},
   "source": [
    "**Solution.** OK, so there's a bit of art to picking what to include in $SS_{total}$ but I am no artist. Because there will always be hypochondriacs and there will always be words about cancer & school in the wild, I will assume that all factors are intrinsic and *not* go with $R^2_{partial}$. In the case where one or both are not intrinsic, then we can just remove them from $SS_{total}$.\n",
    "\n",
    "We found in Q15 that\n",
    "\n",
    "* $SS_A = 37.1$,\n",
    "* $SS_B = 6.4$,\n",
    "* $SS_{AB} = 20.4$, and\n",
    "* $SS_{within} = 54.0$.\n",
    "\n",
    "Since we are interested in the amount of total variability explained by the interaction, \n",
    "\n",
    "$$R^2_{AB}=\\frac{SS_{AB}}{SS_{total}} = \\frac{SS_{AB}}{SS_{A}+SS_{B}+SS_{AB}+SS_{within}} = \\frac{20.4}{117.9}=0.173$$\n",
    "\n",
    "So 17.3% of the variability is explained by the interaction."
   ]
  },
  {
   "cell_type": "markdown",
   "metadata": {},
   "source": [
    "**18. Test the simple effect of Word Type at each level of Diagnosis, correcting for familywise error. What do you conclude?**"
   ]
  },
  {
   "cell_type": "markdown",
   "metadata": {},
   "source": [
    "**Solution.** There are two simple effects of Word: one at Control ($A_1$) and one at Hypochondriac ($A_2$). We are getting the conditional effect of a level in Word **given** that it is in Control or in Hypochondriac. So we're looking to find $F_{B\\, at \\, A_i}$:"
   ]
  },
  {
   "cell_type": "code",
   "execution_count": 175,
   "metadata": {},
   "outputs": [],
   "source": [
    "library(phia, warn.conflicts=FALSE)"
   ]
  },
  {
   "cell_type": "code",
   "execution_count": 176,
   "metadata": {},
   "outputs": [
    {
     "data": {
      "text/html": [
       "<table>\n",
       "<caption>A anova: 3 × 7</caption>\n",
       "<thead>\n",
       "\t<tr><th></th><th scope=col>Word1</th><th scope=col>Word2</th><th scope=col>Word3</th><th scope=col>Df</th><th scope=col>Sum of Sq</th><th scope=col>F</th><th scope=col>Pr(&gt;F)</th></tr>\n",
       "\t<tr><th></th><th scope=col>&lt;dbl&gt;</th><th scope=col>&lt;dbl&gt;</th><th scope=col>&lt;dbl&gt;</th><th scope=col>&lt;dbl&gt;</th><th scope=col>&lt;dbl&gt;</th><th scope=col>&lt;dbl&gt;</th><th scope=col>&lt;dbl&gt;</th></tr>\n",
       "</thead>\n",
       "<tbody>\n",
       "\t<tr><th scope=row>      Control</th><td>0.4</td><td>0.4</td><td>-0.2</td><td> 3</td><td> 1.35</td><td> 0.2666667</td><td>8.489105e-01</td></tr>\n",
       "\t<tr><th scope=row>Hypochondriac</th><td>2.8</td><td>3.6</td><td>-0.2</td><td> 3</td><td>56.15</td><td>11.0913580</td><td>7.543339e-05</td></tr>\n",
       "\t<tr><th scope=row>Residuals</th><td> NA</td><td> NA</td><td>  NA</td><td>32</td><td>54.00</td><td>        NA</td><td>          NA</td></tr>\n",
       "</tbody>\n",
       "</table>\n"
      ],
      "text/latex": [
       "A anova: 3 × 7\n",
       "\\begin{tabular}{r|lllllll}\n",
       "  & Word1 & Word2 & Word3 & Df & Sum of Sq & F & Pr(>F)\\\\\n",
       "  & <dbl> & <dbl> & <dbl> & <dbl> & <dbl> & <dbl> & <dbl>\\\\\n",
       "\\hline\n",
       "\t      Control & 0.4 & 0.4 & -0.2 &  3 &  1.35 &  0.2666667 & 8.489105e-01\\\\\n",
       "\tHypochondriac & 2.8 & 3.6 & -0.2 &  3 & 56.15 & 11.0913580 & 7.543339e-05\\\\\n",
       "\tResiduals &  NA &  NA &   NA & 32 & 54.00 &         NA &           NA\\\\\n",
       "\\end{tabular}\n"
      ],
      "text/markdown": [
       "\n",
       "A anova: 3 × 7\n",
       "\n",
       "| <!--/--> | Word1 &lt;dbl&gt; | Word2 &lt;dbl&gt; | Word3 &lt;dbl&gt; | Df &lt;dbl&gt; | Sum of Sq &lt;dbl&gt; | F &lt;dbl&gt; | Pr(&gt;F) &lt;dbl&gt; |\n",
       "|---|---|---|---|---|---|---|---|\n",
       "|       Control | 0.4 | 0.4 | -0.2 |  3 |  1.35 |  0.2666667 | 8.489105e-01 |\n",
       "| Hypochondriac | 2.8 | 3.6 | -0.2 |  3 | 56.15 | 11.0913580 | 7.543339e-05 |\n",
       "| Residuals |  NA |  NA |   NA | 32 | 54.00 |         NA |           NA |\n",
       "\n"
      ],
      "text/plain": [
       "              Word1 Word2 Word3 Df Sum of Sq F          Pr(>F)      \n",
       "      Control 0.4   0.4   -0.2   3  1.35      0.2666667 8.489105e-01\n",
       "Hypochondriac 2.8   3.6   -0.2   3 56.15     11.0913580 7.543339e-05\n",
       "Residuals      NA    NA     NA  32 54.00             NA           NA"
      ]
     },
     "metadata": {},
     "output_type": "display_data"
    }
   ],
   "source": [
    "testInteractions(anova,                         \n",
    "                 fixed = \"Diagnosis\",               \n",
    "                 across = \"Word\")"
   ]
  },
  {
   "cell_type": "markdown",
   "metadata": {},
   "source": [
    "So far so good. To correct familywise error, we can just divide our $\\alpha$ by the number of simple effects. In our  case we have 2, so $\\alpha_{PC} = 0.05/2=0.025$."
   ]
  },
  {
   "cell_type": "code",
   "execution_count": 220,
   "metadata": {},
   "outputs": [
    {
     "data": {
      "text/html": [
       "4.23579733197032"
      ],
      "text/latex": [
       "4.23579733197032"
      ],
      "text/markdown": [
       "4.23579733197032"
      ],
      "text/plain": [
       "[1] 4.235797"
      ]
     },
     "metadata": {},
     "output_type": "display_data"
    }
   ],
   "source": [
    "qf(0.0125, 3, 32, lower.tail=FALSE)"
   ]
  },
  {
   "cell_type": "markdown",
   "metadata": {},
   "source": [
    "So there's no difference between Word types in the Control level of Diagnosis, while there *is* a difference between Word types in the Hypochondrial level. In other words, there is a statistically significant difference in number of recall among the four kinds of words in hypochondriacs, but not in controls."
   ]
  },
  {
   "cell_type": "markdown",
   "metadata": {},
   "source": [
    "**19. Test the simple effect of Diagnosis at each level of Word Type, correcting for familywise error? What do you conclude?**"
   ]
  },
  {
   "cell_type": "markdown",
   "metadata": {},
   "source": [
    "**Solution.** There are four simple effects of Diagnosis, at Cardiac ($B_1$), Cancer ($B_2$), Government ($B_3$), and School ($B_4$) levels. We want to find out what the conditional effects of Diagnosis are, given that we are in any of the Word factor levels. Let's get all our $F_{A\\, at\\, B_i}$:"
   ]
  },
  {
   "cell_type": "code",
   "execution_count": 182,
   "metadata": {},
   "outputs": [
    {
     "data": {
      "text/html": [
       "<table>\n",
       "<caption>A anova: 5 × 5</caption>\n",
       "<thead>\n",
       "\t<tr><th></th><th scope=col>Value</th><th scope=col>Df</th><th scope=col>Sum of Sq</th><th scope=col>F</th><th scope=col>Pr(&gt;F)</th></tr>\n",
       "\t<tr><th></th><th scope=col>&lt;dbl&gt;</th><th scope=col>&lt;dbl&gt;</th><th scope=col>&lt;dbl&gt;</th><th scope=col>&lt;dbl&gt;</th><th scope=col>&lt;dbl&gt;</th></tr>\n",
       "</thead>\n",
       "<tbody>\n",
       "\t<tr><th scope=row>   Cardiac</th><td>-1.8</td><td> 1</td><td> 8.1</td><td> 4.8000000</td><td>0.10757250</td></tr>\n",
       "\t<tr><th scope=row>    Cancer</th><td>-2.6</td><td> 1</td><td>16.9</td><td>10.0148148</td><td>0.01358617</td></tr>\n",
       "\t<tr><th scope=row>Government</th><td> 0.6</td><td> 1</td><td> 0.9</td><td> 0.5333333</td><td>0.94104390</td></tr>\n",
       "\t<tr><th scope=row>    School</th><td> 0.6</td><td> 1</td><td> 0.9</td><td> 0.5333333</td><td>0.94104390</td></tr>\n",
       "\t<tr><th scope=row>Residuals</th><td>  NA</td><td>32</td><td>54.0</td><td>        NA</td><td>        NA</td></tr>\n",
       "</tbody>\n",
       "</table>\n"
      ],
      "text/latex": [
       "A anova: 5 × 5\n",
       "\\begin{tabular}{r|lllll}\n",
       "  & Value & Df & Sum of Sq & F & Pr(>F)\\\\\n",
       "  & <dbl> & <dbl> & <dbl> & <dbl> & <dbl>\\\\\n",
       "\\hline\n",
       "\t   Cardiac & -1.8 &  1 &  8.1 &  4.8000000 & 0.10757250\\\\\n",
       "\t    Cancer & -2.6 &  1 & 16.9 & 10.0148148 & 0.01358617\\\\\n",
       "\tGovernment &  0.6 &  1 &  0.9 &  0.5333333 & 0.94104390\\\\\n",
       "\t    School &  0.6 &  1 &  0.9 &  0.5333333 & 0.94104390\\\\\n",
       "\tResiduals &   NA & 32 & 54.0 &         NA &         NA\\\\\n",
       "\\end{tabular}\n"
      ],
      "text/markdown": [
       "\n",
       "A anova: 5 × 5\n",
       "\n",
       "| <!--/--> | Value &lt;dbl&gt; | Df &lt;dbl&gt; | Sum of Sq &lt;dbl&gt; | F &lt;dbl&gt; | Pr(&gt;F) &lt;dbl&gt; |\n",
       "|---|---|---|---|---|---|\n",
       "|    Cardiac | -1.8 |  1 |  8.1 |  4.8000000 | 0.10757250 |\n",
       "|     Cancer | -2.6 |  1 | 16.9 | 10.0148148 | 0.01358617 |\n",
       "| Government |  0.6 |  1 |  0.9 |  0.5333333 | 0.94104390 |\n",
       "|     School |  0.6 |  1 |  0.9 |  0.5333333 | 0.94104390 |\n",
       "| Residuals |   NA | 32 | 54.0 |         NA |         NA |\n",
       "\n"
      ],
      "text/plain": [
       "           Value Df Sum of Sq F          Pr(>F)    \n",
       "   Cardiac -1.8   1  8.1       4.8000000 0.10757250\n",
       "    Cancer -2.6   1 16.9      10.0148148 0.01358617\n",
       "Government  0.6   1  0.9       0.5333333 0.94104390\n",
       "    School  0.6   1  0.9       0.5333333 0.94104390\n",
       "Residuals    NA  32 54.0              NA         NA"
      ]
     },
     "metadata": {},
     "output_type": "display_data"
    }
   ],
   "source": [
    "testInteractions(anova,                         \n",
    "                 fixed = \"Word\",               \n",
    "                 across = \"Diagnosis\")"
   ]
  },
  {
   "cell_type": "markdown",
   "metadata": {},
   "source": [
    "So far so good. To correct familywise error, we can just divide our $\\alpha$ by the number of simple effects. In our  case we have 4, so $\\alpha_{PC} = 0.05/4 = 0.0125$."
   ]
  },
  {
   "cell_type": "code",
   "execution_count": 218,
   "metadata": {},
   "outputs": [
    {
     "data": {
      "text/html": [
       "7.00570230700985"
      ],
      "text/latex": [
       "7.00570230700985"
      ],
      "text/markdown": [
       "7.00570230700985"
      ],
      "text/plain": [
       "[1] 7.005702"
      ]
     },
     "metadata": {},
     "output_type": "display_data"
    }
   ],
   "source": [
    "qf(0.0125, 1, 32, lower.tail=FALSE)"
   ]
  },
  {
   "cell_type": "markdown",
   "metadata": {},
   "source": [
    "So there is a significant difference between the two levels in Diagnosis in the Cancer level of Word only. That is, the control and the hypochondriacs are significantly different in the number of correctly recalled cancer-related words, and not for any other categories of words."
   ]
  },
  {
   "cell_type": "markdown",
   "metadata": {},
   "source": [
    "**20. Based on the results of the simple effects analysis, carry out all pairwise comparisons for Word Type within any levels of Diagnosis where it makes sense to do so. Make sure you control for familywise error. What do you conclude?**"
   ]
  },
  {
   "cell_type": "markdown",
   "metadata": {},
   "source": [
    "**Solution.** It looks like it would make most sense to carry out all pairwise comparisons in the Hypochondriac level. It would make most sense to use Tukey's HSD, since we're doing all pairwise comparisons and it's post-hoc (*Q: this is post-hoc, right? Since we decided to test it after looking at Q18 and 19?*). "
   ]
  },
  {
   "cell_type": "markdown",
   "metadata": {},
   "source": [
    "Well, let's get on with it. First we get R to display all the cell means in order:"
   ]
  },
  {
   "cell_type": "code",
   "execution_count": 184,
   "metadata": {},
   "outputs": [
    {
     "data": {
      "text/plain": [
       " Word       Diagnosis     emmean    SE df lower.CL upper.CL\n",
       " Cardiac    Control          9.4 0.581 32     8.22    10.58\n",
       " Cancer     Control          9.4 0.581 32     8.22    10.58\n",
       " Government Control          8.8 0.581 32     7.62     9.98\n",
       " School     Control          9.0 0.581 32     7.82    10.18\n",
       " Cardiac    Hypochondriac   11.2 0.581 32    10.02    12.38\n",
       " Cancer     Hypochondriac   12.0 0.581 32    10.82    13.18\n",
       " Government Hypochondriac    8.2 0.581 32     7.02     9.38\n",
       " School     Hypochondriac    8.4 0.581 32     7.22     9.58\n",
       "\n",
       "Confidence level used: 0.95 "
      ]
     },
     "metadata": {},
     "output_type": "display_data"
    }
   ],
   "source": [
    "Cell_Means <- emmeans(anova, ~ Word*Diagnosis)\n",
    "Cell_Means"
   ]
  },
  {
   "cell_type": "markdown",
   "metadata": {},
   "source": [
    "Then we write out the contrasts for all pairwise comparisons (never thought combinatorics would come in useful) and run them all:"
   ]
  },
  {
   "cell_type": "code",
   "execution_count": 232,
   "metadata": {},
   "outputs": [
    {
     "data": {
      "text/plain": [
       " contrast               estimate    SE df t.ratio p.value\n",
       " Cardiac vs. Cancer         -0.8 0.822 32 -0.974  0.3375 \n",
       " Cardiac vs. Government      3.0 0.822 32  3.651  0.0009 \n",
       " Cardiac vs. School          2.8 0.822 32  3.408  0.0018 \n",
       " Cancer vs. Government       3.8 0.822 32  4.625  0.0001 \n",
       " Cancer vs. School           3.6 0.822 32  4.382  0.0001 \n",
       " Government vs. School      -0.2 0.822 32 -0.243  0.8092 \n"
      ]
     },
     "metadata": {},
     "output_type": "display_data"
    }
   ],
   "source": [
    "contrasts = list(\"Cardiac vs. Cancer\" = c(0, 0, 0, 0, 1, -1, 0, 0),\n",
    "                 \"Cardiac vs. Government\" = c(0, 0, 0, 0, 1, 0, -1, 0),\n",
    "                 \"Cardiac vs. School\" = c(0, 0, 0, 0, 1, 0, 0, -1),\n",
    "                 \"Cancer vs. Government\" = c(0, 0, 0, 0, 0, 1, -1, 0),\n",
    "                 \"Cancer vs. School\" = c(0, 0, 0, 0, 0, 1, 0, -1),\n",
    "                 \"Government vs. School\" = c(0, 0, 0, 0, 0, 0, 1, -1)) # social commentary\n",
    "\n",
    "c = contrast(Cell_Means, contrasts, adjust = \"none\")\n",
    "c"
   ]
  },
  {
   "cell_type": "markdown",
   "metadata": {},
   "source": [
    "Well, we have to square the $t$ statistics before we can use them, so:"
   ]
  },
  {
   "cell_type": "code",
   "execution_count": 234,
   "metadata": {},
   "outputs": [
    {
     "data": {
      "text/html": [
       "<style>\n",
       ".list-inline {list-style: none; margin:0; padding: 0}\n",
       ".list-inline>li {display: inline-block}\n",
       ".list-inline>li:not(:last-child)::after {content: \"\\00b7\"; padding: 0 .5ex}\n",
       "</style>\n",
       "<ol class=list-inline><li>0.948148148148145</li><li>13.3333333333334</li><li>11.6148148148148</li><li>21.3925925925926</li><li>19.2</li><li>0.0592592592592597</li></ol>\n"
      ],
      "text/latex": [
       "\\begin{enumerate*}\n",
       "\\item 0.948148148148145\n",
       "\\item 13.3333333333334\n",
       "\\item 11.6148148148148\n",
       "\\item 21.3925925925926\n",
       "\\item 19.2\n",
       "\\item 0.0592592592592597\n",
       "\\end{enumerate*}\n"
      ],
      "text/markdown": [
       "1. 0.948148148148145\n",
       "2. 13.3333333333334\n",
       "3. 11.6148148148148\n",
       "4. 21.3925925925926\n",
       "5. 19.2\n",
       "6. 0.0592592592592597\n",
       "\n",
       "\n"
      ],
      "text/plain": [
       "[1]  0.94814815 13.33333333 11.61481481 21.39259259 19.20000000  0.05925926"
      ]
     },
     "metadata": {},
     "output_type": "display_data"
    }
   ],
   "source": [
    "(data.frame(c)$t.ratio)^2"
   ]
  },
  {
   "cell_type": "markdown",
   "metadata": {},
   "source": [
    "OK, I hope I'm not wrong. But since we are talking about Word levels *at* two Diagnoses, we have to use the $\\alpha = 0.025$ we used in Q18. And since there are 4 levels within Word, we have to put 4 as `nmeans`. "
   ]
  },
  {
   "cell_type": "code",
   "execution_count": 235,
   "metadata": {},
   "outputs": [
    {
     "data": {
      "text/html": [
       "9.03999943507928"
      ],
      "text/latex": [
       "9.03999943507928"
      ],
      "text/markdown": [
       "9.03999943507928"
      ],
      "text/plain": [
       "[1] 9.039999"
      ]
     },
     "metadata": {},
     "output_type": "display_data"
    }
   ],
   "source": [
    "q = qtukey(0.025, 4, 32, lower.tail=FALSE)\n",
    "(q^2)/2"
   ]
  },
  {
   "cell_type": "markdown",
   "metadata": {},
   "source": [
    "Then we get $F_{HSD}=9.040$. The pairwise comparisons \n",
    "\n",
    "* Cardiac vs. Government,\n",
    "* Cardiac vs. School,\n",
    "* Cancer vs. Government, and \n",
    "* Cancer vs. School\n",
    "\n",
    "are all significant, as we would expect! Within hypochondriacs, there is a difference these categories with respect to their recall performance."
   ]
  },
  {
   "cell_type": "markdown",
   "metadata": {},
   "source": [
    "**21. Come up with a contrast to test whether hypochondriacs have better recall for health-related words than non-health-related words. Control for familywise error. What do you conclude?**"
   ]
  },
  {
   "cell_type": "markdown",
   "metadata": {},
   "source": [
    "**Solution.** Only a single contrast. Let's quickly run the contrast:"
   ]
  },
  {
   "cell_type": "code",
   "execution_count": 248,
   "metadata": {},
   "outputs": [
    {
     "data": {
      "text/plain": [
       " contrast                                estimate    SE df t.ratio p.value\n",
       " Health vs. Non-Health in Hypochondriacs      3.3 0.581 32 5.680   <.0001 \n"
      ]
     },
     "metadata": {},
     "output_type": "display_data"
    }
   ],
   "source": [
    "contrasts = list(\"Health vs. Non-Health in Hypochondriacs\" = c(0, 0, 0, 0, 0.5, 0.5, -0.5, -0.5))\n",
    "contrast(Cell_Means, contrasts, adjust = \"none\")"
   ]
  },
  {
   "cell_type": "code",
   "execution_count": 239,
   "metadata": {},
   "outputs": [
    {
     "data": {
      "text/html": [
       "16.1312"
      ],
      "text/latex": [
       "16.1312"
      ],
      "text/markdown": [
       "16.1312"
      ],
      "text/plain": [
       "[1] 16.1312"
      ]
     },
     "metadata": {},
     "output_type": "display_data"
    }
   ],
   "source": [
    "(5.680^2)/2"
   ]
  },
  {
   "cell_type": "markdown",
   "metadata": {},
   "source": [
    "We would like to use Scheffé's correction since this contrast is complex, and Scheffé's allows either planned or post-hoc (this one being post-hoc). Since we have 4 groups, $a = 4$, and $N=20$ since, as far as the contrast is concerned, there are only the hypochondriacs. Then,\n",
    "\n",
    "$$F_{Scheffé} = (a-1)F_{0.05; a-1, N-a} = (4-1)F_{0.05; 4-1, 20-4} = 3F_{0.05;3,16} = 9.717$$"
   ]
  },
  {
   "cell_type": "code",
   "execution_count": 241,
   "metadata": {},
   "outputs": [
    {
     "data": {
      "text/html": [
       "9.71661455236076"
      ],
      "text/latex": [
       "9.71661455236076"
      ],
      "text/markdown": [
       "9.71661455236076"
      ],
      "text/plain": [
       "[1] 9.716615"
      ]
     },
     "metadata": {},
     "output_type": "display_data"
    }
   ],
   "source": [
    "3*qf(0.05, 3, 16, lower.tail=FALSE)"
   ]
  },
  {
   "cell_type": "markdown",
   "metadata": {},
   "source": [
    "Since $F=16.131$ is well above $F_{Scheffé} = 9.717$, we are in the clear. Hypochondriacs have significantly better recall for health-related words than non-health-related words. "
   ]
  },
  {
   "cell_type": "markdown",
   "metadata": {},
   "source": [
    "**22. Report Cohen’s $d$ for the contrast you tested in #21.**"
   ]
  },
  {
   "cell_type": "markdown",
   "metadata": {},
   "source": [
    "**Solution.** We can get $\\psi$ using our contrast from Q21 and the group means:\n",
    "\n",
    "$$\\hat{\\psi} = \\frac{1}{2}11.2 + \\frac{1}{2}12 -\\frac{1}{2}8.2 -\\frac{1}{2}8.4$$\n",
    "$$=3.3$$"
   ]
  },
  {
   "cell_type": "markdown",
   "metadata": {},
   "source": [
    "And we can get $MS_{within} = 1.688$ from earlier when we used `anova`. Then,\n",
    "\n",
    "$$d = \\frac{\\psi}{\\sqrt{MS_{within}}} = \\frac{3.3}{\\sqrt{1.688}}=2.540$$"
   ]
  },
  {
   "cell_type": "markdown",
   "metadata": {},
   "source": [
    "**23. After looking at the data, you suspect that hypochondriacs have better recall for health-related words than non-health-related words, but that this effect is not present in the control group. Come up with the appropriate interaction contrast that allows you to test whether the effect differs between the hypochondriac and control groups. Make sure you control for familywise error. What do you conclude?**"
   ]
  },
  {
   "cell_type": "markdown",
   "metadata": {},
   "source": [
    "**Solution.** OK, this is about to be real messy. Our null hypothesis is that the hypochondriacs and the control have the same sort of relationship between health-related words and non-health-related words."
   ]
  },
  {
   "cell_type": "code",
   "execution_count": 250,
   "metadata": {},
   "outputs": [
    {
     "data": {
      "text/plain": [
       " Word       Diagnosis     emmean    SE df lower.CL upper.CL\n",
       " Cardiac    Control          9.4 0.581 32     8.22    10.58\n",
       " Cancer     Control          9.4 0.581 32     8.22    10.58\n",
       " Government Control          8.8 0.581 32     7.62     9.98\n",
       " School     Control          9.0 0.581 32     7.82    10.18\n",
       " Cardiac    Hypochondriac   11.2 0.581 32    10.02    12.38\n",
       " Cancer     Hypochondriac   12.0 0.581 32    10.82    13.18\n",
       " Government Hypochondriac    8.2 0.581 32     7.02     9.38\n",
       " School     Hypochondriac    8.4 0.581 32     7.22     9.58\n",
       "\n",
       "Confidence level used: 0.95 "
      ]
     },
     "metadata": {},
     "output_type": "display_data"
    }
   ],
   "source": [
    "Cell_Means"
   ]
  },
  {
   "cell_type": "markdown",
   "metadata": {},
   "source": [
    "Given the above order, that means something like:\n",
    "\n",
    "$$(\\mu_{11}+\\mu_{12})-(\\mu_{13}+\\mu_{14}) = (\\mu_{21}+\\mu_{22})-(\\mu_{23}+\\mu_{24})$$\n",
    "\n",
    "Miraculously, through algebra, \n",
    "\n",
    "$$\\mu_{11}+\\mu_{12}-\\mu_{13}-\\mu_{14}-\\mu_{21}-\\mu_{22}+\\mu_{23}+\\mu_{24}=0$$\n",
    "\n"
   ]
  },
  {
   "cell_type": "markdown",
   "metadata": {},
   "source": [
    "So our contrast should be \n",
    "\n",
    "$$\\Big[\\frac{1}{2}, \\frac{1}{2}, -\\frac{1}{2}, -\\frac{1}{2}, -\\frac{1}{2}, -\\frac{1}{2}, \\frac{1}{2}, \\frac{1}{2}\\Big]$$"
   ]
  },
  {
   "cell_type": "markdown",
   "metadata": {},
   "source": [
    "Which looks like some sort of a centipede. And we can just shwoop that in:"
   ]
  },
  {
   "cell_type": "code",
   "execution_count": 249,
   "metadata": {},
   "outputs": [
    {
     "data": {
      "text/plain": [
       " contrast                                            estimate    SE df t.ratio\n",
       " Health vs. Non-Health in Hypochondriacs vs. Control     -2.8 0.822 32 -3.408 \n",
       " p.value\n",
       " 0.0018 \n"
      ]
     },
     "metadata": {},
     "output_type": "display_data"
    }
   ],
   "source": [
    "contrasts = list(\"Health vs. Non-Health in Hypochondriacs vs. Control\" = c(0.5, 0.5, -0.5, -0.5, -0.5, -0.5, 0.5, 0.5))\n",
    "contrast(Cell_Means, contrasts, adjust = \"none\")"
   ]
  },
  {
   "cell_type": "markdown",
   "metadata": {},
   "source": [
    "And we'll square the $t$ statistic to get our $F$:"
   ]
  },
  {
   "cell_type": "code",
   "execution_count": 254,
   "metadata": {},
   "outputs": [
    {
     "data": {
      "text/html": [
       "11.614464"
      ],
      "text/latex": [
       "11.614464"
      ],
      "text/markdown": [
       "11.614464"
      ],
      "text/plain": [
       "[1] 11.61446"
      ]
     },
     "metadata": {},
     "output_type": "display_data"
    }
   ],
   "source": [
    "(-3.408)^2"
   ]
  },
  {
   "cell_type": "markdown",
   "metadata": {},
   "source": [
    "And we'll use Scheffé's correction, since this is a complex comparison. But it's a little different this time. We have $a=2$ and $b=4$ groups, and $N=40$ since we care about both Hypochondriacs and Control. And it looks like we use $df =32$ rather than $N-a = 38$. Then,\n",
    "\n",
    "$$F_{Scheffé} = (a-1)(b-1)F_{0.05; (a-1)(b-1), 32} = (1)(3)F_{0.05; (1)(3), 32} = 3F_{0.05;3,32} = 8.703$$"
   ]
  },
  {
   "cell_type": "code",
   "execution_count": 255,
   "metadata": {},
   "outputs": [
    {
     "data": {
      "text/html": [
       "8.70335875152252"
      ],
      "text/latex": [
       "8.70335875152252"
      ],
      "text/markdown": [
       "8.70335875152252"
      ],
      "text/plain": [
       "[1] 8.703359"
      ]
     },
     "metadata": {},
     "output_type": "display_data"
    }
   ],
   "source": [
    "3*qf(0.05, 3, 32, lower.tail=FALSE)"
   ]
  },
  {
   "cell_type": "markdown",
   "metadata": {},
   "source": [
    "There we have it. That actually wasn't so bad. $F=11.614$ is more extreme than $F_{Scheffé} = 8.703$. Therefore, we have a reason to believe that hypochondriacs do, in fact, have better recall of health-related words than the control."
   ]
  },
  {
   "cell_type": "markdown",
   "metadata": {},
   "source": [
    "**24. What proportion of the omnibus interaction sum of squares is accounted for by the interaction contrast you tested in #23?**"
   ]
  },
  {
   "cell_type": "markdown",
   "metadata": {},
   "source": [
    "**Solution.**\n",
    "\n",
    "We found in Q15 that $SS_{AB}=20.4$. Because I don't know how to find the sum of squares of this Q23's interaction by R, I will unfortunately have to calculate it by hand. \n",
    "\n",
    "Let's first get $\\psi$:"
   ]
  },
  {
   "cell_type": "code",
   "execution_count": 262,
   "metadata": {},
   "outputs": [
    {
     "data": {
      "text/html": [
       "-2.8"
      ],
      "text/latex": [
       "-2.8"
      ],
      "text/markdown": [
       "-2.8"
      ],
      "text/plain": [
       "[1] -2.8"
      ]
     },
     "metadata": {},
     "output_type": "display_data"
    }
   ],
   "source": [
    "means = data.frame(Cell_Means)$emmean\n",
    "contrast = c(0.5, 0.5, -0.5, -0.5, -0.5, -0.5, 0.5, 0.5)\n",
    "psi = sum(means*contrast)\n",
    "psi"
   ]
  },
  {
   "cell_type": "markdown",
   "metadata": {},
   "source": [
    "Since $n=5$,\n",
    "\n",
    "$$SS_\\psi = \\frac{n(\\psi)^2}{\\sum c^2} = \\frac{5\\cdot(-2.8)^2}{\\sum c^2} = 19.6$$"
   ]
  },
  {
   "cell_type": "code",
   "execution_count": 267,
   "metadata": {},
   "outputs": [
    {
     "data": {
      "text/html": [
       "19.6"
      ],
      "text/latex": [
       "19.6"
      ],
      "text/markdown": [
       "19.6"
      ],
      "text/plain": [
       "[1] 19.6"
      ]
     },
     "metadata": {},
     "output_type": "display_data"
    }
   ],
   "source": [
    "denom = sum(contrast^2)\n",
    "nom = 5*((-2.8)^2)\n",
    "nom/denom"
   ]
  },
  {
   "cell_type": "markdown",
   "metadata": {},
   "source": [
    "Finally, we can figure out just what percent of $SS_{AB}$ this interaction contrast accounts for:"
   ]
  },
  {
   "cell_type": "code",
   "execution_count": 268,
   "metadata": {},
   "outputs": [
    {
     "data": {
      "text/html": [
       "0.96078431372549"
      ],
      "text/latex": [
       "0.96078431372549"
      ],
      "text/markdown": [
       "0.96078431372549"
      ],
      "text/plain": [
       "[1] 0.9607843"
      ]
     },
     "metadata": {},
     "output_type": "display_data"
    }
   ],
   "source": [
    "19.6/20.4"
   ]
  },
  {
   "cell_type": "markdown",
   "metadata": {},
   "source": [
    "This interaction contrast accounts for 96.1% of the omnibus interaction effect!"
   ]
  },
  {
   "cell_type": "markdown",
   "metadata": {},
   "source": [
    "**25. Suppose you were writing up the results of this study with your lab mates, and one of them wrote that there was no effect of diagnosis because the omnibus effect was non-significant. Do you agree with your lab mate’s conclusion? Why or why not? If not, how would you write up the results instead?**"
   ]
  },
  {
   "cell_type": "markdown",
   "metadata": {},
   "source": [
    "**Solution.** He seems to be referring to these results, where Diagnosis only accounts for 0.054% of the $SS_{total}$:"
   ]
  },
  {
   "cell_type": "code",
   "execution_count": 271,
   "metadata": {},
   "outputs": [
    {
     "data": {
      "text/plain": [
       "               Df Sum Sq Mean Sq F value   Pr(>F)    \n",
       "Word            3   37.1  12.367   7.328 0.000713 ***\n",
       "Diagnosis       1    6.4   6.400   3.793 0.060300 .  \n",
       "Word:Diagnosis  3   20.4   6.800   4.030 0.015391 *  \n",
       "Residuals      32   54.0   1.688                     \n",
       "---\n",
       "Signif. codes:  0 ‘***’ 0.001 ‘**’ 0.01 ‘*’ 0.05 ‘.’ 0.1 ‘ ’ 1"
      ]
     },
     "metadata": {},
     "output_type": "display_data"
    }
   ],
   "source": [
    "anova <- aov(Correct ~ Word + Diagnosis + Word*Diagnosis, data = health)\n",
    "summary(anova)"
   ]
  },
  {
   "cell_type": "markdown",
   "metadata": {},
   "source": [
    "I disagree with him. We know that a) interaction contrasts can tell you whether one effect differs from another effect and b) interaction contrasts are subeffects of the omnibus interaction. From Q23 we know that Diagnosis does play a statistically significant role in how the participant does with respect to health vs. non-health-related words, and from Q24 we know that the interaction of Q23 accounts for 96.1% of the omnibus interaction effect, or 16.6% of $SS_{total}$, which is really not a small chunk. I would write that, while the factor Diagnosis has no significant main effect, it accounts for the majority of the effect within the interaction, so it is significant.\n",
    "\n",
    "*Obviously I don't know how to say this in a less clumsy way (and probably don't understand it as well as I should). I would appreciate getting comments back.*"
   ]
  }
 ],
 "metadata": {
  "kernelspec": {
   "display_name": "R",
   "language": "R",
   "name": "ir"
  },
  "language_info": {
   "codemirror_mode": "r",
   "file_extension": ".r",
   "mimetype": "text/x-r-source",
   "name": "R",
   "pygments_lexer": "r",
   "version": "4.0.2"
  }
 },
 "nbformat": 4,
 "nbformat_minor": 4
}
