{
 "cells": [
  {
   "cell_type": "markdown",
   "metadata": {},
   "source": [
    "# **HW3: Power & Individual Comparisons**\n",
    "### Seung Kim\n",
    "### October 29, 2020\n",
    "\n",
    "**In a study of a behavioral self-control intervention for problem drinkers, one of the less sensitive dependent variables was number of drinking days per week (Hester & Delaney, 1997). Forty participants were assigned randomly to either receive the intervention immediately or be in a waiting list control group (i.e., n=20 per group). At the initial follow-up assessment, the means and standard deviations on Drinking Days per Week were as follows:**\n",
    "\n",
    "| Condition | Mean | SD   |\n",
    "|-----------|------|------|\n",
    "| Immediate | 3.65 | 1.57 |\n",
    "| Delayed   | 4.80 | 2.55 |\n",
    "\n",
    "\n",
    "**Assume this set of data is being viewed as a pilot study for a proposed replication.**\n",
    "\n",
    "**1. Conduct an ANOVA on these data, and compute as descriptive measures of the observed effect size both $d$ and $\\hat{f}_{obv}$.**"
   ]
  },
  {
   "cell_type": "markdown",
   "metadata": {},
   "source": [
    "**Solution.** \n",
    "\n",
    "**I'm writing a lot to check my understanding (trying to really make sure I *understand* stats)—if you have the patience for it, I would really appreciate some feedback.**\n",
    "\n",
    "Let us start by articulating our models. Since the groups have equal sample sizes, we can quickly get grand mean $\\hat{\\mu} = 4.225$ by averaging the group means. Then, we have the following models:\n",
    "\n",
    "* Full: $Y_{ij} = \\mu_j +\\epsilon_{ijF}$\n",
    "* Restricted: $Y_{ij} = 4.225+\\epsilon_{ijR}$\n",
    "\n",
    "Let's work on the ANOVA. ANOVA essentially compares the effect produced by the differences detected between groups (effect from Treatment; accounted for by Model) to the effect produced by the difference detected within each group (effect from Error; accounted for by Residual). The $F$-statistic measures the ratio between these differences.\n",
    "\n",
    "$$F = \\frac{MS_{between}}{MS_{within}}$$\n",
    "\n",
    "$MS_{between}$ is approximated by $\\frac{E_R-E_F}{df_R-df_F}$, since we can isolate the effect produced by differences between groups by comparing the effect of the Full model ($E_F$), which assumes that different groups exist, to the effect of the Restricted model ($E_R$), which assumes that no differences between groups exist.\n",
    "\n",
    "$MS_{within}$ is approximated by $\\frac{E_F}{df_F}$, since we can only get the effect produced by differences within each group through the Full model, which assumes that different groups exist.\n",
    "\n",
    "Onto the calculations. Let's first get $E_R-E_F$: \n",
    "\n",
    "$$(E_R-E_F) = \\sum_{j=1}^a n_j(\\bar{Y}_j-\\bar{Y})^2 = 20(3.65-4.225)^2 + 20(4.80-4.225)^2 = 6.6125 + 6.6125$$\n",
    "$$= 13.225$$\n",
    "\n",
    "And we can get the $\\frac{E_F}{df_F}$ as well:\n",
    "\n",
    "$$\\frac{E_F}{df_F} = \\frac{\\sum s^2_j}{a}= \\frac{1.57^2+2.55^2}{2}$$\n",
    "$$=4.484$$\n",
    "\n",
    "Cool. Now all we need is $df_R-df_F$. For the restricted model, we only estimate the grand mean, so $df_R = 40-1 = 39$; for the full model, we estimate the grand mean and one group mean so $df_F = 40-2=38$. So:\n",
    "\n",
    "$$(df_R-df_F) = 39-38$$\n",
    "$$=1$$\n",
    "\n",
    "So now let's bang out the $F$-statistic:\n",
    "\n",
    "$$F=\\frac{(E_R-E_F)/(df_R-df_F)}{E_F/df_F} = \\frac{13.225/1}{4.484}$$\n",
    "$$=2.950$$\n",
    "\n",
    "And compare to $F_{0.05;1,38}$:"
   ]
  },
  {
   "cell_type": "code",
   "execution_count": 32,
   "metadata": {},
   "outputs": [
    {
     "data": {
      "text/html": [
       "4.09817173088084"
      ],
      "text/latex": [
       "4.09817173088084"
      ],
      "text/markdown": [
       "4.09817173088084"
      ],
      "text/plain": [
       "[1] 4.098172"
      ]
     },
     "metadata": {},
     "output_type": "display_data"
    }
   ],
   "source": [
    "qf(0.05, 1, 38, lower.tail = FALSE)"
   ]
  },
  {
   "cell_type": "markdown",
   "metadata": {},
   "source": [
    "Our $F=2.950$ is smaller than the $F_{0.05;1,38}$. So the full model does not do significantly better than the restricted model, and there is not enough evidence to believe that immediate treatment significantly affects the number of drinking days per week compared to the control."
   ]
  },
  {
   "cell_type": "markdown",
   "metadata": {},
   "source": [
    "Let's now talk about the measures of effect size, $d$ and $\\hat{f}_{obv}$.\n",
    "\n",
    "Cohen's $d$ is an estimate of the standardized difference between the population means. We happen to know that $\\sqrt{MS_{within}}$ is our best estimate for the population standard deviation (since we assume the homogeneity of variance, both groups are assumed to have the same $\\sigma$). We cal this figure $s_p$ or pooled standard deviation.\n",
    "\n",
    "To get $d$, we plug into the following equation:\n",
    "\n",
    "$$d = \\frac{\\bar{Y_1}-\\bar{Y_2}}{s_p} = \\frac{3.65-4.80}{\\sqrt{MS_{within}}} = \\frac{-1.15}{\\sqrt{4.484}} = \\frac{-1.15}{2.118}$$\n",
    "$$=-0.543$$\n",
    "\n",
    "So, immediate intervention decreased drinking days per week by 0.543 standard deviations. That is just above Cohen's cutoff for a 'medium' effect."
   ]
  },
  {
   "cell_type": "markdown",
   "metadata": {},
   "source": [
    "Cool. The $f$ is the ratio of the standard deviation of populations means to the pooled within-group standard deviation.\n",
    "\n",
    "$$f=\\frac{\\sigma_m}{\\sigma_\\epsilon}$$\n",
    "\n",
    "The *standard deviation of population means* ($\\sigma_m$) is estimated by the standard deviation of the group means from the grand mean; the *within-group standard deviation* ($\\sigma_\\epsilon$) is just $\\sqrt{MS_{within}}$, which is the same thing as standard deviation because of variation inherent to within each group (=error, residual). This constitutes the 'obvious' estimate of $f$.\n",
    "\n",
    "Let's now calculate it. Since our grand mean is 4.225,\n",
    "\n",
    "$$\\hat{f}_{obv} = \\frac{\\sqrt{\\sum_1^j(\\mu_j-\\mu)^2/a}}{\\sqrt{MS_{within}}} = \\frac{\\sqrt{\\frac{(3.65-4.225)^2+(4.80-4.225)^2}{2}}}{\\sqrt{4.484}}=\\frac{\\sqrt{0.331}}{\\sqrt{4.484}}$$\n",
    "$$=0.272$$\n",
    "\n",
    "There's another way to calculate this. \n",
    "\n",
    "$$\\hat{f}_{obv} = \\sqrt{\\frac{(a-1)F}{N}} = \\sqrt{\\frac{1\\times 2.950 }{40}} = 0.272$$\n",
    "\n",
    "An $f\\geq0.25$ is considered a 'medium' effect size. But since $f_{obv}$ is usually an overestimate of $f_{unb}$, $f_{unb}$ is probably smaller and possibly considered 'small'.\n"
   ]
  },
  {
   "cell_type": "markdown",
   "metadata": {},
   "source": [
    "**2. Determine the sample size that would be required to achieve a power of .80 using an $α$ of .05 if one used the value of $\\hat{f}_{obv}$ arrived at in #1 as the effect size measure in a power analysis.**"
   ]
  },
  {
   "cell_type": "markdown",
   "metadata": {},
   "source": [
    "**Solution.** We would need 55 participants in each group (rounding up), for a total sample size of 110."
   ]
  },
  {
   "cell_type": "code",
   "execution_count": 9,
   "metadata": {},
   "outputs": [],
   "source": [
    "library('pwr')"
   ]
  },
  {
   "cell_type": "code",
   "execution_count": 10,
   "metadata": {},
   "outputs": [
    {
     "data": {
      "text/plain": [
       "\n",
       "     Balanced one-way analysis of variance power calculation \n",
       "\n",
       "              k = 2\n",
       "              n = 54.02168\n",
       "              f = 0.272\n",
       "      sig.level = 0.05\n",
       "          power = 0.8\n",
       "\n",
       "NOTE: n is number in each group\n"
      ]
     },
     "metadata": {},
     "output_type": "display_data"
    }
   ],
   "source": [
    "pwr.anova.test(k=2, f=0.272, sig.level=0.05, power=0.80)"
   ]
  },
  {
   "cell_type": "markdown",
   "metadata": {},
   "source": [
    "**3. Now compute $f_{.50}$ and $f_{.33}$, the lower bounds of one-sided 50% and 66.7% confidence intervals for this effect size measure. Carry out a revised power analysis based on these two alternate effect size measures. How do the required sample sizes compare to what you found in #2? What does this tell you about how effect size relates to required sample size?**"
   ]
  },
  {
   "cell_type": "markdown",
   "metadata": {},
   "source": [
    "**Solution.** $\\hat{f}_{.50}$ is the median effect size, which is less biased than both $\\hat{f}_{obv}$ and $\\hat{f}_{unb}$."
   ]
  },
  {
   "cell_type": "code",
   "execution_count": 12,
   "metadata": {},
   "outputs": [],
   "source": [
    "library('MBESS')"
   ]
  },
  {
   "cell_type": "code",
   "execution_count": 67,
   "metadata": {},
   "outputs": [
    {
     "data": {
      "text/html": [
       "<dl>\n",
       "\t<dt>$Lower.Limit.of.the.Square.Root.of.the.Signal.to.Noise.Ratio</dt>\n",
       "\t\t<dd>0.269602691831927</dd>\n",
       "\t<dt>$Upper.Limit.of.the.Square.Root.of.the.Signal.to.Noise.Ratio</dt>\n",
       "\t\t<dd></dd>\n",
       "</dl>\n"
      ],
      "text/latex": [
       "\\begin{description}\n",
       "\\item[\\$Lower.Limit.of.the.Square.Root.of.the.Signal.to.Noise.Ratio] 0.269602691831927\n",
       "\\item[\\$Upper.Limit.of.the.Square.Root.of.the.Signal.to.Noise.Ratio] \n",
       "\\end{description}\n"
      ],
      "text/markdown": [
       "$Lower.Limit.of.the.Square.Root.of.the.Signal.to.Noise.Ratio\n",
       ":   0.269602691831927\n",
       "$Upper.Limit.of.the.Square.Root.of.the.Signal.to.Noise.Ratio\n",
       ":   \n",
       "\n",
       "\n"
      ],
      "text/plain": [
       "$Lower.Limit.of.the.Square.Root.of.the.Signal.to.Noise.Ratio\n",
       "[1] 0.2696027\n",
       "\n",
       "$Upper.Limit.of.the.Square.Root.of.the.Signal.to.Noise.Ratio\n",
       "numeric(0)\n"
      ]
     },
     "metadata": {},
     "output_type": "display_data"
    }
   ],
   "source": [
    "ci.srsnr(F.value=2.950, df.1=1, df.2=38, N=40, alpha.lower=0.5, alpha.upper=0)"
   ]
  },
  {
   "cell_type": "markdown",
   "metadata": {},
   "source": [
    "So we get an $\\hat{f}_{med} =0.270$, which is marginally smaller than $\\hat{f}_{obv}$."
   ]
  },
  {
   "cell_type": "code",
   "execution_count": 71,
   "metadata": {},
   "outputs": [
    {
     "data": {
      "text/plain": [
       "\n",
       "     Balanced one-way analysis of variance power calculation \n",
       "\n",
       "              k = 2\n",
       "              n = 54.96887\n",
       "              f = 0.2696027\n",
       "      sig.level = 0.05\n",
       "          power = 0.8\n",
       "\n",
       "NOTE: n is number in each group\n"
      ]
     },
     "metadata": {},
     "output_type": "display_data"
    }
   ],
   "source": [
    "pwr.anova.test(k=2, f=0.269602691831927, sig.level=0.05, power=0.80)"
   ]
  },
  {
   "cell_type": "markdown",
   "metadata": {},
   "source": [
    "And we need 55 people per sample for a total of 110 people, but $n=54.969$ is closer to 55 than the $n=54.022$ of $\\hat{f}_{obv}$."
   ]
  },
  {
   "cell_type": "markdown",
   "metadata": {},
   "source": [
    "How about $\\hat{f}_{0.33}$, the lower bound for the 66.7% CI for $f$?"
   ]
  },
  {
   "cell_type": "code",
   "execution_count": 72,
   "metadata": {},
   "outputs": [
    {
     "data": {
      "text/html": [
       "<dl>\n",
       "\t<dt>$Lower.Limit.of.the.Square.Root.of.the.Signal.to.Noise.Ratio</dt>\n",
       "\t\t<dd>0.198067264880928</dd>\n",
       "\t<dt>$Upper.Limit.of.the.Square.Root.of.the.Signal.to.Noise.Ratio</dt>\n",
       "\t\t<dd></dd>\n",
       "</dl>\n"
      ],
      "text/latex": [
       "\\begin{description}\n",
       "\\item[\\$Lower.Limit.of.the.Square.Root.of.the.Signal.to.Noise.Ratio] 0.198067264880928\n",
       "\\item[\\$Upper.Limit.of.the.Square.Root.of.the.Signal.to.Noise.Ratio] \n",
       "\\end{description}\n"
      ],
      "text/markdown": [
       "$Lower.Limit.of.the.Square.Root.of.the.Signal.to.Noise.Ratio\n",
       ":   0.198067264880928\n",
       "$Upper.Limit.of.the.Square.Root.of.the.Signal.to.Noise.Ratio\n",
       ":   \n",
       "\n",
       "\n"
      ],
      "text/plain": [
       "$Lower.Limit.of.the.Square.Root.of.the.Signal.to.Noise.Ratio\n",
       "[1] 0.1980673\n",
       "\n",
       "$Upper.Limit.of.the.Square.Root.of.the.Signal.to.Noise.Ratio\n",
       "numeric(0)\n"
      ]
     },
     "metadata": {},
     "output_type": "display_data"
    }
   ],
   "source": [
    "ci.srsnr(F.value=2.950, df.1=1, df.2=38, N=40, alpha.lower=0.33, alpha.upper=0)"
   ]
  },
  {
   "cell_type": "code",
   "execution_count": 73,
   "metadata": {},
   "outputs": [
    {
     "data": {
      "text/plain": [
       "\n",
       "     Balanced one-way analysis of variance power calculation \n",
       "\n",
       "              k = 2\n",
       "              n = 101.0042\n",
       "              f = 0.1980673\n",
       "      sig.level = 0.05\n",
       "          power = 0.8\n",
       "\n",
       "NOTE: n is number in each group\n"
      ]
     },
     "metadata": {},
     "output_type": "display_data"
    }
   ],
   "source": [
    "pwr.anova.test(k=2, f=0.198067264880928, sig.level=0.05, power=0.80)"
   ]
  },
  {
   "cell_type": "markdown",
   "metadata": {},
   "source": [
    "So we get $\\hat{f}_{0.33} = 0.198$ which is much smaller than $\\hat{f}_{obv}$, and needs a much larger sample size of 102 for each group for a total of 204."
   ]
  },
  {
   "cell_type": "markdown",
   "metadata": {},
   "source": [
    "So, as the effect size decreases, we need a larger sample size if we want the same level of power. Which makes sense—if the effect is really big, we wouldn't need to test as many people to know that the effect is really there, but if the effect is small, we would need to test a lot of people to make sure the effect is not just from sampling error."
   ]
  },
  {
   "cell_type": "markdown",
   "metadata": {},
   "source": [
    "**A graduate student has conducted a treatment study involving three treatments to alleviate depression. The first two groups are active treatment groups and the third group is a placebo control group. The following data are obtained:**\n",
    "\n",
    "| Active Treatment 1 | Active Treatment 2 | Control |\n",
    "|:------------------:|:------------------:|:-------:|\n",
    "| 10                 | 6                  | 13      |\n",
    "| 13                 | 12                 | 16      |\n",
    "| 14                 | 8                  | 13      |\n",
    "| 8                  | 13                 | 19      |\n",
    "| 9                  | 10                 | 11      |\n",
    "| 12                 | 16                 | 13      |\n",
    "\n",
    "\n",
    "**You may assume homogeneity of variance throughout all parts of this exercise. You may use `aov()` or `lm()` to obtain $MS_{within}$; otherwise, carry out all analyses by hand. It is fine to use R as a calculator for any necessary quantities – e.g., group means, $\\hat{ψ}$, etc. – but please clearly show your calculations for $SS_{contrast}$ and $F_{contrast}$.**"
   ]
  },
  {
   "cell_type": "markdown",
   "metadata": {},
   "source": [
    "**4. Test whether the mean of Active Treatment 1 is different from the mean of the Control group.**\n",
    "\n"
   ]
  },
  {
   "cell_type": "markdown",
   "metadata": {},
   "source": [
    "**Solution.** OK, let's first take care of the dataset."
   ]
  },
  {
   "cell_type": "code",
   "execution_count": 28,
   "metadata": {},
   "outputs": [],
   "source": [
    "AT1 = c(10, 13, 14, 8, 9, 12)\n",
    "AT2 = c(6, 12, 8, 13, 10, 16)\n",
    "Control = c(13, 16, 13, 19, 11, 13)"
   ]
  },
  {
   "cell_type": "markdown",
   "metadata": {},
   "source": [
    "We're doing an individual mean comparison between the Active Treatment 1 and Control groups. Let's start by articulating our models:\n",
    "\n",
    "* Full: $Y_{ij} = \\mu_j+\\epsilon_{ij}$ (all means are different)\n",
    "* Restricted: $Y_{ij} = \\mu_j+\\epsilon_{ij}$ where $\\mu_1=\\mu_3$ (all means are different, except $\\mu_1=\\mu_3$)"
   ]
  },
  {
   "cell_type": "markdown",
   "metadata": {},
   "source": [
    "Now, we can do our individual comparison to test $H_0: \\mu_1=\\mu_3$. We can go about this in two ways. I'm going to try the long way first."
   ]
  },
  {
   "cell_type": "code",
   "execution_count": 62,
   "metadata": {},
   "outputs": [
    {
     "data": {
      "text/html": [
       "3.37593516209476"
      ],
      "text/latex": [
       "3.37593516209476"
      ],
      "text/markdown": [
       "3.37593516209476"
      ],
      "text/plain": [
       "[1] 3.375935"
      ]
     },
     "metadata": {},
     "output_type": "display_data"
    }
   ],
   "source": [
    "E_F = sum((AT1-mean(AT1))^2)+sum((AT2-mean(AT2))^2)+sum((Control-mean(Control))^2)\n",
    "Y_star = c(AT1, Control)\n",
    "E_R = sum((AT1-mean(Y_star))^2)+sum((AT2-mean(AT2))^2)+sum((Control-mean(Y_star))^2)\n",
    "\n",
    "# df_F = 15 since we estimate 3 means; \n",
    "# df_R = 16 since we only estimate 2.\n",
    "df_F = 15\n",
    "df_R = 16\n",
    "num = (E_R-E_F)/(df_R-df_F)\n",
    "denom = E_F/df_F\n",
    "F = num/denom\n",
    "F"
   ]
  },
  {
   "cell_type": "markdown",
   "metadata": {},
   "source": [
    "Cool, so we get $F=3.376$. Let's try the shortcut way:"
   ]
  },
  {
   "cell_type": "code",
   "execution_count": 27,
   "metadata": {},
   "outputs": [
    {
     "data": {
      "text/html": [
       "11"
      ],
      "text/latex": [
       "11"
      ],
      "text/markdown": [
       "11"
      ],
      "text/plain": [
       "[1] 11"
      ]
     },
     "metadata": {},
     "output_type": "display_data"
    },
    {
     "data": {
      "text/html": [
       "10.8333333333333"
      ],
      "text/latex": [
       "10.8333333333333"
      ],
      "text/markdown": [
       "10.8333333333333"
      ],
      "text/plain": [
       "[1] 10.83333"
      ]
     },
     "metadata": {},
     "output_type": "display_data"
    },
    {
     "data": {
      "text/html": [
       "14.1666666666667"
      ],
      "text/latex": [
       "14.1666666666667"
      ],
      "text/markdown": [
       "14.1666666666667"
      ],
      "text/plain": [
       "[1] 14.16667"
      ]
     },
     "metadata": {},
     "output_type": "display_data"
    }
   ],
   "source": [
    "mean(AT1)\n",
    "mean(AT2)\n",
    "mean(Control)"
   ]
  },
  {
   "cell_type": "code",
   "execution_count": 30,
   "metadata": {},
   "outputs": [
    {
     "data": {
      "text/html": [
       "2.36643191323985"
      ],
      "text/latex": [
       "2.36643191323985"
      ],
      "text/markdown": [
       "2.36643191323985"
      ],
      "text/plain": [
       "[1] 2.366432"
      ]
     },
     "metadata": {},
     "output_type": "display_data"
    },
    {
     "data": {
      "text/html": [
       "3.60092580688171"
      ],
      "text/latex": [
       "3.60092580688171"
      ],
      "text/markdown": [
       "3.60092580688171"
      ],
      "text/plain": [
       "[1] 3.600926"
      ]
     },
     "metadata": {},
     "output_type": "display_data"
    },
    {
     "data": {
      "text/html": [
       "2.85773803324704"
      ],
      "text/latex": [
       "2.85773803324704"
      ],
      "text/markdown": [
       "2.85773803324704"
      ],
      "text/plain": [
       "[1] 2.857738"
      ]
     },
     "metadata": {},
     "output_type": "display_data"
    }
   ],
   "source": [
    "sd(AT1)\n",
    "sd(AT2)\n",
    "sd(Control)"
   ]
  },
  {
   "cell_type": "markdown",
   "metadata": {},
   "source": [
    "$$\\hat{\\psi} = \\sum_{j=1}^{3}c_j\\mu_j = (1)11 + (0)10.833 + (-1)14.167$$\n",
    "$$=-3.167$$\n",
    "\n",
    "So the Control has a mean that is 3.167 depression units greater than AT1. Let's see if this difference is statistically significant. "
   ]
  },
  {
   "cell_type": "markdown",
   "metadata": {},
   "source": [
    "We have some tricks up our sleeves in calculating the $F$-statistic. Since \n",
    "\n",
    "$$E_R-E_F = SS_{contrast} = SS(\\psi) = \\frac{\\hat{\\psi}^2}{\\sum_{j=1}^a (\\frac{c_j^2}{n_j})}$$\n",
    "\n",
    "Our $E_R-E_F$ is:\n",
    "\n",
    "$$=\\frac{(-3.167)^2}{\\frac{1^2}{6}+\\frac{0^2}{6}+\\frac{(-1)^2}{6}} = \\frac{10.030}{\\frac{1}{3}}$$\n",
    "$$=30.090$$\n",
    "\n",
    "And, $df_F = 18-3 = 15$ since we're estimating three unique $\\mu_j$s, and $df_R = 18-2 = 16$ since we're only estimating two unique $\\mu_j$s ($\\mu_1=\\mu_3, \\mu_2$). \n",
    "\n",
    "All we need now is our $E_F/df_F$, which is just equal to $MS_{within}$:\n",
    "\n",
    "$$\\frac{E_F}{df_F} = MS_{within} = \\frac{\\sum s_j^2}{a} = \\frac{2.366^2 + 3.601^2 + 2.858^2}{3}$$\n",
    "$$=8.911$$"
   ]
  },
  {
   "cell_type": "markdown",
   "metadata": {},
   "source": [
    "Awesome. Now we can get our $F$-statistic.\n",
    "\n",
    "$$F_{contrast} = \\frac{30.090/1}{8.911} = 3.377$$"
   ]
  },
  {
   "cell_type": "code",
   "execution_count": 64,
   "metadata": {},
   "outputs": [
    {
     "data": {
      "text/html": [
       "4.54307716526697"
      ],
      "text/latex": [
       "4.54307716526697"
      ],
      "text/markdown": [
       "4.54307716526697"
      ],
      "text/plain": [
       "[1] 4.543077"
      ]
     },
     "metadata": {},
     "output_type": "display_data"
    }
   ],
   "source": [
    "qf(0.05, 1, 15, lower.tail=FALSE)"
   ]
  },
  {
   "cell_type": "markdown",
   "metadata": {},
   "source": [
    "Since our $F_{contrast} = 3.377$ is smaller than $F_{0.05; 1, 15} = 4.543$, there is no reason to prefer the full model to the restricted one, and not enough evidence to say that the mean of Active Treatment 1 is statistically different from the mean of the Control."
   ]
  },
  {
   "cell_type": "markdown",
   "metadata": {},
   "source": [
    "**5. Test whether the mean of Active Treatment 2 is different from the mean of the Control group.**\n"
   ]
  },
  {
   "cell_type": "markdown",
   "metadata": {},
   "source": [
    "We're doing an individual mean comparison between the Active Treatment 2 and Control groups. Let's start by articulating our models:\n",
    "\n",
    "* Full: $Y_{ij} = \\mu_j+\\epsilon_{ij}$\n",
    "* Restricted: $Y_{ij} = \\mu_j+\\epsilon_{ij}$ where $\\mu_2=\\mu_3$\n",
    "\n",
    "\n",
    "$$\\hat{\\psi} = \\sum_{j=1}^{3}c_j\\mu_j = (0)11 + (1)10.833 + (-1)14.167$$\n",
    "$$=-3.334$$\n",
    "\n",
    "So the Control's depression units are 3.334 higher than AT2's."
   ]
  },
  {
   "cell_type": "markdown",
   "metadata": {},
   "source": [
    "We have some tricks up our sleeves in calculating the $F$-statistic. Since \n",
    "\n",
    "$$E_R-E_F = SS_{contrast} = SS(\\psi) = \\frac{\\hat{\\psi}^2}{\\sum_{j=1}^a (\\frac{c_j^2}{n_j})}$$\n",
    "\n",
    "Our $E_R-E_F$ is:\n",
    "\n",
    "$$=\\frac{(-3.334)^2}{\\frac{0^2}{6}+\\frac{1^2}{6}+\\frac{(-1)^2}{6}} = \\frac{11.116}{\\frac{1}{3}}$$\n",
    "$$=33.347$$\n",
    "\n",
    "And, $df_F = 18-3 = 15$ since we're estimating three unique $\\mu_j$s, and $df_R = 18-2 = 16$ since we're only estimating two unique $\\mu_j$s ($\\mu_1, \\mu_2=\\mu_3$). \n",
    "\n",
    "All we need now is our $E_F/df_F$, which is just equal to $MS_{within}$:\n",
    "\n",
    "$$\\frac{E_F}{df_F} = MS_{within} = \\frac{\\sum s_j^2}{a} = \\frac{2.366^2 + 3.601^2 + 2.858^2}{3}$$\n",
    "$$=8.911$$"
   ]
  },
  {
   "cell_type": "markdown",
   "metadata": {},
   "source": [
    "Awesome. Now we can get our $F$-statistic.\n",
    "\n",
    "$$F_{contrast} = \\frac{33.347/1}{8.911} = 3.742$$"
   ]
  },
  {
   "cell_type": "markdown",
   "metadata": {},
   "source": [
    "Since our $F_{contrast} = 3.742$ is smaller than $F_{0.05; 1, 15} = 4.543$, there is no reason to prefer the full model to the restricted one, and not enough evidence to say that the mean of Active Treatment 2 is statistically different from the mean of the Control."
   ]
  },
  {
   "cell_type": "markdown",
   "metadata": {},
   "source": [
    "**6. Test whether the mean of the two Active Treatment groups combined is different from the mean of the Control group (i.e., form a complex comparison).**\n"
   ]
  },
  {
   "cell_type": "markdown",
   "metadata": {},
   "source": [
    "**Solution.** A complex comparison is a little bit different. The models are:\n",
    "\n",
    "* Full: $Y_{ij} = \\mu_j + \\epsilon_{ij}$\n",
    "* Restricted: $Y_{ij} = \\mu_j + \\epsilon_{ij}$ where $\\frac{1}{2}(\\mu_1+\\mu_2) = \\mu_3$\n",
    "\n",
    "We can articulate the null hypothesis as:\n",
    "\n",
    "$$H_0: \\frac{1}{2}(\\mu_1+\\mu_2) = \\mu_3$$\n",
    "\n",
    "Which is the same as:\n",
    "\n",
    "$$H_0: \\frac{1}{2}\\mu_1 + \\frac{1}{2}\\mu_2 - \\mu_3 = 0$$\n",
    "\n",
    "This constitutes a contrast, which is a *linear combination of means in which the coefficients of the means add up to zero*. We call this $\\psi$. \n",
    "\n",
    "$$\\hat{\\psi} = \\sum_{j=1}^{3}c_j\\mu_j = \\Big(\\frac{1}{2}\\Big)11 + \\Big(\\frac{1}{2}\\Big)10.833 + (-1)14.167 = 5.5 + 5.417 - 14.167$$\n",
    "$$=-3.251$$\n",
    "\n",
    "So the Control's depression units are 3.251 higher than the Active Treatment groups combined. "
   ]
  },
  {
   "cell_type": "markdown",
   "metadata": {},
   "source": [
    "We have some tricks up our sleeves in calculating the $F$-statistic. Since \n",
    "\n",
    "$$E_R-E_F = SS_{contrast} = SS(\\psi) = \\frac{\\hat{\\psi}^2}{\\sum_{j=1}^a (\\frac{c_j^2}{n_j})}$$\n",
    "\n",
    "Our $E_R-E_F$ is:\n",
    "\n",
    "$$=\\frac{(-3.251)^2}{\\frac{0.5^2}{6}+\\frac{0.5^2}{6}+\\frac{(-1)^2}{6}} = \\frac{10.569}{0.25}$$\n",
    "$$=42.276$$\n",
    "\n",
    "As for the degrees of freedom, $df_F = 18-3 = 15$ since we estimate three means; $df_R=18-2 = 16$ since we assume that $\\frac{1}{2}(\\mu_1+\\mu_2)=\\mu_3$, so if we estimate two means we can find the third.\n",
    "\n",
    "All we need now is our $E_F/df_F$, which is just equal to $MS_{within}$:\n",
    "\n",
    "$$\\frac{E_F}{df_F} = MS_{within} = \\frac{\\sum s_j^2}{a} = \\frac{2.366^2 + 3.601^2 + 2.858^2}{3}$$\n",
    "$$=8.911$$"
   ]
  },
  {
   "cell_type": "markdown",
   "metadata": {},
   "source": [
    "So let's bang out our $F$:\n",
    "\n",
    "$$F=\\frac{42.276/1}{8.911} = 4.744$$"
   ]
  },
  {
   "cell_type": "markdown",
   "metadata": {},
   "source": [
    "Since our $F = 4.744$ is greater than $F_{0.05; 1, 15} = 4.543$, there is reason to prefer the Restricted model to the Full. There is enough evidence to say that the mean depression score of both the active treatments combined is lower than that of the Control."
   ]
  },
  {
   "cell_type": "code",
   "execution_count": 65,
   "metadata": {},
   "outputs": [
    {
     "data": {
      "text/html": [
       "0.0457686397756328"
      ],
      "text/latex": [
       "0.0457686397756328"
      ],
      "text/markdown": [
       "0.0457686397756328"
      ],
      "text/plain": [
       "[1] 0.04576864"
      ]
     },
     "metadata": {},
     "output_type": "display_data"
    }
   ],
   "source": [
    "pf(4.744, 1, 15, lower.tail=FALSE)"
   ]
  },
  {
   "cell_type": "markdown",
   "metadata": {},
   "source": [
    "**7. Form a 95% confidence interval for the mean difference between Active Treatment 1 and the Control group.**\n"
   ]
  },
  {
   "cell_type": "markdown",
   "metadata": {},
   "source": [
    "**Solution.** Here are the pieces we have:\n",
    "\n",
    "* $\\hat{\\psi}=-3.167$\n",
    "* $F_{0.05; 1, 15} = 4.543$\n",
    "* $MS_{within} = 8.911$\n",
    "* $\\sum_{j=1}^a(c_j^2/n_j) = \\frac{1}{3}$\n",
    "\n",
    "So the confidence interval is:\n",
    "\n",
    "$$\\hat{\\psi}\\pm\\sqrt{F_{\\alpha;1,N-a}}\\times\\sqrt{MS_{within}\\sum_{j=1}^a(c_j^2/n_j)} = -3.167\\pm\\sqrt{4.543}\\times\\sqrt{8.911\\times \\frac{1}{3}}$$\n",
    "$$=-3.167\\pm (2.131\\times1.723)=-3.167\\pm 3.673$$\n",
    "$$= [-6.840, 0.510]$$"
   ]
  },
  {
   "cell_type": "markdown",
   "metadata": {},
   "source": [
    "**8. Form a 95% confidence interval for the mean difference between Active Treatment 2 and the Control group.**"
   ]
  },
  {
   "cell_type": "markdown",
   "metadata": {},
   "source": [
    "**Solution.** Here are the pieces we have:\n",
    "\n",
    "* $\\hat{\\psi}=-3.334$\n",
    "* $F_{0.05; 1, 15} = 4.543$\n",
    "* $MS_{within} = 8.911$\n",
    "* $\\sum_{j=1}^a(c_j^2/n_j) = \\frac{1}{3}$\n",
    "\n",
    "So the confidence interval is:\n",
    "\n",
    "$$\\hat{\\psi}\\pm\\sqrt{F_{\\alpha;1,N-a}}\\times\\sqrt{MS_{within}\\sum_{j=1}^a(c_j^2/n_j)} = -3.334\\pm\\sqrt{4.543}\\times\\sqrt{8.911\\times \\frac{1}{3}}$$\n",
    "$$=-3.334\\pm (2.131\\times1.723)=-3.334\\pm 3.673$$\n",
    "$$= [-7.007, 0.339]$$"
   ]
  },
  {
   "cell_type": "markdown",
   "metadata": {},
   "source": [
    "**9. Form a 95% confidence interval for the difference between the mean of the two Active Treatment groups and the mean of the Control group.**\n"
   ]
  },
  {
   "cell_type": "markdown",
   "metadata": {},
   "source": [
    "**Solution.** Here are the pieces we have:\n",
    "\n",
    "* $\\hat{\\psi}=−3.251$\n",
    "* $F_{0.05; 1, 15} = 4.543$\n",
    "* $MS_{within} = 8.911$\n",
    "* $\\sum_{j=1}^a(c_j^2/n_j) = \\frac{1}{4}$\n",
    "\n",
    "So the confidence interval is:\n",
    "\n",
    "$$\\hat{\\psi}\\pm\\sqrt{F_{\\alpha;1,N-a}}\\times\\sqrt{MS_{within}\\sum_{j=1}^a(c_j^2/n_j)} = −3.251\\pm\\sqrt{4.543}\\times\\sqrt{8.911\\times \\frac{1}{4}}$$\n",
    "$$=−3.251\\pm (2.131\\times1.493)=−3.251\\pm 3.181$$\n",
    "$$= [-6.432, -0.070]$$\n"
   ]
  },
  {
   "cell_type": "markdown",
   "metadata": {},
   "source": [
    "**10. Which of your intervals in #7-#9 contain zero and which exclude zero? How does this relate to the tests you performed in #4-#6?**"
   ]
  },
  {
   "cell_type": "markdown",
   "metadata": {},
   "source": [
    "**Solution.** Only #7 and #8 contain zero; #9 does not. This is significant since we could not reject the null hypothesis for #7 and #8, but we could for #9—that is, we had not enough evidence to say $\\psi\\neq 0$ for #7 and #8 within the 95% CI, but did have evidence to say $\\psi\\neq 0$ for #9 within the 95% CI."
   ]
  }
 ],
 "metadata": {
  "kernelspec": {
   "display_name": "R",
   "language": "R",
   "name": "ir"
  },
  "language_info": {
   "codemirror_mode": "r",
   "file_extension": ".r",
   "mimetype": "text/x-r-source",
   "name": "R",
   "pygments_lexer": "r",
   "version": "4.0.2"
  }
 },
 "nbformat": 4,
 "nbformat_minor": 4
}
