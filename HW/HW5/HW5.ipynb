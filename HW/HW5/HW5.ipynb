{
 "cells": [
  {
   "cell_type": "markdown",
   "metadata": {},
   "source": [
    "# HW5: Introduction to Factorial Designs\n",
    "\n",
    "Seung Kim\n",
    "\n",
    "27 November 2020"
   ]
  },
  {
   "cell_type": "markdown",
   "metadata": {},
   "source": [
    "**1. A graduate student conducted a two-factor study to investigate children’s learning performance. One factor was form of practice, either massed or spaced. The second factor was presence or absence of feedback to the children. The following cell means were obtained:**\n",
    "\n",
    "<table>\n",
    " <tr>\n",
    "  <td colspan=\"2\" rowspan=\"2\"></td>\n",
    "  <td colspan=\"2\" style=\"text-align:center\">Feedback</td>\n",
    " </tr>\n",
    " <tr>\n",
    "  <td>Presence</td>\n",
    "  <td>Absence</td>\n",
    " </tr>\n",
    " <tr>\n",
    "  <td rowspan=\"2\">Practice</td>\n",
    "  <td>Massed</td>\n",
    "  <td>62</td>\n",
    "  <td>47</td>\n",
    " </tr>\n",
    " <tr>\n",
    "  <td>Spaced</td>\n",
    "  <td>75</td>\n",
    "  <td>68</td>\n",
    " </tr>\n",
    "</table>\n",
    "    \n",
    "**There are 15 participants per cell, and $MS_W=400$.**"
   ]
  },
  {
   "cell_type": "markdown",
   "metadata": {},
   "source": [
    "**a. The student claims that the difference between massed and spaced practice is smaller when feedback is present than when it is absent. Do you agree? (Hint: Recall that this type of question can be addressed using a contrast.)**"
   ]
  },
  {
   "cell_type": "markdown",
   "metadata": {},
   "source": [
    "**Solution.** We want to know whether Presence of Feedback shrinks the gap between Massed and Spaced conditions. That is, we want to know whether the 8-point difference between 75-62=13 and 68-47=21 is significant. In this case, it's appropriate to test the **interaction** of Feedback and Practice."
   ]
  },
  {
   "cell_type": "markdown",
   "metadata": {},
   "source": [
    "Let us choose the contrast. We want to see whether 75-62 = 68-47. Rearranging, we get:\n",
    "\n",
    "$$75-62 - 68 + 47 \\stackrel{?}{=} 0$$\n",
    "\n",
    "Since we want all the contrasts to add up to 0, the appropriate contrast to use is $c = \\big[\\frac{1}{2}, -\\frac{1}{2}, -\\frac{1}{2}, \\frac{1}{2}\\big]$.\n",
    "\n",
    "Now we can get the $\\hat{\\psi}$:\n",
    "\n",
    "$$\\hat{\\psi} = \\Big(\\frac{1}{2}\\Big)75 + \\Big(-\\frac{1}{2}\\Big)62 + \\Big(-\\frac{1}{2}\\Big)68 + \\Big(\\frac{1}{2}\\Big)47 = -4$$"
   ]
  },
  {
   "cell_type": "code",
   "execution_count": 40,
   "metadata": {},
   "outputs": [
    {
     "data": {
      "text/html": [
       "-4"
      ],
      "text/latex": [
       "-4"
      ],
      "text/markdown": [
       "-4"
      ],
      "text/plain": [
       "[1] -4"
      ]
     },
     "metadata": {},
     "output_type": "display_data"
    }
   ],
   "source": [
    "means = c(75, 62, 68, 47)\n",
    "contrasts = c(0.5, -0.5, -0.5, 0.5)\n",
    "sum(means*contrasts)"
   ]
  },
  {
   "cell_type": "markdown",
   "metadata": {},
   "source": [
    "Then let's calculate $SS_\\psi$:\n",
    "\n",
    "$$SS_\\psi = \\frac{\\psi^2}{\\sum_{j=1}^a\\Big(\\frac{c^2_j}{n_j}\\Big)} = \\frac{(-4)^2}{\\frac{(1/2)^2}{15}+\\frac{(-1/2)^2}{15}+\\frac{(-1/2)^2}{15}+\\frac{(1/2)^2}{15}} = 240$$"
   ]
  },
  {
   "cell_type": "code",
   "execution_count": 22,
   "metadata": {},
   "outputs": [
    {
     "data": {
      "text/html": [
       "240"
      ],
      "text/latex": [
       "240"
      ],
      "text/markdown": [
       "240"
      ],
      "text/plain": [
       "[1] 240"
      ]
     },
     "metadata": {},
     "output_type": "display_data"
    }
   ],
   "source": [
    "16/sum((contrasts^2)/15)"
   ]
  },
  {
   "cell_type": "markdown",
   "metadata": {},
   "source": [
    "And finally we can get $F_\\psi$ (with $df_{AB} = (2-1)(2-1) = 1$):\n",
    "\n",
    "$$F_\\psi = \\frac{SS_\\psi/1}{MS_{within}} = \\frac{MS_\\psi}{MS_{within}} = \\frac{240}{400} = 0.6$$"
   ]
  },
  {
   "cell_type": "markdown",
   "metadata": {},
   "source": [
    "Now, we need some critical $F$ to compare to. Since $df_{F} = ab(n-1) = 2\\times2\\times(15-1) = 56$, $F_{0.05; 1, 56} = 4.012$. Our $F_{\\psi}=0.6$ is not even close to being significant (which is bizarre since an 8-point difference seems like a huge difference)."
   ]
  },
  {
   "cell_type": "code",
   "execution_count": 49,
   "metadata": {},
   "outputs": [
    {
     "data": {
      "text/html": [
       "4.01297337765014"
      ],
      "text/latex": [
       "4.01297337765014"
      ],
      "text/markdown": [
       "4.01297337765014"
      ],
      "text/plain": [
       "[1] 4.012973"
      ]
     },
     "metadata": {},
     "output_type": "display_data"
    }
   ],
   "source": [
    "qf(0.05, 1, 56, lower.tail=FALSE)"
   ]
  },
  {
   "cell_type": "markdown",
   "metadata": {},
   "source": [
    "Assuming I didn't do anything wrong, I do not agree with this grad student. There is not enough evidence to say that the presence of feedback results in a smaller gap between massed and spaced conditions."
   ]
  },
  {
   "cell_type": "markdown",
   "metadata": {},
   "source": [
    "**b. A friend of the student’s claims that the effect of feedback is weaker when practice is spaced than when it is massed. Do you agree?**"
   ]
  },
  {
   "cell_type": "markdown",
   "metadata": {},
   "source": [
    "**Solution.** We want to see whether the difference between the two Feedback conditions (Presence & Absence) is affected by the Practice conditions (Massed & Spaced). But we can simply rearrange the terms from (1a) to articulate what it is that we are testing:\n",
    "\n",
    "$$[75-62 - 68 + 47 \\stackrel{?}{=} 0] \\equiv [75-68 \\stackrel{?}{=} 62-47]$$\n",
    "\n",
    "In other words, there is no difference between the contrasts we tested in (1a) and our contrasts now. No matter which independent variable is our focus, if we are testing the interaction, we will obtain the same result. So, I do not agree with the student. There is not enough evidence for any interaction effect. "
   ]
  },
  {
   "cell_type": "markdown",
   "metadata": {},
   "source": [
    "**c. Is it plausible that the effects of feedback and type of practice are additive in this situation? Why or why not?**"
   ]
  },
  {
   "cell_type": "markdown",
   "metadata": {},
   "source": [
    "**Solution.** Yes, intuitively because the interaction—the part 'left over' after accounting for the additive effect of two factors—is not significant. But we can see that, in contrast, the other contrasts are both significant and return much higher Sum of Squares. First, testing the effect of Feedback:"
   ]
  },
  {
   "cell_type": "markdown",
   "metadata": {},
   "source": [
    "$$\\hat{\\psi}_A = \\Big(\\frac{1}{2}\\Big)75 + \\Big(\\frac{1}{2}\\Big)62 + \\Big(-\\frac{1}{2}\\Big)68 + \\Big(-\\frac{1}{2}\\Big)47 = 11$$"
   ]
  },
  {
   "cell_type": "markdown",
   "metadata": {},
   "source": [
    "$$SS_A = \\frac{\\psi^2}{\\sum_{j=1}^a\\Big(\\frac{c^2_j}{n_j}\\Big)} = \\frac{(11)^2}{\\frac{(1/2)^2}{15}+\\frac{(1/2)^2}{15}+\\frac{(-1/2)^2}{15}+\\frac{(-1/2)^2}{15}} = 1815$$"
   ]
  },
  {
   "cell_type": "markdown",
   "metadata": {},
   "source": [
    "$$F_A = \\frac{SS_A/1}{MS_{within}} = \\frac{MS_A}{MS_{within}} = \\frac{1815}{400} = 4.5375$$"
   ]
  },
  {
   "cell_type": "markdown",
   "metadata": {},
   "source": [
    "$F_A$ is more extreme than the critical $F = 4.0130$."
   ]
  },
  {
   "cell_type": "markdown",
   "metadata": {},
   "source": [
    "Now, the last possible contrast, testing the effect of Practice:"
   ]
  },
  {
   "cell_type": "markdown",
   "metadata": {},
   "source": [
    "$$\\hat{\\psi} = \\Big(\\frac{1}{2}\\Big)75 + \\Big(-\\frac{1}{2}\\Big)62 + \\Big(\\frac{1}{2}\\Big)68 + \\Big(-\\frac{1}{2}\\Big)47 = 17$$"
   ]
  },
  {
   "cell_type": "markdown",
   "metadata": {},
   "source": [
    "$$SS_B = \\frac{\\psi^2}{\\sum_{j=1}^a\\Big(\\frac{c^2_j}{n_j}\\Big)} = \\frac{(17)^2}{\\frac{(1/2)^2}{15}+\\frac{(-1/2)^2}{15}+\\frac{(1/2)^2}{15}+\\frac{(-1/2)^2}{15}} = 4335$$"
   ]
  },
  {
   "cell_type": "markdown",
   "metadata": {},
   "source": [
    "$$F_B = \\frac{SS_B/1}{MS_{within}} = \\frac{MS_B}{MS_{within}} = \\frac{4335}{400} = 10.8375$$"
   ]
  },
  {
   "cell_type": "markdown",
   "metadata": {},
   "source": [
    "Wowza! $F_B$ is super significant compared to critical $F=4.0130$. So the contribution of the interaction is really miniscule in comparison to the contributions of the main effects, and so it's plausible that the effects are additive. "
   ]
  },
  {
   "cell_type": "markdown",
   "metadata": {},
   "source": [
    "**2. The following sample means were obtained in an equal-$n$ design with eight individuals per cell:**\n",
    "\n",
    "<table>\n",
    " <tr>\n",
    "  <td colspan=\"2\"></td>\n",
    "  <td colspan=\"3\" style=\"text-align:center\">B</td>\n",
    " </tr>\n",
    " <tr>\n",
    "     <td colspan=\"2\"></td>\n",
    "     <td>1</td>\n",
    "     <td>2</td>\n",
    "     <td>3</td>\n",
    " </tr>\n",
    "    <tr>\n",
    "        <td rowspan=\"3\">A</td>\n",
    "        <td>1</td>\n",
    "        <td>8</td>\n",
    "        <td>10</td>\n",
    "        <td>15</td>\n",
    "    </tr>\n",
    "    <tr>\n",
    "        <td>2</td>\n",
    "        <td>9</td>\n",
    "        <td>14</td>\n",
    "        <td>10</td>\n",
    "    </tr>\n",
    "    <tr>\n",
    "        <td>3</td>\n",
    "        <td>13</td>\n",
    "        <td>9</td>\n",
    "        <td>11</td>\n",
    "    </tr>\n",
    "</table>"
   ]
  },
  {
   "cell_type": "markdown",
   "metadata": {},
   "source": [
    "**a. Find $α^ ̂_j$ for each row (i.e., for each value of $j$).**"
   ]
  },
  {
   "cell_type": "markdown",
   "metadata": {},
   "source": [
    "**Solution.** Let us begin by getting all the marginal means and the grand mean:\n",
    "\n",
    "<table>\n",
    " <tr>\n",
    "  <td colspan=\"2\"></td>\n",
    "  <td colspan=\"3\" style=\"text-align:center\">B</td>\n",
    "  <td></td>\n",
    " </tr>\n",
    " <tr>\n",
    "     <td colspan=\"2\"></td>\n",
    "     <td>1</td>\n",
    "     <td>2</td>\n",
    "     <td>3</td>\n",
    "     <td><b>Mean</b><td>\n",
    " </tr>\n",
    "    <tr>\n",
    "        <td rowspan=\"3\">A</td>\n",
    "        <td>1</td>\n",
    "        <td>8</td>\n",
    "        <td>10</td>\n",
    "        <td>15</td>\n",
    "        <td>11</td>\n",
    "    </tr>\n",
    "    <tr>\n",
    "        <td>2</td>\n",
    "        <td>9</td>\n",
    "        <td>14</td>\n",
    "        <td>10</td>\n",
    "        <td>11</td>\n",
    "    </tr>\n",
    "    <tr>\n",
    "        <td>3</td>\n",
    "        <td>13</td>\n",
    "        <td>9</td>\n",
    "        <td>11</td>\n",
    "        <td>11</td>\n",
    "    </tr>\n",
    "    <tr>\n",
    "        <td></td>\n",
    "        <td><b>Mean</b></td>\n",
    "        <td>10</td>\n",
    "        <td>11</td>\n",
    "        <td>12</td>\n",
    "        <td>11</td>\n",
    "    </tr>\n",
    "</table>"
   ]
  },
  {
   "cell_type": "markdown",
   "metadata": {},
   "source": [
    "Now, $\\hat{\\alpha}_j$ is the difference between the marginal mean in row $j$ and the grand mean ($\\mu_{..} = 11$). It appears that $\\hat{\\alpha}_j=0$ for all rows $j=1, 2, 3$ because all the marginal means for the rows are 11. Reassuringly (and obviously) these add up to 0."
   ]
  },
  {
   "cell_type": "markdown",
   "metadata": {},
   "source": [
    "**b. Based on your answer to part (a), calculate $SS_A$.**"
   ]
  },
  {
   "cell_type": "markdown",
   "metadata": {},
   "source": [
    "**Solution.**\n",
    "\n",
    "$$SS_A = E_R-E_F = nb\\sum_{j=1}^a(\\bar{Y}_{j.}-\\bar{Y}_{..})^2 = 8\\cdot3\\cdot(0^2+0^2+0^2) = 0$$\n",
    "\n",
    "Which makes sense since there is no deviation at all of the marginal means $\\hat{\\alpha}_j$ from the grand mean."
   ]
  },
  {
   "cell_type": "markdown",
   "metadata": {},
   "source": [
    "**c. Find $β^ ̂_k$ for each column (i.e., for each value of $k$).**"
   ]
  },
  {
   "cell_type": "markdown",
   "metadata": {},
   "source": [
    "**Solution.** $\\hat{\\beta}_k$ is the difference between the marginal mean in column $k$ and the grand mean $\\mu_{..}$. So:\n",
    "\n",
    "* $\\hat{\\beta}_1 = -1$, \n",
    "* $\\hat{\\beta}_2 = 0$, and \n",
    "* $\\hat{\\beta}_3=1$.\n",
    "\n",
    "Of course, these all add up to 0."
   ]
  },
  {
   "cell_type": "markdown",
   "metadata": {},
   "source": [
    "**d. Based on your answer to part (c), calculate $SS_B$.**"
   ]
  },
  {
   "cell_type": "markdown",
   "metadata": {},
   "source": [
    "**Solution.**\n",
    "\n",
    "$$SS_B = E_R-E_F = na\\sum_{k=1}^b(\\bar{Y}_{.k}-\\bar{Y}_{..})^2 = 8\\cdot3\\cdot((-1)^2+0^2+1^2) = 48$$"
   ]
  },
  {
   "cell_type": "markdown",
   "metadata": {},
   "source": [
    "**e. Find $\\hat{(αβ)}_{jk}$ for each cell (i.e., for each pair of $j$ and $k$ values).**"
   ]
  },
  {
   "cell_type": "markdown",
   "metadata": {},
   "source": [
    "**Solution.** The interaction reflects whatever is 'left over' for a given cell mean from the simple additive effects of the two factors. \n",
    "\n",
    "$$(\\hat{\\alpha\\beta})_{jk} = \\mu_{jk}-(\\mu_{..}+\\alpha_{j}+\\beta{k})$$\n",
    "\n",
    "We've got 9 to calculate, so let's get to it:\n",
    "\n",
    "* $(\\hat{\\alpha\\beta})_{11} = 8-(11+0+(-1)) = -2$\n",
    "* $(\\hat{\\alpha\\beta})_{12} = 10-(11+0+0) = -1$\n",
    "* $(\\hat{\\alpha\\beta})_{13} = 15-(11+0+1) = 3$\n",
    "* $(\\hat{\\alpha\\beta})_{21} = 9-(11+0+(-1)) = -1$\n",
    "* $(\\hat{\\alpha\\beta})_{22} = 14-(11+0+0) = 3$\n",
    "* $(\\hat{\\alpha\\beta})_{23} = 10-(11+0+1) = -2$\n",
    "* $(\\hat{\\alpha\\beta})_{31} = 13-(11+0+(-1)) = 3$\n",
    "* $(\\hat{\\alpha\\beta})_{32} = 9-(11+0+0) = -2$\n",
    "* $(\\hat{\\alpha\\beta})_{33} = 11-(11+0+1) = -1$\n",
    "\n",
    "I hope I didn't make any dumb arithmetic mistakes!"
   ]
  },
  {
   "cell_type": "markdown",
   "metadata": {},
   "source": [
    "**f. Based on your answer to part (e), calculate $SS_{AB}$.**"
   ]
  },
  {
   "cell_type": "markdown",
   "metadata": {},
   "source": [
    "**Solution.** \n",
    "\n",
    "$$SS_{AB} = E_R-E_F = n\\sum_{j=1}^a\\sum_{k=1}^b(\\bar{Y}_{jk}-\\bar{Y}_{j.}-\\bar{Y}_{.k}+\\bar{Y}_{..})^2$$\n",
    "\n",
    "But somehow $[\\bar{Y}_{jk}-\\bar{Y}_{j.}-\\bar{Y}_{.k}+\\bar{Y}_{..}] = [\\mu_{jk}-(\\mu_{..}+\\alpha_{j}+\\beta{k})] = (\\hat{\\alpha\\beta})_{jk}$, so we're good:\n",
    "\n",
    "$$SS_{AB} = 8\\cdot\\big((-2)^2 + (-1)^2+3^2+(-1)^2+(3)^2+(-2)^2+3^2+(-2)^2+(-1)^2\\big) = 336$$"
   ]
  },
  {
   "cell_type": "markdown",
   "metadata": {},
   "source": [
    "**3. The purpose of this exercise to to compare the meaning of a main effect in a two-way design to the comparable omnibus effect in a one-way design. Consider the following data for a 2 × 3 design, where the DV is blood pressure:**"
   ]
  },
  {
   "cell_type": "code",
   "execution_count": 82,
   "metadata": {},
   "outputs": [],
   "source": [
    "BioX = c(170, 175, 165, 180, 160)\n",
    "BioY = c(186, 194, 201, 215, 219)\n",
    "BioZ = c(180, 187, 199, 170, 204)\n",
    "X = c(173, 194, 197, 190, 176)\n",
    "Y = c(189, 194, 217, 206, 199)\n",
    "Z = c(202, 228, 190, 206, 224)\n",
    "grand_mean = mean(c(BioX, BioY, BioZ, X, Y, Z))"
   ]
  },
  {
   "cell_type": "markdown",
   "metadata": {},
   "source": [
    "**a. Find the sum of squares for the biofeedback main effect using the following equation:**\n",
    "\n",
    "$$SS_A = E_R - E_F = nb\\sum_{j=1}^{a}(\\bar{Y}_{j.}-\\bar{Y}_{..})^2$$"
   ]
  },
  {
   "cell_type": "markdown",
   "metadata": {},
   "source": [
    "**Solution.**\n",
    "\n",
    "$$5\\cdot3\\sum_{j=1}^{2}(\\bar{Y}_{j.}-\\bar{Y}_{..})^2 = 15\\cdot((187-193)^2+(199-193)^2) = 1080$$"
   ]
  },
  {
   "cell_type": "code",
   "execution_count": 95,
   "metadata": {},
   "outputs": [
    {
     "data": {
      "text/html": [
       "<style>\n",
       ".list-inline {list-style: none; margin:0; padding: 0}\n",
       ".list-inline>li {display: inline-block}\n",
       ".list-inline>li:not(:last-child)::after {content: \"\\00b7\"; padding: 0 .5ex}\n",
       "</style>\n",
       "<ol class=list-inline><li>187</li><li>199</li></ol>\n"
      ],
      "text/latex": [
       "\\begin{enumerate*}\n",
       "\\item 187\n",
       "\\item 199\n",
       "\\end{enumerate*}\n"
      ],
      "text/markdown": [
       "1. 187\n",
       "2. 199\n",
       "\n",
       "\n"
      ],
      "text/plain": [
       "[1] 187 199"
      ]
     },
     "metadata": {},
     "output_type": "display_data"
    }
   ],
   "source": [
    "marginal_means = c(mean(c(BioX, BioY, BioZ)), mean(c(X, Y, Z)))\n",
    "marginal_means"
   ]
  },
  {
   "cell_type": "markdown",
   "metadata": {},
   "source": [
    "**b. Suppose that the drug factor was not included in the design, so the design was conceptualized as a single-factor design. Specifically, 15 participants are in the biofeedback-present condition (first 3 columns), and 15 participants are in the biofeedback-absent condition (second 3 columns). Find the sum of squares for biofeedback in this one-way design using the following equation:**\n",
    "\n",
    "$$SS_A = E_R - E_F = n\\sum_{j=1}^{a}(\\bar{Y}_{j}-\\bar{Y})^2$$"
   ]
  },
  {
   "cell_type": "markdown",
   "metadata": {},
   "source": [
    "**Solution.**\n",
    "\n",
    "$$15\\cdot\\sum_{j=1}^2(\\bar{Y}_j-193)^2 = 15\\big((187-193)^2+(199-193)^2\\big) = 1080$$"
   ]
  },
  {
   "cell_type": "code",
   "execution_count": 84,
   "metadata": {},
   "outputs": [
    {
     "data": {
      "text/html": [
       "1080"
      ],
      "text/latex": [
       "1080"
      ],
      "text/markdown": [
       "1080"
      ],
      "text/plain": [
       "[1] 1080"
      ]
     },
     "metadata": {},
     "output_type": "display_data"
    }
   ],
   "source": [
    "15*sum((marginal_means-grand_mean)^2)"
   ]
  },
  {
   "cell_type": "markdown",
   "metadata": {},
   "source": [
    "**c. How do your answers to parts (a) and (b) compare to one another? What implication does this have for interpreting a main effect in an equal-n two-way design? (Note: Despite the relationship between the sums of squares in parts (a) and (b), it does not necessarily follow that the $F$-tests will be equal to each other.)**"
   ]
  },
  {
   "cell_type": "markdown",
   "metadata": {},
   "source": [
    "**Solution.** They are the same. If both $df_R-df_F$ and $MS_{within}$ are the same, the $F$-statistics should be equal. But I am not sure in what situations we can assume these conditions to be the same (esp. $df_F$, but I don't know if the fewer number of groups in (b) increases $df_F$). "
   ]
  }
 ],
 "metadata": {
  "kernelspec": {
   "display_name": "R",
   "language": "R",
   "name": "ir"
  },
  "language_info": {
   "codemirror_mode": "r",
   "file_extension": ".r",
   "mimetype": "text/x-r-source",
   "name": "R",
   "pygments_lexer": "r",
   "version": "4.0.2"
  }
 },
 "nbformat": 4,
 "nbformat_minor": 4
}
