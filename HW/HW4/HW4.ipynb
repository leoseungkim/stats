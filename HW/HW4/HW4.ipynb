{
 "cells": [
  {
   "cell_type": "markdown",
   "metadata": {},
   "source": [
    "# **HW4: $t$-Testing Several Contrasts**\n",
    "\n",
    "### 17 November 2020\n",
    "### Seung Kim"
   ]
  },
  {
   "cell_type": "markdown",
   "metadata": {},
   "source": [
    "**1. A researcher has conducted a five-group study. She plans to test the following pairwise comparisons: $μ_1$ vs $μ_2$, $μ_2$ vs. $μ_3$, and $μ_4$ vs. $μ_5$.**"
   ]
  },
  {
   "cell_type": "markdown",
   "metadata": {},
   "source": [
    "**a. What multiple comparison procedure should be used to maintain the $α_{EW}$ level at .05?**"
   ]
  },
  {
   "cell_type": "markdown",
   "metadata": {},
   "source": [
    "**Solution.** In short, we want to use the **Bonferroni adjustment** to account for the excess Type I error introduced by having multiple comparisons. \n",
    "\n",
    "This is a **planned contrast** because the experimenter is planning to test, and presumably has not looked at, the data. We have the following contrasts:\n",
    "\n",
    "* $\\psi_1 = \\mu_1-\\mu_2$, \n",
    "* $\\psi_2 = \\mu_2-\\mu_3$, and \n",
    "* $\\psi_3 = \\mu_4-\\mu_5$,\n",
    "\n",
    "**which do not form an orthogonal set, but I'm going to go ahead with the assumption that that's fine for this assignment.**\n",
    "\n",
    "If we pretend these contrasts are orthogonal and test each of these contrasts with $\\alpha=0.05$, the probability of making at least one Type I error (false positive) works out to be:\n",
    "\n",
    "$$1-(1-\\alpha)^C = 1-(1-0.05)^3 = 0.143$$\n",
    "\n",
    "And 0.143 is much too high. \n",
    "\n",
    "$\\alpha_{EW}$ is the **experimental error**, the probability that a given experiment (consisting of many contrasts) would contain at least one Type I error (false positive) if we replicated an experiment many times. \n",
    "\n",
    "$$\\alpha_{EW} = \\frac{\\text{number of experiments with }\\geq 1\\text{ Type I error}}{\\text{total number of experiments}}$$\n",
    "\n",
    "If we computed $F_{contrast}$ now, the resulting $\\alpha_{EW}$ will be exaggerated (0.143) since we have not yet accounted for the increase in Type I error due to there being multiple comparisons.\n",
    "\n",
    "The **Bonferroni adjustment** is an easy way to figure out how much to lower $\\alpha_{PC}$ (error rate per comparison) to maintain $\\alpha_{EW} = 0.05$. In our case, since we have three contrasts and a desired $\\alpha_{EW} = 0.05$,\n",
    "\n",
    "$$\\alpha_{PC} = \\frac{0.05}{3} = 0.0167$$\n",
    "\n",
    "And we can use this value instead of $\\alpha =0.05$ when we look up our $F$ statistic."
   ]
  },
  {
   "cell_type": "markdown",
   "metadata": {},
   "source": [
    "**b. What will the critical $F$ value be for each contrast if there are 13 participants per group?**"
   ]
  },
  {
   "cell_type": "markdown",
   "metadata": {},
   "source": [
    "**Solution.** Since \n",
    "\n",
    "* $\\alpha_{PC} = 0.0167$ as calculated in (1a),\n",
    "* $df_{within} = 65-5 = 60$, since we estimate five parameters ($\\mu_1$ through $\\mu_5$) in the full model (all means are different),\n",
    "* $df_{between} = 61-60 = 1$, since we estimate four parameters for each contrast for the restricted model (all means are different except the groups under contrast), \n",
    "\n",
    "We obtain \n",
    "\n",
    "$$F_{0.0167; 1, 60} = 6.062$$\n",
    "\n",
    "which is noticeably more extreme than the unadjusted $F_{0.05; 1, 60} = 4.001$."
   ]
  },
  {
   "cell_type": "code",
   "execution_count": 1,
   "metadata": {},
   "outputs": [
    {
     "data": {
      "text/html": [
       "6.06224328429872"
      ],
      "text/latex": [
       "6.06224328429872"
      ],
      "text/markdown": [
       "6.06224328429872"
      ],
      "text/plain": [
       "[1] 6.062243"
      ]
     },
     "metadata": {},
     "output_type": "display_data"
    }
   ],
   "source": [
    "qf(0.0167, 1, 60, lower.tail=FALSE)"
   ]
  },
  {
   "cell_type": "code",
   "execution_count": 2,
   "metadata": {},
   "outputs": [
    {
     "data": {
      "text/html": [
       "4.001191376755"
      ],
      "text/latex": [
       "4.001191376755"
      ],
      "text/markdown": [
       "4.001191376755"
      ],
      "text/plain": [
       "[1] 4.001191"
      ]
     },
     "metadata": {},
     "output_type": "display_data"
    }
   ],
   "source": [
    "qf(0.05, 1, 60, lower.tail=FALSE)"
   ]
  },
  {
   "cell_type": "markdown",
   "metadata": {},
   "source": [
    "**c. Suppose that after looking at the data, the researcher decides to replace the comparison of $μ_2$ vs. $μ_3$ with a comparison of $μ_3$ vs. $μ_4$. What multiple comparison procedure should be used to maintain the $α_{EW}$ level at \n",
    ".05?**"
   ]
  },
  {
   "cell_type": "markdown",
   "metadata": {},
   "source": [
    "**Solution.** If we wanted to make all possible comparisons, Tukey's HSD would be more powerful than the Bonferroni adjustment since the latter tends to be a bit too conservative (i.e. the $F$ statistic gets to be a bit too extreme). But even if we have fewer comparisons, it is appropriate to use **Tukey's HSD** when we are dealing with unplanned pairwise comparisons (as we do here). "
   ]
  },
  {
   "cell_type": "markdown",
   "metadata": {},
   "source": [
    "**d. What will the critical $F$ value be in part (c) if there are 13 subjects per group?**"
   ]
  },
  {
   "cell_type": "markdown",
   "metadata": {},
   "source": [
    "**Solution.** Since\n",
    "\n",
    "* $q= 3.977$ according to `qtukey()` with $df_{within} = 60$ and $a = 5$, \n",
    "\n",
    "$$F_{HSD} = \\frac{q^2}{2} = \\frac{3.977^2}{2} = 7.910$$"
   ]
  },
  {
   "cell_type": "code",
   "execution_count": 3,
   "metadata": {},
   "outputs": [
    {
     "data": {
      "text/html": [
       "3.97741822297759"
      ],
      "text/latex": [
       "3.97741822297759"
      ],
      "text/markdown": [
       "3.97741822297759"
      ],
      "text/plain": [
       "[1] 3.977418"
      ]
     },
     "metadata": {},
     "output_type": "display_data"
    }
   ],
   "source": [
    "qtukey(p = 0.95, nmeans = 5, df = 60)"
   ]
  },
  {
   "cell_type": "code",
   "execution_count": 4,
   "metadata": {},
   "outputs": [
    {
     "data": {
      "text/html": [
       "7.90992786023712"
      ],
      "text/latex": [
       "7.90992786023712"
      ],
      "text/markdown": [
       "7.90992786023712"
      ],
      "text/plain": [
       "[1] 7.909928"
      ]
     },
     "metadata": {},
     "output_type": "display_data"
    }
   ],
   "source": [
    "(qtukey(p = 0.95, nmeans = 5, df = 60)^2)/2"
   ]
  },
  {
   "cell_type": "markdown",
   "metadata": {},
   "source": [
    "**e. What implications does the difference in critical values you found in parts (b) and (d) have for revising planned comparisons after having examined the data?**"
   ]
  },
  {
   "cell_type": "markdown",
   "metadata": {},
   "source": [
    "**Solution.** In this case, Tukey's HSD is much more extreme (conservative) compared to the Bonferroni adjustment. The Bonferroni adjustment accounts for the fact that we are only making 3 out of 10 possible pairwise comparisons, while the number of comparisons does not matter for Tukey's HSD. In effect, we pay a lot for revising a planned comparison, in the form of a raised threshold of significance.\n",
    "\n",
    "One thing to note is that we would expect the Bonferroni adjustment to be more conservative when we do all possible comparisons. If we do all possible comparisons, the Bonferroni $F_{0.05/10} = 8.495$ is indeed more extreme than $F_{HSD} = 7.910$."
   ]
  },
  {
   "cell_type": "code",
   "execution_count": 5,
   "metadata": {},
   "outputs": [
    {
     "data": {
      "text/html": [
       "8.49461671488444"
      ],
      "text/latex": [
       "8.49461671488444"
      ],
      "text/markdown": [
       "8.49461671488444"
      ],
      "text/plain": [
       "[1] 8.494617"
      ]
     },
     "metadata": {},
     "output_type": "display_data"
    }
   ],
   "source": [
    "qf(0.005, 1, 60, lower.tail=FALSE)"
   ]
  },
  {
   "cell_type": "markdown",
   "metadata": {},
   "source": [
    "**2. The following data are from a completely randomized between-subjects design:**"
   ]
  },
  {
   "cell_type": "code",
   "execution_count": 31,
   "metadata": {},
   "outputs": [],
   "source": [
    "library(ggplot2)\n",
    "library(psych, warn.conflicts=FALSE)\n",
    "library(multcomp, warn.conflicts=FALSE)"
   ]
  },
  {
   "cell_type": "code",
   "execution_count": 7,
   "metadata": {},
   "outputs": [
    {
     "data": {
      "text/html": [
       "<table>\n",
       "<caption>A matrix: 6 × 3 of type dbl</caption>\n",
       "<thead>\n",
       "\t<tr><th scope=col>one</th><th scope=col>two</th><th scope=col>three</th></tr>\n",
       "</thead>\n",
       "<tbody>\n",
       "\t<tr><td>48</td><td>59</td><td>68</td></tr>\n",
       "\t<tr><td>54</td><td>46</td><td>62</td></tr>\n",
       "\t<tr><td>47</td><td>49</td><td>53</td></tr>\n",
       "\t<tr><td>54</td><td>63</td><td>59</td></tr>\n",
       "\t<tr><td>62</td><td>38</td><td>67</td></tr>\n",
       "\t<tr><td>57</td><td>58</td><td>71</td></tr>\n",
       "</tbody>\n",
       "</table>\n"
      ],
      "text/latex": [
       "A matrix: 6 × 3 of type dbl\n",
       "\\begin{tabular}{lll}\n",
       " one & two & three\\\\\n",
       "\\hline\n",
       "\t 48 & 59 & 68\\\\\n",
       "\t 54 & 46 & 62\\\\\n",
       "\t 47 & 49 & 53\\\\\n",
       "\t 54 & 63 & 59\\\\\n",
       "\t 62 & 38 & 67\\\\\n",
       "\t 57 & 58 & 71\\\\\n",
       "\\end{tabular}\n"
      ],
      "text/markdown": [
       "\n",
       "A matrix: 6 × 3 of type dbl\n",
       "\n",
       "| one | two | three |\n",
       "|---|---|---|\n",
       "| 48 | 59 | 68 |\n",
       "| 54 | 46 | 62 |\n",
       "| 47 | 49 | 53 |\n",
       "| 54 | 63 | 59 |\n",
       "| 62 | 38 | 67 |\n",
       "| 57 | 58 | 71 |\n",
       "\n"
      ],
      "text/plain": [
       "     one two three\n",
       "[1,] 48  59  68   \n",
       "[2,] 54  46  62   \n",
       "[3,] 47  49  53   \n",
       "[4,] 54  63  59   \n",
       "[5,] 62  38  67   \n",
       "[6,] 57  58  71   "
      ]
     },
     "metadata": {},
     "output_type": "display_data"
    }
   ],
   "source": [
    "one = c(48, 54, 47, 54, 62, 57)\n",
    "two = c(59, 46, 49, 63, 38, 58)\n",
    "three = c(68, 62, 53, 59, 67, 71)\n",
    "dataset = cbind(one, two, three)\n",
    "dataset"
   ]
  },
  {
   "cell_type": "markdown",
   "metadata": {},
   "source": [
    "**Four psychologists analyze this dataset individually, each with different goals in mind. Your task is to duplicate the results obtained by each. You may use R, but make sure that you report the observed and critical values (as if you were doing it by hand) for each part.**"
   ]
  },
  {
   "cell_type": "markdown",
   "metadata": {},
   "source": [
    "Before we start, let's take a look at the data first:"
   ]
  },
  {
   "cell_type": "code",
   "execution_count": 8,
   "metadata": {},
   "outputs": [
    {
     "data": {
      "text/plain": [
       "\n",
       " Descriptive statistics by group \n",
       "group: 1\n",
       "   vars n  mean   sd median trimmed  mad min max range skew kurtosis   se\n",
       "X1    1 6 53.67 5.61     54   53.67 6.67  47  62    15 0.13    -1.66 2.29\n",
       "------------------------------------------------------------ \n",
       "group: 2\n",
       "   vars n  mean   sd median trimmed  mad min max range  skew kurtosis   se\n",
       "X1    1 6 52.17 9.45   53.5   52.17 9.64  38  63    25 -0.26    -1.77 3.86\n",
       "------------------------------------------------------------ \n",
       "group: 3\n",
       "   vars n  mean   sd median trimmed  mad min max range  skew kurtosis   se\n",
       "X1    1 6 63.33 6.65   64.5   63.33 6.67  53  71    18 -0.33    -1.65 2.72"
      ]
     },
     "metadata": {},
     "output_type": "display_data"
    }
   ],
   "source": [
    "experiment = data.frame(cbind(c(one, two, three), c(rep(1,6), rep(2,6), rep(3,6))))\n",
    "names(experiment)[1] = 'obsrvs'\n",
    "names(experiment)[2] = 'group'\n",
    "\n",
    "experiment$group = factor(experiment$group)\n",
    "describeBy(experiment$obsrvs, experiment$group)"
   ]
  },
  {
   "cell_type": "code",
   "execution_count": 9,
   "metadata": {},
   "outputs": [
    {
     "name": "stderr",
     "output_type": "stream",
     "text": [
      "`stat_bindot()` using `bins = 30`. Pick better value with `binwidth`.\n",
      "\n"
     ]
    },
    {
     "data": {
      "image/png": "[encoded data removed]",
      "text/plain": [
       "plot without title"
      ]
     },
     "metadata": {
      "image/png": {
       "height": 420,
       "width": 420
      }
     },
     "output_type": "display_data"
    }
   ],
   "source": [
    "ggplot(experiment, aes(x=factor(group), y=obsrvs, fill=group)) +\n",
    "    geom_boxplot(alpha=0.7) +\n",
    "    xlab(\"Group\") +\n",
    "    ylab(\"Observations\") + \n",
    "    stat_summary(fun=mean, geom=\"point\", shape=20, size=14, color=\"blue\", fill=\"blue\") +\n",
    "    theme(legend.position=\"none\") +\n",
    "    scale_fill_brewer(palette=\"Set1\") +\n",
    "    theme_bw(base_size = 16)+\n",
    "    geom_hline(yintercept= mean(experiment$obsrvs), linetype=\"dashed\", color = \"darkblue\", size=2) +\n",
    "    geom_dotplot(binaxis='y', stackdir='center', dotsize=1)"
   ]
  },
  {
   "cell_type": "markdown",
   "metadata": {},
   "source": [
    "Right off the bat, we can see that Group 3 looks pretty different from Groups 1 & 2."
   ]
  },
  {
   "cell_type": "markdown",
   "metadata": {},
   "source": [
    "**a. Psychologist #1 formulates three planned comparisons of interest: Group 1 vs. Group 2, Group 1 vs. Group 3, and Group 2 vs. Group 3. Perform these planned comparisons, assuming homogeneity of variance. Provide observed and critical values.**"
   ]
  },
  {
   "cell_type": "markdown",
   "metadata": {},
   "source": [
    "**Solution.** Let's first do an omnibus ANOVA test."
   ]
  },
  {
   "cell_type": "code",
   "execution_count": 10,
   "metadata": {},
   "outputs": [
    {
     "data": {
      "text/plain": [
       "            Df Sum Sq Mean Sq F value Pr(>F)  \n",
       "group        2  440.8  220.39   4.005 0.0404 *\n",
       "Residuals   15  825.5   55.03                 \n",
       "---\n",
       "Signif. codes:  0 ‘***’ 0.001 ‘**’ 0.01 ‘*’ 0.05 ‘.’ 0.1 ‘ ’ 1"
      ]
     },
     "metadata": {},
     "output_type": "display_data"
    }
   ],
   "source": [
    "full = aov(obsrvs~group, data=experiment)\n",
    "summary(full)"
   ]
  },
  {
   "cell_type": "markdown",
   "metadata": {},
   "source": [
    "Then we'll articulate the contrasts:"
   ]
  },
  {
   "cell_type": "code",
   "execution_count": 11,
   "metadata": {},
   "outputs": [],
   "source": [
    "c1 = c(1, -1, 0)\n",
    "c2 = c(1, 0, -1)\n",
    "c3 = c(0, 1, -1)"
   ]
  },
  {
   "cell_type": "markdown",
   "metadata": {},
   "source": [
    "And then we'll run the contrasts using the `multcomp` package. We pay no mind to anything but the $t$ values."
   ]
  },
  {
   "cell_type": "code",
   "execution_count": 25,
   "metadata": {},
   "outputs": [
    {
     "data": {
      "text/plain": [
       "\n",
       "\t Simultaneous Tests for General Linear Hypotheses\n",
       "\n",
       "Multiple Comparisons of Means: User-defined Contrasts\n",
       "\n",
       "\n",
       "Fit: aov(formula = obsrvs ~ group, data = experiment)\n",
       "\n",
       "Linear Hypotheses:\n",
       "                         Estimate Std. Error t value Pr(>|t|)  \n",
       "Group 1 vs. Group 2 == 0    1.500      4.283   0.350   0.9349  \n",
       "Group 1 vs. Group 3 == 0   -9.667      4.283  -2.257   0.0935 .\n",
       "Group 2 vs. Group 3 == 0  -11.167      4.283  -2.607   0.0491 *\n",
       "---\n",
       "Signif. codes:  0 ‘***’ 0.001 ‘**’ 0.01 ‘*’ 0.05 ‘.’ 0.1 ‘ ’ 1\n",
       "(Adjusted p values reported -- single-step method)\n"
      ]
     },
     "metadata": {},
     "output_type": "display_data"
    }
   ],
   "source": [
    "contrasts <- rbind(\"Group 1 vs. Group 2\" = c1,\n",
    "                   \"Group 1 vs. Group 3\" = c2,\n",
    "                   \"Group 2 vs. Group 3\" = c3)\n",
    "contrast_mod <- glht(full, linfct = mcp(group = contrasts))\n",
    "summary(contrast_mod)"
   ]
  },
  {
   "cell_type": "markdown",
   "metadata": {},
   "source": [
    "Now, we can calculate the $F$ statistics for all comparisons by squaring the $t$ values. "
   ]
  },
  {
   "cell_type": "code",
   "execution_count": 13,
   "metadata": {},
   "outputs": [
    {
     "data": {
      "text/html": [
       "0.1225"
      ],
      "text/latex": [
       "0.1225"
      ],
      "text/markdown": [
       "0.1225"
      ],
      "text/plain": [
       "[1] 0.1225"
      ]
     },
     "metadata": {},
     "output_type": "display_data"
    },
    {
     "data": {
      "text/html": [
       "5.094049"
      ],
      "text/latex": [
       "5.094049"
      ],
      "text/markdown": [
       "5.094049"
      ],
      "text/plain": [
       "[1] 5.094049"
      ]
     },
     "metadata": {},
     "output_type": "display_data"
    },
    {
     "data": {
      "text/html": [
       "6.796449"
      ],
      "text/latex": [
       "6.796449"
      ],
      "text/markdown": [
       "6.796449"
      ],
      "text/plain": [
       "[1] 6.796449"
      ]
     },
     "metadata": {},
     "output_type": "display_data"
    }
   ],
   "source": [
    "0.35^2     # 1 vs 2\n",
    "(-2.257)^2 # 1 vs 3\n",
    "(-2.607)^2 # 2 vs 3"
   ]
  },
  {
   "cell_type": "markdown",
   "metadata": {},
   "source": [
    "So we have the $F$ statistics for each of the 3 comparisons. Now, we need a critical $F$ value to compare these against. "
   ]
  },
  {
   "cell_type": "markdown",
   "metadata": {},
   "source": [
    "My initial impulse was to do a Bonferroni adjustment because we have what seems like a small number of planned contrasts. However, it turns out that 3 comparisons actually constitute all possible pairwise comparisons for 3 groups ($\\frac{3\\times 2}{2} = 3$). Since we are doing *all* pairwise contrasts and Tukey's HSD can deal with both planned and post hoc comparisons, Tukey's HSD is most appropriate here.\n",
    "\n",
    "For 3 groups and $df_{within} = 15$, we find that $q = 3.673$ and $F_{HSD} = 6.747$."
   ]
  },
  {
   "cell_type": "code",
   "execution_count": 14,
   "metadata": {},
   "outputs": [
    {
     "data": {
      "text/html": [
       "3.67337762497445"
      ],
      "text/latex": [
       "3.67337762497445"
      ],
      "text/markdown": [
       "3.67337762497445"
      ],
      "text/plain": [
       "[1] 3.673378"
      ]
     },
     "metadata": {},
     "output_type": "display_data"
    }
   ],
   "source": [
    "q = qtukey(p = 0.95, nmeans = 3, df = 15)\n",
    "q"
   ]
  },
  {
   "cell_type": "code",
   "execution_count": 15,
   "metadata": {},
   "outputs": [
    {
     "data": {
      "text/html": [
       "6.74685158783147"
      ],
      "text/latex": [
       "6.74685158783147"
      ],
      "text/markdown": [
       "6.74685158783147"
      ],
      "text/plain": [
       "[1] 6.746852"
      ]
     },
     "metadata": {},
     "output_type": "display_data"
    }
   ],
   "source": [
    "F_HSD = (q^2)/2\n",
    "F_HSD"
   ]
  },
  {
   "cell_type": "markdown",
   "metadata": {},
   "source": [
    "So it looks like only the third (Group 2 vs. Group 3) contrast is significant, since $F_{\\psi_3} = 6.796$ is more extreme than $F_{HSD} = 6.747$. "
   ]
  },
  {
   "cell_type": "code",
   "execution_count": 26,
   "metadata": {},
   "outputs": [
    {
     "data": {
      "text/plain": [
       "  Tukey multiple comparisons of means\n",
       "    95% family-wise confidence level\n",
       "\n",
       "Fit: aov(formula = obsrvs ~ group, data = experiment)\n",
       "\n",
       "$group\n",
       "         diff         lwr       upr     p adj\n",
       "2-1 -1.500000 -12.6250728  9.625073 0.9349151\n",
       "3-1  9.666667  -1.4584061 20.791739 0.0936399\n",
       "3-2 11.166667   0.0415939 22.291739 0.0490903\n"
      ]
     },
     "metadata": {},
     "output_type": "display_data"
    }
   ],
   "source": [
    "TukeyHSD(full, \"group\")"
   ]
  },
  {
   "cell_type": "code",
   "execution_count": 30,
   "metadata": {},
   "outputs": [
    {
     "data": {
      "text/plain": [
       "$statistics\n",
       "   MSerror Df     Mean       CV      MSD\n",
       "  55.03333 15 56.38889 13.15586 11.12507\n",
       "\n",
       "$parameters\n",
       "   test name.t ntr StudentizedRange alpha\n",
       "  Tukey  group   3         3.673378  0.05\n",
       "\n",
       "$means\n",
       "    obsrvs      std r Min Max   Q25  Q50   Q75\n",
       "1 53.66667 5.609516 6  47  62 49.50 54.0 56.25\n",
       "2 52.16667 9.453394 6  38  63 46.75 53.5 58.75\n",
       "3 63.33333 6.653320 6  53  71 59.75 64.5 67.75\n",
       "\n",
       "$comparison\n",
       "NULL\n",
       "\n",
       "$groups\n",
       "    obsrvs groups\n",
       "3 63.33333      a\n",
       "1 53.66667     ab\n",
       "2 52.16667      b\n",
       "\n",
       "attr(,\"class\")\n",
       "[1] \"group\""
      ]
     },
     "metadata": {},
     "output_type": "display_data"
    }
   ],
   "source": [
    "library(agricolae)\n",
    "test = HSD.test(full, trt = \"group\")\n",
    "test"
   ]
  },
  {
   "cell_type": "markdown",
   "metadata": {},
   "source": [
    "Just to check, I conducted the Bonferroni adjustment, and found that it is more conservative than Tukey's HSD, as expected. None of the contrasts are significant under Bonferroni (i.e. all $F_\\psi < F_{0.0167;1,15} = 7.251$):"
   ]
  },
  {
   "cell_type": "code",
   "execution_count": 16,
   "metadata": {},
   "outputs": [
    {
     "data": {
      "text/html": [
       "7.25086193733501"
      ],
      "text/latex": [
       "7.25086193733501"
      ],
      "text/markdown": [
       "7.25086193733501"
      ],
      "text/plain": [
       "[1] 7.250862"
      ]
     },
     "metadata": {},
     "output_type": "display_data"
    }
   ],
   "source": [
    "qf(0.0167, 1, 15, lower.tail=FALSE)"
   ]
  },
  {
   "cell_type": "markdown",
   "metadata": {},
   "source": [
    "**b. Psychologist #2 has no a priori comparisons, so she first performs the omnibus test. Following this, all pairwise comparisons are tested for significance, assuming homogeneity of variance. Provide observed and critical values.**"
   ]
  },
  {
   "cell_type": "markdown",
   "metadata": {},
   "source": [
    "**Solution.** We would follow the same procedure in (2a), obtain the same $F_{HSD} = 6.747$ and find only the third contrast (2 vs 3) as significant. This is because Tukey's HSD works for both planned and post hoc comparisons as long as we are making all possible pairwise comparisons. \n",
    "\n",
    "*This is something that doesn't quite make sense to me—so, if we do all pairwise comparisons, does it not matter whether they are planned or post hoc? Do we not pay any penalties for conducting post hoc comparisons, as long as we do all pairwise comparisons? Should I have done a Fisher's LSD?*"
   ]
  },
  {
   "cell_type": "markdown",
   "metadata": {},
   "source": [
    "**c. Psychologist #3 differs from Psychologist #2 only in that she decides post hoc to test not only all pairwise comparisons, but also the average of Groups 1 and 2 vs. Group 3. Like Psychologist #2, she assumes homogeneity of variance. Provide observed and critical values.**"
   ]
  },
  {
   "cell_type": "markdown",
   "metadata": {},
   "source": [
    "**Solution.** Since we have a complex comparison among our comparisons, and since all our comparisons are *post hoc*, Scheffé's method is most appropriate (if the comparisons were planned, Bonferroni would be better)."
   ]
  },
  {
   "cell_type": "markdown",
   "metadata": {},
   "source": [
    "Let's run the comparisons first. Here are the contrasts:"
   ]
  },
  {
   "cell_type": "code",
   "execution_count": 17,
   "metadata": {},
   "outputs": [],
   "source": [
    "c1 = c(1, -1, 0)\n",
    "c2 = c(1, 0, -1)\n",
    "c3 = c(0, 1, -1)\n",
    "c4 = c(0.5, 0.5, -1)"
   ]
  },
  {
   "cell_type": "markdown",
   "metadata": {},
   "source": [
    "We want to get the $t$ values from here:"
   ]
  },
  {
   "cell_type": "code",
   "execution_count": 18,
   "metadata": {},
   "outputs": [
    {
     "data": {
      "text/plain": [
       "\n",
       "\t Simultaneous Tests for General Linear Hypotheses\n",
       "\n",
       "Multiple Comparisons of Means: User-defined Contrasts\n",
       "\n",
       "\n",
       "Fit: aov(formula = obsrvs ~ group, data = experiment)\n",
       "\n",
       "Linear Hypotheses:\n",
       "                              Estimate Std. Error t value Pr(>|t|)  \n",
       "Group 1 vs. Group 2 == 0         1.500      4.283   0.350   0.9364  \n",
       "Group 1 vs. Group 3 == 0        -9.667      4.283  -2.257   0.0982 .\n",
       "Group 2 vs. Group 3 == 0       -11.167      4.283  -2.607   0.0520 .\n",
       "Groups 1 & 2 vs. Group 3 == 0  -10.417      3.709  -2.808   0.0356 *\n",
       "---\n",
       "Signif. codes:  0 ‘***’ 0.001 ‘**’ 0.01 ‘*’ 0.05 ‘.’ 0.1 ‘ ’ 1\n",
       "(Adjusted p values reported -- single-step method)\n"
      ]
     },
     "metadata": {},
     "output_type": "display_data"
    }
   ],
   "source": [
    "contrasts <- rbind(\"Group 1 vs. Group 2\" = c1,\n",
    "                   \"Group 1 vs. Group 3\" = c2,\n",
    "                   \"Group 2 vs. Group 3\" = c3,\n",
    "                  \"Groups 1 & 2 vs. Group 3\" = c4)\n",
    "contrast_mod <- glht(full, linfct = mcp(group = contrasts))\n",
    "summary(contrast_mod)"
   ]
  },
  {
   "cell_type": "markdown",
   "metadata": {},
   "source": [
    "And obtain the $F$ statistics for all contrasts by squaring their $t$ values:"
   ]
  },
  {
   "cell_type": "code",
   "execution_count": 19,
   "metadata": {},
   "outputs": [
    {
     "data": {
      "text/html": [
       "0.1225"
      ],
      "text/latex": [
       "0.1225"
      ],
      "text/markdown": [
       "0.1225"
      ],
      "text/plain": [
       "[1] 0.1225"
      ]
     },
     "metadata": {},
     "output_type": "display_data"
    },
    {
     "data": {
      "text/html": [
       "5.094049"
      ],
      "text/latex": [
       "5.094049"
      ],
      "text/markdown": [
       "5.094049"
      ],
      "text/plain": [
       "[1] 5.094049"
      ]
     },
     "metadata": {},
     "output_type": "display_data"
    },
    {
     "data": {
      "text/html": [
       "6.796449"
      ],
      "text/latex": [
       "6.796449"
      ],
      "text/markdown": [
       "6.796449"
      ],
      "text/plain": [
       "[1] 6.796449"
      ]
     },
     "metadata": {},
     "output_type": "display_data"
    },
    {
     "data": {
      "text/html": [
       "7.884864"
      ],
      "text/latex": [
       "7.884864"
      ],
      "text/markdown": [
       "7.884864"
      ],
      "text/plain": [
       "[1] 7.884864"
      ]
     },
     "metadata": {},
     "output_type": "display_data"
    }
   ],
   "source": [
    "0.350^2    # 1 vs 2\n",
    "(-2.257)^2 # 1 vs 3\n",
    "(-2.607)^2 # 2 vs 3\n",
    "(-2.808)^2 # 1&2 vs 3"
   ]
  },
  {
   "cell_type": "markdown",
   "metadata": {},
   "source": [
    "Now, we can calculate our critical $F_{Scheffé}$. Since we have:\n",
    "\n",
    "* $a = 3$ (3 groups)\n",
    "* $N = 18$ (6 observations per group),"
   ]
  },
  {
   "cell_type": "markdown",
   "metadata": {},
   "source": [
    "$$F_{Scheffé} = (a-1)F_{0.05;a-1,N-a} = (3-1)F_{0.05;3-1,18-3} = 2F_{0.05;2,15} = 7.365$$"
   ]
  },
  {
   "cell_type": "code",
   "execution_count": 20,
   "metadata": {},
   "outputs": [
    {
     "data": {
      "text/html": [
       "7.36464068734648"
      ],
      "text/latex": [
       "7.36464068734648"
      ],
      "text/markdown": [
       "7.36464068734648"
      ],
      "text/plain": [
       "[1] 7.364641"
      ]
     },
     "metadata": {},
     "output_type": "display_data"
    }
   ],
   "source": [
    "2*qf(0.05, 2, 15, lower.tail=FALSE)"
   ]
  },
  {
   "cell_type": "markdown",
   "metadata": {},
   "source": [
    "It looks like only the fourth contrast (Groups 1 & 2 vs. Group 3) is significant ($F_{\\psi_4} =7.884 > F_{Scheffé} = 7.365$)."
   ]
  },
  {
   "cell_type": "markdown",
   "metadata": {},
   "source": [
    "**d. Psychologist #4 performs the same tests as Psychologist #3; however, Psychologist #4 has planned to conduct these particular tests prior to examining the data. Homogeneity is assumed. Provide observed and critical values.**"
   ]
  },
  {
   "cell_type": "markdown",
   "metadata": {},
   "source": [
    "**Solution.** Even though the comparisons are the same as (2c), because our comparisons were *planned*, the Bonferroni adjustment is most appropriate. \n",
    "\n",
    "Since $\\alpha_{PC} = \\frac{0.05}{4} = 0.0125$, $F_{0.0125; 1, 15} = 8.046$."
   ]
  },
  {
   "cell_type": "code",
   "execution_count": 34,
   "metadata": {},
   "outputs": [
    {
     "data": {
      "text/html": [
       "8.04645543813217"
      ],
      "text/latex": [
       "8.04645543813217"
      ],
      "text/markdown": [
       "8.04645543813217"
      ],
      "text/plain": [
       "[1] 8.046455"
      ]
     },
     "metadata": {},
     "output_type": "display_data"
    }
   ],
   "source": [
    "qf(0.05/4, 1, 15, lower.tail=FALSE)"
   ]
  },
  {
   "cell_type": "markdown",
   "metadata": {},
   "source": [
    "If we use the Bonferroni adjustment, *none* of the 4 contrasts are significant! This is puzzling because, according to the lectures, Scheffé's method tends to be more conservative than the Bonferroni adjustment."
   ]
  },
  {
   "cell_type": "markdown",
   "metadata": {},
   "source": [
    "**e. Write a brief explanation (1-2 paragraphs) of why the various psychologists did not all arrive at the same conclusions regarding group differences. You need not specify one approach as “best,” but you should explain the patterns of findings for these data. Also, you need not discuss all findings in relationship to one another; instead, focus your attention on differences that emerge and the reasons for such differences.**"
   ]
  },
  {
   "cell_type": "markdown",
   "metadata": {},
   "source": [
    "**Solution.** First, looking at (2a) and (2b), both arrived at the same conclusion because both used the same exact Tukey's HSD adjustment. It looks like Tukey's HSD does not care whether its pairwise comparisons are planned or post hoc, as long as *all* pairwise comparisons are made. We *could* have gone with Bonferroni for (2a) since all comparisons were planned, but it would have incurred an overly conservative critical $F$ value since we made all possible pairwise comparisons—if we had made only 2 pairwise comparisons, then we would have had a less conservative and more powerful Bonferroni adjustment ($F_{0.025;1,15} = 6.200$) compared to Tukey's HSD ($F_{HSD} = 6.747$)."
   ]
  },
  {
   "cell_type": "code",
   "execution_count": 35,
   "metadata": {},
   "outputs": [
    {
     "data": {
      "text/html": [
       "6.19950093780111"
      ],
      "text/latex": [
       "6.19950093780111"
      ],
      "text/markdown": [
       "6.19950093780111"
      ],
      "text/plain": [
       "[1] 6.199501"
      ]
     },
     "metadata": {},
     "output_type": "display_data"
    }
   ],
   "source": [
    "qf(0.025, 1, 15, lower.tail=FALSE)"
   ]
  },
  {
   "cell_type": "markdown",
   "metadata": {},
   "source": [
    "Second, looking at (2c) and (2d), Scheffé's method (complex, post hoc) found the fourth contrast significant, while the Bonferroni adjustment (complex, planned) found *none* of the contrasts significant. This was puzzling at first because Scheffé's method is generally more conservative and less powerful than Bonferroni. However, after consulting the table in the book (Table 5.9, p. 244), I realized that, for $a=3$ and $df_{within}=15$, the maximum number of contrasts we should use Bonferroni on is 3. In fact, if we make only 3 comparisons, the Bonferroni critical value is more powerful than Scheffé's ($F_{0.05/3;1,15} = 7.256 < F_{Scheffé} = 7.365$), as we would expect. But we made 4 comparisons, which exceeded the advised maximum number of comparisons, so we ended up with a very large Bonferroni $F$. I should have gone with Scheffé's method for both (2c) and (2d). "
   ]
  },
  {
   "cell_type": "code",
   "execution_count": 36,
   "metadata": {},
   "outputs": [
    {
     "data": {
      "text/html": [
       "7.25623151978514"
      ],
      "text/latex": [
       "7.25623151978514"
      ],
      "text/markdown": [
       "7.25623151978514"
      ],
      "text/plain": [
       "[1] 7.256232"
      ]
     },
     "metadata": {},
     "output_type": "display_data"
    }
   ],
   "source": [
    "qf(0.05/3, 1, 15, lower.tail=FALSE)"
   ]
  },
  {
   "cell_type": "markdown",
   "metadata": {},
   "source": [
    "Finally, it's interesting that Tukey's HSD was lower (6.747) compared to the other critical $F$ values. Is it that adding on a complex comparison imposes a higher critical value to meet (a penalty)? "
   ]
  }
 ],
 "metadata": {
  "kernelspec": {
   "display_name": "R",
   "language": "R",
   "name": "ir"
  },
  "language_info": {
   "codemirror_mode": "r",
   "file_extension": ".r",
   "mimetype": "text/x-r-source",
   "name": "R",
   "pygments_lexer": "r",
   "version": "4.0.2"
  }
 },
 "nbformat": 4,
 "nbformat_minor": 4
}
